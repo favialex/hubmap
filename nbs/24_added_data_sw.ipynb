{
 "cells": [
  {
   "cell_type": "markdown",
   "metadata": {},
   "source": [
    "# Experiment 24: 24_added_data_sw\n",
    "\n",
    "Average Test Dice: \n",
    "\n",
    "Public Leaderboard Score: \n",
    "\n",
    "not good"
   ]
  },
  {
   "cell_type": "code",
   "execution_count": 1,
   "metadata": {},
   "outputs": [],
   "source": [
    "EXP_NAME = \"24_added_data_sw\""
   ]
  },
  {
   "cell_type": "code",
   "execution_count": 2,
   "metadata": {},
   "outputs": [],
   "source": [
    "import numpy as np\n",
    "import pandas as pd\n",
    "import matplotlib.pyplot as plt\n",
    "from tqdm import tqdm\n",
    "import os\n",
    "import monai\n",
    "from monai.inferers import sliding_window_inference\n",
    "from typing import Union, Tuple, Any\n",
    "from pathlib import Path\n",
    "Path.ls = lambda p: list(p.iterdir())\n",
    "from functools import partial\n",
    "from fastai.data.transforms import get_image_files\n",
    "import catalyst\n",
    "from catalyst import dl\n",
    "import segmentation_models_pytorch as smp\n",
    "import albumentations as A\n",
    "\n",
    "# Lookahead imports\n",
    "from typing import Callable, Dict, Optional\n",
    "from collections import defaultdict\n",
    "import torch\n",
    "from torch.optim import Optimizer"
   ]
  },
  {
   "cell_type": "code",
   "execution_count": 3,
   "metadata": {},
   "outputs": [],
   "source": [
    "def get_device(verbose: bool = True) -> torch.device:\n",
    "    if torch.cuda.is_available():\n",
    "        device = torch.device(\"cuda:0\")\n",
    "        if verbose: print(\"Using the GPU!\")\n",
    "    else:\n",
    "        device = torch.device(\"cpu\")\n",
    "        if verbose: print(\"Using the CPU!\")\n",
    "    return device\n",
    "    \n",
    "def load_image_monai(fn: Union[Path, str]) -> np.array:\n",
    "    image_array = monai.transforms.LoadImage(image_only=True)(str(fn))\n",
    "    return image_array.__array__().astype(np.uint8)\n",
    "\n",
    "def plot_image_mask(image: np.array, mask: np.array, figsize: Tuple[int, int] = (10, 10)):\n",
    "    if not isinstance(image, type(np.array([0]))): image = image.detach().cpu().numpy()\n",
    "    if not isinstance(mask, type(np.array([0]))): mask = mask.detach().cpu().numpy()\n",
    "    if len(image.shape) == 3 and image.shape[0] == 3: image = image.transpose(1, 2, 0)\n",
    "    if len(mask.shape) == 3 and mask.shape[0] > 1: mask = mask[0]\n",
    "    plt.figure(figsize=figsize)\n",
    "    if image.mean() > 1: plt.imshow(image.astype(np.uint8), interpolation=\"none\")\n",
    "    else: plt.imshow(image.astype(np.float32), interpolation=\"none\")\n",
    "    plt.imshow(mask.astype(np.uint8), cmap=\"jet\", alpha=0.5)\n",
    "    \n",
    "def plot_image(image: np.array, figsize: Tuple[int, int] = (10, 10)):\n",
    "    if not isinstance(image, type(np.array([0]))): image = image.detach().cpu().numpy()\n",
    "    if len(image.shape) == 3 and image.shape[0] == 3: image = image.transpose(1, 2, 0)\n",
    "    plt.figure(figsize=figsize)\n",
    "    plt.imshow(image, interpolation=\"none\")\n",
    "\n",
    "def fn2image(fn: Union[Path, str]) -> np.array:\n",
    "    return load_image_monai(fn)\n",
    "\n",
    "def id2image(fid: str) -> np.array:\n",
    "    fn = id2fn(fid)\n",
    "    return fn2image(fn)\n",
    "\n",
    "def fn2id(fn: Union[Path, str]) -> str:\n",
    "    return str(fn).split(\"/\")[-1].split(\".\")[0]\n",
    "\n",
    "def id2image(fid: str) -> np.array:\n",
    "    fn = id2fn(fid)\n",
    "    return fn2image(fn)\n",
    "\n",
    "def fn2id(fn: Union[Path, str]) -> str:\n",
    "    return str(fn).split(\"/\")[-1].split(\".\")[0]\n",
    "\n",
    "def id2fn(fid: str) -> Path:\n",
    "    return COMBINED_DF[COMBINED_DF.id == int(fid)][\"fnames\"].values[0]\n",
    "\n",
    "def id2rle(fid: str) -> str:\n",
    "    rle = TRAIN_DF[TRAIN_DF.id==int(fid)][\"rle\"].values[0]\n",
    "    return rle\n",
    "\n",
    "def fn2rle(fn: Union[Path, str]) -> str:\n",
    "    fid = fn2id(fn)\n",
    "    return id2rle(fid)\n",
    "\n",
    "def id2organ(fid: str) -> str:\n",
    "    organ = TRAIN_DF[TRAIN_DF.id==int(fid)][\"organ\"].values[0]\n",
    "    return organ\n",
    "\n",
    "def id2shape(fid: str) -> Tuple[int, int]:\n",
    "    width = COMBINED_DF[COMBINED_DF.id==int(fid)][\"img_width\"].values[0]\n",
    "    height = COMBINED_DF[COMBINED_DF.id==int(fid)][\"img_height\"].values[0]\n",
    "    return width, height\n",
    "\n",
    "def fn2shape(fn: Union[Path, str]) -> Tuple[int, int]:\n",
    "    fid = fn2id(fn)\n",
    "    return id2shape(fid)\n",
    "\n",
    "def load_mask(fn: Union[Path, str]) -> np.array:\n",
    "    shape = fn2shape(fn)\n",
    "    rle = fn2rle(fn)\n",
    "    return rle_decode(rle, shape)\n",
    "\n",
    "def fn2mask(fn: Union[Path, str]) -> np.array:\n",
    "    return load_mask(fn)\n",
    "\n",
    "def id2mask(fid: str) -> np.array:\n",
    "    fn = id2fn(fid)\n",
    "    return fn2mask(fn)\n",
    "\n",
    "def save_df(df:Dict[str, Any], df_file:str, replace:bool=False):\n",
    "    if replace: return pd.DataFrame(df).to_csv(df_file, index=False)\n",
    "    try: \n",
    "        d = pd.read_csv(df_file)\n",
    "        d = pd.concat([d, pd.DataFrame(df)])\n",
    "    except FileNotFoundError: \n",
    "        d = pd.DataFrame(df)\n",
    "    d.to_csv(df_file, index=False)\n",
    "\n",
    "def load_df(df_file: str) -> pd.DataFrame:\n",
    "    try:  df = pd.read_csv(df_file)\n",
    "    except FileNotFoundError: df = None\n",
    "    return df\n",
    "\n",
    "def calc_metric(\n",
    "        y_hat:torch.Tensor,\n",
    "        y:torch.Tensor,\n",
    "        metric_func:callable,\n",
    "        process_logits:callable=monai.transforms.Compose([\n",
    "                monai.transforms.EnsureType(), \n",
    "                monai.transforms.Activations(softmax=True),\n",
    "                monai.transforms.AsDiscrete(argmax=True)\n",
    "            ])) -> float:\n",
    "    y_hat = [process_logits(i) for i in monai.data.decollate_batch(y_hat)]\n",
    "    y = [i for i in monai.data.decollate_batch(y)]\n",
    "    metric = metric_func(y_hat, y)\n",
    "    metric = metric_func.aggregate().item()\n",
    "    metric_func.reset()\n",
    "    return metric"
   ]
  },
  {
   "cell_type": "code",
   "execution_count": 4,
   "metadata": {},
   "outputs": [],
   "source": [
    "# From: https://www.kaggle.com/code/paulorzp/run-length-encode-and-decode/script\n",
    "def rle_decode(mask_rle, shape):\n",
    "    '''\n",
    "    mask_rle: run-length as string formated (start length)\n",
    "    shape: (height,width) of array to return \n",
    "    Returns numpy array, 1 - mask, 0 - background\n",
    "    '''\n",
    "    s = mask_rle.split()\n",
    "    starts, lengths = [np.asarray(x, dtype=int) for x in (s[0:][::2], s[1:][::2])]\n",
    "    starts -= 1\n",
    "    ends = starts + lengths\n",
    "    img = np.zeros(shape[0]*shape[1], dtype=np.uint8)\n",
    "    for lo, hi in zip(starts, ends):\n",
    "        img[lo:hi] = 1\n",
    "    return np.reshape(img, shape)\n",
    "def rle_encode(img):\n",
    "    '''\n",
    "    img: numpy array, 1 - mask, 0 - background\n",
    "    Returns run length as string formated\n",
    "    '''\n",
    "    pixels = img.flatten()\n",
    "    pixels = np.concatenate([[0], pixels, [0]])\n",
    "    runs = np.where(pixels[1:] != pixels[:-1])[0] + 1\n",
    "    runs[1::2] -= runs[::2]\n",
    "    return ' '.join(str(x) for x in runs)"
   ]
  },
  {
   "cell_type": "code",
   "execution_count": 5,
   "metadata": {},
   "outputs": [],
   "source": [
    "def split_df_train_test(df, colname, seed=9210, test_pct=0.2):\n",
    "    df = df.copy()\n",
    "    np.random.seed(seed)\n",
    "    indices = np.arange(len(df))\n",
    "    np.random.shuffle(indices)\n",
    "    test_ids = df.id.values[indices[:int(test_pct*len(indices))]]\n",
    "    df[colname] = df.id.apply(lambda fid: fid in test_ids)\n",
    "    return df"
   ]
  },
  {
   "cell_type": "code",
   "execution_count": 6,
   "metadata": {},
   "outputs": [],
   "source": [
    "class Lookahead(Optimizer):\n",
    "    \"\"\"Implements Lookahead algorithm.\n",
    "\n",
    "    It has been proposed in `Lookahead Optimizer: k steps forward,\n",
    "    1 step back`_.\n",
    "\n",
    "    Main origins of inspiration:\n",
    "        https://github.com/alphadl/lookahead.pytorch (MIT License)\n",
    "\n",
    "    .. _`Lookahead Optimizer\\: k steps forward, 1 step back`:\n",
    "        https://arxiv.org/abs/1907.08610\n",
    "    \"\"\"\n",
    "\n",
    "    def __init__(self, optimizer: Optimizer, k: int = 5, alpha: float = 0.5):\n",
    "        \"\"\"@TODO: Docs. Contribution is welcome.\"\"\"\n",
    "        self.optimizer = optimizer\n",
    "        self.k = k\n",
    "        self.alpha = alpha\n",
    "        self.param_groups = self.optimizer.param_groups\n",
    "        self.defaults = self.optimizer.defaults\n",
    "        self.state = defaultdict(dict)\n",
    "        self.fast_state = self.optimizer.state\n",
    "        for group in self.param_groups:\n",
    "            group[\"counter\"] = 0\n",
    "\n",
    "\n",
    "    def update(self, group):\n",
    "        \"\"\"@TODO: Docs. Contribution is welcome.\"\"\"\n",
    "        for fast in group[\"params\"]:\n",
    "            param_state = self.state[fast]\n",
    "            if \"slow_param\" not in param_state:\n",
    "                param_state[\"slow_param\"] = torch.zeros_like(fast.data)\n",
    "                param_state[\"slow_param\"].copy_(fast.data)\n",
    "            slow = param_state[\"slow_param\"]\n",
    "            slow += (fast.data - slow) * self.alpha\n",
    "            fast.data.copy_(slow)\n",
    "\n",
    "\n",
    "    def update_lookahead(self):\n",
    "        \"\"\"@TODO: Docs. Contribution is welcome.\"\"\"\n",
    "        for group in self.param_groups:\n",
    "            self.update(group)\n",
    "\n",
    "\n",
    "    def step(self, closure: Optional[Callable] = None):\n",
    "        \"\"\"Makes optimizer step.\n",
    "\n",
    "        Args:\n",
    "            closure (callable, optional): A closure that reevaluates\n",
    "                the model and returns the loss.\n",
    "        \"\"\"\n",
    "        loss = self.optimizer.step(closure)\n",
    "        for group in self.param_groups:\n",
    "            if group[\"counter\"] == 0:\n",
    "                self.update(group)\n",
    "            group[\"counter\"] += 1\n",
    "            if group[\"counter\"] >= self.k:\n",
    "                group[\"counter\"] = 0\n",
    "        return loss\n",
    "\n",
    "\n",
    "    def state_dict(self):\n",
    "        \"\"\"@TODO: Docs. Contribution is welcome.\"\"\"\n",
    "        fast_state_dict = self.optimizer.state_dict()\n",
    "        slow_state = {\n",
    "            (id(k) if isinstance(k, torch.Tensor) else k): v\n",
    "            for k, v in self.state.items()\n",
    "        }\n",
    "        fast_state = fast_state_dict[\"state\"]\n",
    "        param_groups = fast_state_dict[\"param_groups\"]\n",
    "        return {\n",
    "            \"fast_state\": fast_state,\n",
    "            \"slow_state\": slow_state,\n",
    "            \"param_groups\": param_groups,\n",
    "        }\n",
    "\n",
    "\n",
    "    def load_state_dict(self, state_dict):\n",
    "        \"\"\"@TODO: Docs. Contribution is welcome.\"\"\"\n",
    "        slow_state_dict = {\n",
    "            \"state\": state_dict[\"slow_state\"],\n",
    "            \"param_groups\": state_dict[\"param_groups\"],\n",
    "        }\n",
    "        fast_state_dict = {\n",
    "            \"state\": state_dict[\"fast_state\"],\n",
    "            \"param_groups\": state_dict[\"param_groups\"],\n",
    "        }\n",
    "        super(Lookahead, self).load_state_dict(slow_state_dict)\n",
    "        self.optimizer.load_state_dict(fast_state_dict)\n",
    "        self.fast_state = self.optimizer.state\n",
    "\n",
    "\n",
    "    def add_param_group(self, param_group):\n",
    "        \"\"\"@TODO: Docs. Contribution is welcome.\"\"\"\n",
    "        param_group[\"counter\"] = 0\n",
    "        self.optimizer.add_param_group(param_group)\n",
    "\n",
    "\n",
    "    @classmethod\n",
    "    def get_from_params(\n",
    "        cls, params: Dict, base_optimizer_params: Dict = None, **kwargs,\n",
    "    ) -> \"Lookahead\":\n",
    "        \"\"\"@TODO: Docs. Contribution is welcome.\"\"\"\n",
    "        from catalyst.dl.registry import OPTIMIZERS\n",
    "\n",
    "        base_optimizer = OPTIMIZERS.get_from_params(\n",
    "            params=params, **base_optimizer_params\n",
    "        )\n",
    "        optimizer = cls(optimizer=base_optimizer, **kwargs)\n",
    "        return optimizer"
   ]
  },
  {
   "cell_type": "code",
   "execution_count": 7,
   "metadata": {},
   "outputs": [],
   "source": [
    "TRAIN_DF = pd.read_csv(\"../data/train.csv\")\n",
    "TEST_DF = pd.read_csv(\"../data/test.csv\")\n",
    "\n",
    "TRAIN_IMAGES = get_image_files(\"../data/train_images\")\n",
    "TEST_IMAGES = get_image_files(\"../data/test_images\")\n",
    "ALL_IMAGES = [*TRAIN_IMAGES, *TEST_IMAGES]"
   ]
  },
  {
   "cell_type": "code",
   "execution_count": 8,
   "metadata": {},
   "outputs": [
    {
     "name": "stdout",
     "output_type": "stream",
     "text": [
      "Using the GPU!\n"
     ]
    }
   ],
   "source": [
    "KEYS = [\"image\", \"label\"]\n",
    "IMAGE = \"image\"\n",
    "LABEL = \"label\"\n",
    "DEVICE = get_device()\n",
    "TRANSFORM_PROB = 0.5\n",
    "CROP_SIZE = (2700, 2700)\n",
    "IMAGE_SIZE = (512, 512)\n",
    "MIN_CROP_SIZE = (160, 160) # Smallest imagesize in hidden testset (https://www.kaggle.com/competitions/hubmap-organ-segmentation/data)\n",
    "EPOCHS = 200\n",
    "ACCUM_STEPS = 2\n",
    "BATCH_SIZE = 4\n",
    "SW_ROISIZE = (160, 160)\n",
    "SW_BATCHSIZE = 4\n",
    "SW_OVERLAP = 0.5\n",
    "LR_BS = 4.6875e-05\n",
    "LR = LR_BS * BATCH_SIZE * ACCUM_STEPS\n",
    "EARLY_STOP_PATIENCE = 100\n",
    "ENCODER = \"efficientnet-b5\"\n",
    "GAUSS_STD = 0.8 * IMAGE_SIZE[0] / 1000 \n",
    "\n",
    "LOG_DIR = Path(\"../logs\")/EXP_NAME\n",
    "LOG_DIR.mkdir(exist_ok=True)"
   ]
  },
  {
   "cell_type": "code",
   "execution_count": 9,
   "metadata": {},
   "outputs": [],
   "source": [
    "def add_fnames(df:pd.DataFrame)->pd.DataFrame:\n",
    "    df = df.copy()\n",
    "    fnames = []\n",
    "    for fid in df.id.values: fnames.append([fname for fname in ALL_IMAGES if str(fid) in fname.stem][0])\n",
    "    df[\"fnames\"] = fnames\n",
    "    return df\n",
    "\n",
    "def test_model(\n",
    "        model:torch.nn.Module, \n",
    "        dl:monai.data.DataLoader, \n",
    "        metric_func:callable, \n",
    "        threshold:float=0.5) -> float:\n",
    "    logit_process = monai.transforms.Compose([\n",
    "        monai.transforms.EnsureType(), \n",
    "        monai.transforms.Activations(softmax=True),\n",
    "        monai.transforms.AsDiscrete(threshold=threshold)\n",
    "    ])\n",
    "    model.eval()\n",
    "    preds, trues = [], []\n",
    "    with torch.no_grad():\n",
    "        for data in tqdm(iter(dl), total=len(dl)):\n",
    "            X, y = data[IMAGE].to(DEVICE), data[LABEL]\n",
    "            y_hat = sw_infer(X, model).detach().cpu()\n",
    "            preds = [*preds, *[logit_process(i) for i in y_hat]]\n",
    "            trues = [*trues, *[i for i in monai.data.decollate_batch(y)]]\n",
    "    metric_func(preds, trues)\n",
    "    metric = metric_func.aggregate().item()\n",
    "    metric_func.reset()\n",
    "    return metric\n",
    "\n",
    "def load_weights(model:torch.nn.Module, weights_path:Union[str,Path], device:torch.device=DEVICE)->torch.nn.Module:\n",
    "    state_dict = torch.load(weights_path, map_location=device)\n",
    "    model.load_state_dict(state_dict)\n",
    "    return model.to(device)\n",
    "\n",
    "def make3D(t: np.array) -> np.array:\n",
    "    t = np.expand_dims(t, axis=2)\n",
    "    t = np.concatenate((t,t,t), axis=2)\n",
    "    return t\n",
    "\n",
    "def sw_infer(X:torch.Tensor, model:torch.nn.Module):\n",
    "    #return model(X)\n",
    "    return sliding_window_inference(X, SW_ROISIZE, SW_BATCHSIZE, model, overlap=SW_OVERLAP)\n",
    "\n",
    "def plot_results(model, dl, threshold=0.5, figsize=10):\n",
    "    logit_process = monai.transforms.Compose([\n",
    "        monai.transforms.EnsureType(), \n",
    "        monai.transforms.Activations(softmax=True),\n",
    "        monai.transforms.AsDiscrete(threshold=threshold)\n",
    "    ])\n",
    "    max_size = 2**16\n",
    "    model = model.to(DEVICE)\n",
    "    model.eval()\n",
    "    ims, preds, labels = [], [], []\n",
    "    with torch.no_grad():\n",
    "        for item in tqdm(iter(dl), total=len(dl)):\n",
    "            X, y = item[IMAGE].to(DEVICE), item[LABEL].cpu()\n",
    "            y_hat = sw_infer(X, model).detach().cpu()\n",
    "            ims = [*ims, *[im.numpy() for im in X.detach().cpu()]]\n",
    "            preds = [*preds, *[logit_process(pred).numpy() for pred in y_hat]]\n",
    "            labels = [*labels, *[lbl.numpy() for lbl in y]]\n",
    "    \n",
    "    vs = []\n",
    "    for i, b in enumerate(range(len(preds))):\n",
    "        if (i+1) * preds[0].shape[1] * figsize > max_size:\n",
    "            print(\"Dataset to big, only displaying a portion of it!\")\n",
    "            break\n",
    "        \n",
    "        im = np.einsum(\"cwh->whc\", ims[b])\n",
    "        pred = make3D(preds[b][1])\n",
    "        label = make3D(labels[b][1])\n",
    "        vs.append(np.hstack((im, pred, label)))\n",
    "    \n",
    "\n",
    "    plt.figure(figsize=(figsize, figsize*len(vs)))\n",
    "    plt.title(\"Input / Prediction / Target\")\n",
    "    plt.imshow(np.vstack(vs))\n",
    "\n",
    "def one_batch(\n",
    "        dl:monai.data.DataLoader, \n",
    "        b_idx:int=0, \n",
    "        unpacked:bool=False) -> Union[Dict[str, Any], Tuple[torch.Tensor, torch.Tensor]]:\n",
    "    assert b_idx < len(dl), f\"DataLoader only has {len(dl)} batches...\"\n",
    "    for i, items in enumerate(iter(dl)):\n",
    "        if i == b_idx: \n",
    "            if unpacked:\n",
    "                X, y = items[IMAGE].to(DEVICE), items[LABEL].to(DEVICE)\n",
    "                return X, y\n",
    "            return items\n",
    "def batch2numpy(batch:Dict[str,torch.Tensor])->Tuple[np.array]:\n",
    "    return batch[IMAGE].detach().cpu().numpy(), batch[LABEL].detach().cpu().numpy()\n",
    "def plot_batch(batch:Dict[str, torch.Tensor], figsize:int=10):\n",
    "    X, y = batch2numpy(batch)\n",
    "    vstacks = []\n",
    "    for b in range(X.shape[0]):\n",
    "        im = X[b].transpose(1, 2, 0)\n",
    "        msk = make3D(y[b, 1])\n",
    "        vstacks.append(np.hstack((im,msk)))\n",
    "    patchwork = np.vstack(vstacks)\n",
    "    plt.figure(figsize=(figsize, figsize*X.shape[0]))\n",
    "    plt.imshow(patchwork)"
   ]
  },
  {
   "cell_type": "code",
   "execution_count": 10,
   "metadata": {},
   "outputs": [
    {
     "data": {
      "text/html": [
       "<div>\n",
       "<style scoped>\n",
       "    .dataframe tbody tr th:only-of-type {\n",
       "        vertical-align: middle;\n",
       "    }\n",
       "\n",
       "    .dataframe tbody tr th {\n",
       "        vertical-align: top;\n",
       "    }\n",
       "\n",
       "    .dataframe thead th {\n",
       "        text-align: right;\n",
       "    }\n",
       "</style>\n",
       "<table border=\"1\" class=\"dataframe\">\n",
       "  <thead>\n",
       "    <tr style=\"text-align: right;\">\n",
       "      <th></th>\n",
       "      <th>id</th>\n",
       "      <th>organ</th>\n",
       "      <th>data_source</th>\n",
       "      <th>img_height</th>\n",
       "      <th>img_width</th>\n",
       "      <th>pixel_size</th>\n",
       "      <th>tissue_thickness</th>\n",
       "      <th>age</th>\n",
       "      <th>sex</th>\n",
       "      <th>fnames</th>\n",
       "    </tr>\n",
       "  </thead>\n",
       "  <tbody>\n",
       "    <tr>\n",
       "      <th>0</th>\n",
       "      <td>10044</td>\n",
       "      <td>prostate</td>\n",
       "      <td>HPA</td>\n",
       "      <td>3000</td>\n",
       "      <td>3000</td>\n",
       "      <td>0.4</td>\n",
       "      <td>4</td>\n",
       "      <td>37.0</td>\n",
       "      <td>Male</td>\n",
       "      <td>../data/train_images/10044.tiff</td>\n",
       "    </tr>\n",
       "    <tr>\n",
       "      <th>1</th>\n",
       "      <td>10274</td>\n",
       "      <td>prostate</td>\n",
       "      <td>HPA</td>\n",
       "      <td>3000</td>\n",
       "      <td>3000</td>\n",
       "      <td>0.4</td>\n",
       "      <td>4</td>\n",
       "      <td>76.0</td>\n",
       "      <td>Male</td>\n",
       "      <td>../data/train_images/10274.tiff</td>\n",
       "    </tr>\n",
       "  </tbody>\n",
       "</table>\n",
       "</div>"
      ],
      "text/plain": [
       "      id     organ data_source  img_height  img_width  pixel_size  \\\n",
       "0  10044  prostate         HPA        3000       3000         0.4   \n",
       "1  10274  prostate         HPA        3000       3000         0.4   \n",
       "\n",
       "   tissue_thickness   age   sex                           fnames  \n",
       "0                 4  37.0  Male  ../data/train_images/10044.tiff  \n",
       "1                 4  76.0  Male  ../data/train_images/10274.tiff  "
      ]
     },
     "execution_count": 10,
     "metadata": {},
     "output_type": "execute_result"
    }
   ],
   "source": [
    "TRAIN_DF = add_fnames(TRAIN_DF)\n",
    "TEST_DF = add_fnames(TEST_DF)\n",
    "COMBINED_DF = pd.concat([TRAIN_DF, TEST_DF])\n",
    "COMBINED_DF.drop(columns=\"rle\").head(2)"
   ]
  },
  {
   "cell_type": "code",
   "execution_count": 11,
   "metadata": {},
   "outputs": [
    {
     "data": {
      "text/plain": [
       "(array(['prostate', 'spleen', 'lung', 'kidney', 'largeintestine'],\n",
       "       dtype=object),\n",
       " 36481)"
      ]
     },
     "execution_count": 11,
     "metadata": {},
     "output_type": "execute_result"
    }
   ],
   "source": [
    "ADD_COMBINED_DF = None\n",
    "for organ in TRAIN_DF.organ.unique():\n",
    "    if ADD_COMBINED_DF is None:\n",
    "        ADD_COMBINED_DF = pd.read_csv(f\"../data/additional_images/{organ}.csv\")\n",
    "        continue\n",
    "    ADD_COMBINED_DF = pd.concat([ADD_COMBINED_DF, pd.read_csv(f\"../data/additional_images/{organ}.csv\")])\n",
    "TRAIN_DF.organ.unique(), len(ADD_COMBINED_DF)"
   ]
  },
  {
   "cell_type": "code",
   "execution_count": 12,
   "metadata": {},
   "outputs": [],
   "source": [
    "def alb_wrapper(arr, f):\n",
    "    datatype = arr.dtype\n",
    "    arr = torch.einsum(\"cwh->whc\", arr) * 255.\n",
    "    arr = f(image=arr.numpy().astype(np.uint8))[\"image\"]\n",
    "    arr = torch.Tensor(arr).to(datatype) / 255.\n",
    "    return torch.einsum(\"whc->cwh\", arr)\n",
    "huesat = partial(alb_wrapper, f=A.HueSaturationValue(\n",
    "    p=1, \n",
    "    hue_shift_limit=80,\n",
    "    sat_shift_limit=80, \n",
    "    val_shift_limit=80, \n",
    "    always_apply=True))"
   ]
  },
  {
   "cell_type": "code",
   "execution_count": 13,
   "metadata": {},
   "outputs": [],
   "source": [
    "def get_best_threshold(model, dl, metric_func):\n",
    "    \n",
    "    thresholds = torch.linspace(0.1, 0.9, 17)\n",
    "    res, preds, trues = [], [], []\n",
    "\n",
    "    model.eval()\n",
    "    with torch.no_grad():\n",
    "        for data in tqdm(iter(dl), total=len(dl)):\n",
    "            X, y = data[IMAGE].to(DEVICE), data[LABEL]\n",
    "            y_hat = sw_infer(X, model).detach().cpu()\n",
    "            preds = [*preds, *[i for i in y_hat]]\n",
    "            trues = [*trues, *[i for i in monai.data.decollate_batch(y)]]\n",
    "    \n",
    "    for t in thresholds:\n",
    "        logit_process = monai.transforms.Compose([\n",
    "            monai.transforms.EnsureType(), \n",
    "            monai.transforms.Activations(softmax=True),\n",
    "            monai.transforms.AsDiscrete(threshold=t)\n",
    "        ])\n",
    "        metric_func([logit_process(i) for i in preds], trues)\n",
    "        metric = metric_func.aggregate().item()\n",
    "        metric_func.reset()\n",
    "        res.append((t.detach().cpu().item(), metric))\n",
    "\n",
    "    #for t in thresholds: res.append((t.detach().cpu().item(), test_model(model, dl, threshold=t, metric_func=metric_func)))\n",
    "    return sorted(res, key=lambda tpl: tpl[1], reverse=True)[0]"
   ]
  },
  {
   "cell_type": "code",
   "execution_count": 14,
   "metadata": {},
   "outputs": [],
   "source": [
    "def add_data2rle(fn):\n",
    "    rle = ADD_COMBINED_DF[ADD_COMBINED_DF.fn==fn][\"rles\"].values[0]\n",
    "    try: rle = rle_decode(rle, IMAGE_SIZE)\n",
    "    except:\n",
    "        print(fn, rle)\n",
    "        assert False\n",
    "    return rle"
   ]
  },
  {
   "cell_type": "code",
   "execution_count": 15,
   "metadata": {},
   "outputs": [],
   "source": [
    "def get_load_transforms() -> monai.transforms.Compose:\n",
    "    return monai.transforms.Compose([\n",
    "        monai.transforms.Lambdad((IMAGE,), id2image),\n",
    "        monai.transforms.TransposeD((IMAGE,), (2, 0, 1)),\n",
    "        monai.transforms.Lambdad((LABEL,), id2mask),\n",
    "        monai.transforms.AddChanneld((LABEL,)),\n",
    "        monai.transforms.AsDiscreted((LABEL,), to_onehot=2),\n",
    "        monai.transforms.ScaleIntensityD((IMAGE,)),\n",
    "    ])\n",
    "\n",
    "def get_added_data_load_transforms() -> monai.transforms.Compose:\n",
    "    return monai.transforms.Compose([\n",
    "        monai.transforms.Lambdad((IMAGE,), load_image_monai),\n",
    "        monai.transforms.TransposeD((IMAGE,), (2, 0, 1)),\n",
    "        monai.transforms.Lambdad((LABEL,), add_data2rle),\n",
    "        monai.transforms.AddChanneld((LABEL,)),\n",
    "        monai.transforms.AsDiscreted((LABEL,), to_onehot=2),\n",
    "        monai.transforms.ScaleIntensityD((IMAGE,)),\n",
    "    ])\n",
    "\n",
    "def get_added_data_train_transforms() -> monai.transforms.Compose:\n",
    "    return monai.transforms.Compose([\n",
    "        *get_added_data_load_transforms().transforms,\n",
    "        \n",
    "        #monai.transforms.RandSpatialCropd(KEYS, roi_size=MIN_CROP_SIZE, max_roi_size=CROP_SIZE),\n",
    "        monai.transforms.ResizeD(KEYS, spatial_size=IMAGE_SIZE, mode=(\"bilinear\", \"nearest-exact\")),\n",
    "        monai.transforms.RandRotated(KEYS, range_x=np.pi, prob=1, padding_mode=\"reflection\"),\n",
    "        monai.transforms.Lambdad((IMAGE,), huesat),\n",
    "        \n",
    "        monai.transforms.RandAdjustContrastd((IMAGE,), prob=TRANSFORM_PROB),\n",
    "        monai.transforms.RandGaussianNoised((IMAGE,), prob=TRANSFORM_PROB),\n",
    "        monai.transforms.RandCoarseShuffled((IMAGE,), \n",
    "            holes=2, \n",
    "            max_holes=15, \n",
    "            spatial_size=(int(IMAGE_SIZE[0]*0.01), int(IMAGE_SIZE[1]*0.01)), \n",
    "            max_spatial_size=(int(IMAGE_SIZE[0]*0.1), int(IMAGE_SIZE[1]*0.1)),  \n",
    "            prob=TRANSFORM_PROB),\n",
    "\n",
    "        monai.transforms.AsDiscreteD((LABEL,), threshold=0.5),\n",
    "        monai.transforms.EnsureTypeD(KEYS)\n",
    "])\n",
    "\n",
    "def get_train_transforms() -> monai.transforms.Compose:\n",
    "    return monai.transforms.Compose([\n",
    "        *get_load_transforms().transforms,\n",
    "\n",
    "        monai.transforms.CenterSpatialCropd(KEYS,roi_size=CROP_SIZE),\n",
    "        \n",
    "        monai.transforms.RandSpatialCropd(KEYS, roi_size=MIN_CROP_SIZE, max_roi_size=CROP_SIZE),\n",
    "        monai.transforms.ResizeD(KEYS, spatial_size=IMAGE_SIZE, mode=(\"bilinear\", \"nearest-exact\")),\n",
    "        monai.transforms.RandRotated(KEYS, range_x=np.pi, prob=1, padding_mode=\"reflection\"),\n",
    "        monai.transforms.Lambdad((IMAGE,), huesat),\n",
    "        \n",
    "        monai.transforms.RandAdjustContrastd((IMAGE,), prob=TRANSFORM_PROB),\n",
    "        monai.transforms.RandGaussianNoised((IMAGE,), prob=TRANSFORM_PROB),\n",
    "        monai.transforms.RandCoarseShuffled((IMAGE,), \n",
    "            holes=2, \n",
    "            max_holes=15, \n",
    "            spatial_size=(int(IMAGE_SIZE[0]*0.01), int(IMAGE_SIZE[1]*0.01)), \n",
    "            max_spatial_size=(int(IMAGE_SIZE[0]*0.1), int(IMAGE_SIZE[1]*0.1)),  \n",
    "            prob=TRANSFORM_PROB),\n",
    "\n",
    "        monai.transforms.AsDiscreteD((LABEL,), threshold=0.5),\n",
    "        monai.transforms.EnsureTypeD(KEYS)\n",
    "])\n",
    "\n",
    "def get_added_data_valid_transforms() -> monai.transforms.Compose:\n",
    "    return monai.transforms.Compose([\n",
    "        *get_added_data_load_transforms().transforms,\n",
    "\n",
    "        monai.transforms.ResizeD(KEYS, spatial_size=IMAGE_SIZE, mode=(\"bilinear\", \"nearest-exact\")),\n",
    "        monai.transforms.RandRotated(KEYS, range_x=np.pi, prob=1, padding_mode=\"reflection\"),\n",
    "        monai.transforms.AsDiscreteD((LABEL,), threshold=0.5),\n",
    "        monai.transforms.EnsureTypeD(KEYS)\n",
    "])\n",
    "\n",
    "def get_valid_transforms() -> monai.transforms.Compose:\n",
    "    return monai.transforms.Compose([\n",
    "        *get_load_transforms().transforms,\n",
    "\n",
    "        monai.transforms.ResizeD(KEYS, spatial_size=IMAGE_SIZE, mode=(\"bilinear\", \"nearest-exact\")),\n",
    "        monai.transforms.RandRotated(KEYS, range_x=3.14159, prob=1, padding_mode=\"reflection\"),\n",
    "        monai.transforms.AsDiscreteD((LABEL,), threshold=0.5),\n",
    "        monai.transforms.EnsureTypeD(KEYS)\n",
    "])\n",
    "\n",
    "def get_test_transforms() -> monai.transforms.Compose:\n",
    "    return monai.transforms.Compose([\n",
    "        *get_load_transforms().transforms,\n",
    "\n",
    "        monai.transforms.ResizeD(KEYS, spatial_size=IMAGE_SIZE, mode=(\"bilinear\", \"nearest-exact\")),\n",
    "        monai.transforms.EnsureTypeD(KEYS)\n",
    "])"
   ]
  },
  {
   "cell_type": "code",
   "execution_count": 16,
   "metadata": {},
   "outputs": [],
   "source": [
    "train_seed = 1\n",
    "PRE_EPOCHS = 5\n",
    "EPOCHS = 10\n",
    "CACHE_NUM = 500\n",
    "PRE_VALID_PCT = 0.025"
   ]
  },
  {
   "cell_type": "code",
   "execution_count": 17,
   "metadata": {},
   "outputs": [],
   "source": [
    "import gc"
   ]
  },
  {
   "cell_type": "code",
   "execution_count": null,
   "metadata": {},
   "outputs": [],
   "source": []
  },
  {
   "cell_type": "code",
   "execution_count": 18,
   "metadata": {},
   "outputs": [
    {
     "name": "stderr",
     "output_type": "stream",
     "text": [
      "you are shuffling a 'dict' object which is not a subclass of 'Sequence'; `shuffle` is not guaranteed to behave correctly. E.g., non-numpy array/tensor objects with view semantics may contain duplicates after shuffling.\n",
      "Loading dataset: 100%|██████████| 500/500 [00:09<00:00, 53.09it/s]\n",
      "Loading dataset: 100%|██████████| 168/168 [00:03<00:00, 52.91it/s]\n"
     ]
    },
    {
     "data": {
      "application/vnd.jupyter.widget-view+json": {
       "model_id": "1cf5d11a6b8d43c59a4c3621b32220e2",
       "version_major": 2,
       "version_minor": 0
      },
      "text/plain": [
       "1/5 * Epoch (train):   0%|          | 0/125 [00:00<?, ?it/s]"
      ]
     },
     "metadata": {},
     "output_type": "display_data"
    },
    {
     "name": "stdout",
     "output_type": "stream",
     "text": [
      "train (1/5) dice: 0.28842034584283827 | dice/mean: 0.28842034584283827 | dice/std: 0.07729408481781144 | loss: 0.8541938843727113 | loss/mean: 0.8541938843727113 | loss/std: 0.08032642764314066 | lr: 0.000375 | momentum: 0.9\n"
     ]
    },
    {
     "data": {
      "application/vnd.jupyter.widget-view+json": {
       "model_id": "6def1f1c76b443729eeb6d580eb05075",
       "version_major": 2,
       "version_minor": 0
      },
      "text/plain": [
       "1/5 * Epoch (valid):   0%|          | 0/42 [00:00<?, ?it/s]"
      ]
     },
     "metadata": {},
     "output_type": "display_data"
    },
    {
     "name": "stdout",
     "output_type": "stream",
     "text": [
      "valid (1/5) dice: 0.4300375822044554 | dice/mean: 0.4300375822044554 | dice/std: 0.11934316291462914 | loss: 0.7218172323136103 | loss/mean: 0.7218172323136103 | loss/std: 0.11751764955510927 | lr: 0.000375 | momentum: 0.9\n",
      "* Epoch (1/5) lr: 0.00033919068644530263 | momentum: 0.9\n"
     ]
    },
    {
     "data": {
      "application/vnd.jupyter.widget-view+json": {
       "model_id": "7cf00fe5ac3b4d7bade43627bca2f189",
       "version_major": 2,
       "version_minor": 0
      },
      "text/plain": [
       "2/5 * Epoch (train):   0%|          | 0/125 [00:00<?, ?it/s]"
      ]
     },
     "metadata": {},
     "output_type": "display_data"
    },
    {
     "name": "stdout",
     "output_type": "stream",
     "text": [
      "train (2/5) dice: 0.39102313339710243 | dice/mean: 0.39102313339710243 | dice/std: 0.08894236155143627 | loss: 0.7741188201904294 | loss/mean: 0.7741188201904294 | loss/std: 0.08903294975956988 | lr: 0.00033919068644530263 | momentum: 0.9\n"
     ]
    },
    {
     "data": {
      "application/vnd.jupyter.widget-view+json": {
       "model_id": "233c4eb0a857467d9f6665230744ab80",
       "version_major": 2,
       "version_minor": 0
      },
      "text/plain": [
       "2/5 * Epoch (valid):   0%|          | 0/42 [00:00<?, ?it/s]"
      ]
     },
     "metadata": {},
     "output_type": "display_data"
    },
    {
     "name": "stdout",
     "output_type": "stream",
     "text": [
      "valid (2/5) dice: 0.46149592172531856 | dice/mean: 0.46149592172531856 | dice/std: 0.12544118623124192 | loss: 0.7128719950006123 | loss/mean: 0.7128719950006123 | loss/std: 0.11642734408616902 | lr: 0.00033919068644530263 | momentum: 0.9\n",
      "* Epoch (2/5) lr: 0.00024544068644530265 | momentum: 0.9\n"
     ]
    },
    {
     "data": {
      "application/vnd.jupyter.widget-view+json": {
       "model_id": "70cce2170483463b83eb7cd8e01b1187",
       "version_major": 2,
       "version_minor": 0
      },
      "text/plain": [
       "3/5 * Epoch (train):   0%|          | 0/125 [00:00<?, ?it/s]"
      ]
     },
     "metadata": {},
     "output_type": "display_data"
    },
    {
     "name": "stdout",
     "output_type": "stream",
     "text": [
      "train (3/5) dice: 0.5103983672857286 | dice/mean: 0.5103983672857286 | dice/std: 0.12348101911367321 | loss: 0.6872911908626551 | loss/mean: 0.6872911908626551 | loss/std: 0.11010704564035194 | lr: 0.00024544068644530265 | momentum: 0.9\n"
     ]
    },
    {
     "data": {
      "application/vnd.jupyter.widget-view+json": {
       "model_id": "367e3251093142a7b4fa99c0fc73ed8e",
       "version_major": 2,
       "version_minor": 0
      },
      "text/plain": [
       "3/5 * Epoch (valid):   0%|          | 0/42 [00:00<?, ?it/s]"
      ]
     },
     "metadata": {},
     "output_type": "display_data"
    },
    {
     "name": "stdout",
     "output_type": "stream",
     "text": [
      "valid (3/5) dice: 0.6114161333867482 | dice/mean: 0.6114161333867482 | dice/std: 0.11448239081776543 | loss: 0.6136302649974823 | loss/mean: 0.6136302649974823 | loss/std: 0.1184791957321632 | lr: 0.00024544068644530265 | momentum: 0.9\n",
      "* Epoch (3/5) lr: 0.00012955931355469738 | momentum: 0.9\n"
     ]
    },
    {
     "data": {
      "application/vnd.jupyter.widget-view+json": {
       "model_id": "8a4481cacfd44d859a441b071b8b08ed",
       "version_major": 2,
       "version_minor": 0
      },
      "text/plain": [
       "4/5 * Epoch (train):   0%|          | 0/125 [00:00<?, ?it/s]"
      ]
     },
     "metadata": {},
     "output_type": "display_data"
    },
    {
     "name": "stdout",
     "output_type": "stream",
     "text": [
      "train (4/5) dice: 0.67180979347229 | dice/mean: 0.67180979347229 | dice/std: 0.1054306795097581 | loss: 0.5466001639366155 | loss/mean: 0.5466001639366155 | loss/std: 0.10432332272114897 | lr: 0.00012955931355469738 | momentum: 0.9\n"
     ]
    },
    {
     "data": {
      "application/vnd.jupyter.widget-view+json": {
       "model_id": "a0223bc13d5b426f8c20d52b4a0c854c",
       "version_major": 2,
       "version_minor": 0
      },
      "text/plain": [
       "4/5 * Epoch (valid):   0%|          | 0/42 [00:00<?, ?it/s]"
      ]
     },
     "metadata": {},
     "output_type": "display_data"
    },
    {
     "name": "stdout",
     "output_type": "stream",
     "text": [
      "valid (4/5) dice: 0.770377014364515 | dice/mean: 0.770377014364515 | dice/std: 0.09310314351388665 | loss: 0.4511809412922178 | loss/mean: 0.4511809412922178 | loss/std: 0.11695451557962601 | lr: 0.00012955931355469738 | momentum: 0.9\n",
      "* Epoch (4/5) lr: 3.580931355469737e-05 | momentum: 0.9\n"
     ]
    },
    {
     "data": {
      "application/vnd.jupyter.widget-view+json": {
       "model_id": "2472cb21bb4c414e8ea5ab69c18a983a",
       "version_major": 2,
       "version_minor": 0
      },
      "text/plain": [
       "5/5 * Epoch (train):   0%|          | 0/125 [00:00<?, ?it/s]"
      ]
     },
     "metadata": {},
     "output_type": "display_data"
    },
    {
     "name": "stdout",
     "output_type": "stream",
     "text": [
      "train (5/5) dice: 0.7349866480827328 | dice/mean: 0.7349866480827328 | dice/std: 0.09994493706876086 | loss: 0.43257349801063544 | loss/mean: 0.43257349801063544 | loss/std: 0.10909023872164733 | lr: 3.580931355469737e-05 | momentum: 0.9\n"
     ]
    },
    {
     "data": {
      "application/vnd.jupyter.widget-view+json": {
       "model_id": "2ff80475a58642e19107b02fdb6f72c6",
       "version_major": 2,
       "version_minor": 0
      },
      "text/plain": [
       "5/5 * Epoch (valid):   0%|          | 0/42 [00:00<?, ?it/s]"
      ]
     },
     "metadata": {},
     "output_type": "display_data"
    },
    {
     "name": "stdout",
     "output_type": "stream",
     "text": [
      "valid (5/5) dice: 0.8046268267290931 | dice/mean: 0.8046268267290931 | dice/std: 0.07972347948262361 | loss: 0.3605024807509922 | loss/mean: 0.3605024807509922 | loss/std: 0.10672641728369253 | lr: 3.580931355469737e-05 | momentum: 0.9\n",
      "* Epoch (5/5) lr: 0.000375 | momentum: 0.9\n",
      "Top models:\n",
      "../logs/24_added_data_sw/prostate_pretrained/checkpoints/model.0005.pth\t0.3605\n"
     ]
    },
    {
     "name": "stderr",
     "output_type": "stream",
     "text": [
      "Loading dataset: 100%|██████████| 68/68 [00:16<00:00,  4.17it/s]\n",
      "Loading dataset: 100%|██████████| 16/16 [00:03<00:00,  4.62it/s]\n",
      "Loading dataset: 100%|██████████| 9/9 [00:01<00:00,  4.55it/s]\n"
     ]
    },
    {
     "data": {
      "application/vnd.jupyter.widget-view+json": {
       "model_id": "bdd5ecb64677450e8c04c82b8758a09f",
       "version_major": 2,
       "version_minor": 0
      },
      "text/plain": [
       "1/10 * Epoch (train):   0%|          | 0/17 [00:00<?, ?it/s]"
      ]
     },
     "metadata": {},
     "output_type": "display_data"
    },
    {
     "name": "stdout",
     "output_type": "stream",
     "text": [
      "train (1/10) dice: 0.541901326354812 | dice/mean: 0.541901326354812 | dice/std: 0.13524033069911454 | loss: 0.5455130321138045 | loss/mean: 0.5455130321138045 | loss/std: 0.15789134479883246 | lr: 0.000375 | momentum: 0.9\n"
     ]
    },
    {
     "data": {
      "application/vnd.jupyter.widget-view+json": {
       "model_id": "5406cf4a4d4840a0904d7f569dd77319",
       "version_major": 2,
       "version_minor": 0
      },
      "text/plain": [
       "1/10 * Epoch (valid):   0%|          | 0/4 [00:00<?, ?it/s]"
      ]
     },
     "metadata": {},
     "output_type": "display_data"
    },
    {
     "name": "stdout",
     "output_type": "stream",
     "text": [
      "valid (1/10) dice: 0.8080601394176483 | dice/mean: 0.8080601394176483 | dice/std: 0.031671267563219536 | loss: 0.366252601146698 | loss/mean: 0.366252601146698 | loss/std: 0.03692970519073743 | lr: 0.000375 | momentum: 0.9\n",
      "* Epoch (1/10) lr: 0.00033919068644530263 | momentum: 0.9\n"
     ]
    },
    {
     "data": {
      "application/vnd.jupyter.widget-view+json": {
       "model_id": "bef122275b0c488bac6c7a00ecbd36d1",
       "version_major": 2,
       "version_minor": 0
      },
      "text/plain": [
       "2/10 * Epoch (train):   0%|          | 0/17 [00:00<?, ?it/s]"
      ]
     },
     "metadata": {},
     "output_type": "display_data"
    },
    {
     "name": "stdout",
     "output_type": "stream",
     "text": [
      "train (2/10) dice: 0.5776938778512619 | dice/mean: 0.5776938778512619 | dice/std: 0.11645309520454374 | loss: 0.5143039805047652 | loss/mean: 0.5143039805047652 | loss/std: 0.13432601213875925 | lr: 0.00033919068644530263 | momentum: 0.9\n"
     ]
    },
    {
     "data": {
      "application/vnd.jupyter.widget-view+json": {
       "model_id": "2ac27c73ac0a452d9ff548bde6a7ed2b",
       "version_major": 2,
       "version_minor": 0
      },
      "text/plain": [
       "2/10 * Epoch (valid):   0%|          | 0/4 [00:00<?, ?it/s]"
      ]
     },
     "metadata": {},
     "output_type": "display_data"
    },
    {
     "name": "stdout",
     "output_type": "stream",
     "text": [
      "valid (2/10) dice: 0.8135484755039215 | dice/mean: 0.8135484755039215 | dice/std: 0.042383454324812525 | loss: 0.3569595068693161 | loss/mean: 0.3569595068693161 | loss/std: 0.03929350276865349 | lr: 0.00033919068644530263 | momentum: 0.9\n",
      "* Epoch (2/10) lr: 0.00024544068644530265 | momentum: 0.9\n"
     ]
    },
    {
     "data": {
      "application/vnd.jupyter.widget-view+json": {
       "model_id": "746a23b5498e441c99eeefea9d9f8182",
       "version_major": 2,
       "version_minor": 0
      },
      "text/plain": [
       "3/10 * Epoch (train):   0%|          | 0/17 [00:00<?, ?it/s]"
      ]
     },
     "metadata": {},
     "output_type": "display_data"
    },
    {
     "name": "stdout",
     "output_type": "stream",
     "text": [
      "train (3/10) dice: 0.5473785873721628 | dice/mean: 0.5473785873721628 | dice/std: 0.12633018317392058 | loss: 0.5004946878727745 | loss/mean: 0.5004946878727745 | loss/std: 0.16318355123267253 | lr: 0.00024544068644530265 | momentum: 0.9\n"
     ]
    },
    {
     "data": {
      "application/vnd.jupyter.widget-view+json": {
       "model_id": "c2db575042804e2fa6d53b2af77b4625",
       "version_major": 2,
       "version_minor": 0
      },
      "text/plain": [
       "3/10 * Epoch (valid):   0%|          | 0/4 [00:00<?, ?it/s]"
      ]
     },
     "metadata": {},
     "output_type": "display_data"
    },
    {
     "name": "stdout",
     "output_type": "stream",
     "text": [
      "valid (3/10) dice: 0.8199843615293503 | dice/mean: 0.8199843615293503 | dice/std: 0.044781730293090405 | loss: 0.3523227348923683 | loss/mean: 0.3523227348923683 | loss/std: 0.043717361518007744 | lr: 0.00024544068644530265 | momentum: 0.9\n",
      "* Epoch (3/10) lr: 0.00012955931355469738 | momentum: 0.9\n"
     ]
    },
    {
     "data": {
      "application/vnd.jupyter.widget-view+json": {
       "model_id": "f963cf6faaf94b90b124598992f721ca",
       "version_major": 2,
       "version_minor": 0
      },
      "text/plain": [
       "4/10 * Epoch (train):   0%|          | 0/17 [00:00<?, ?it/s]"
      ]
     },
     "metadata": {},
     "output_type": "display_data"
    },
    {
     "name": "stdout",
     "output_type": "stream",
     "text": [
      "train (4/10) dice: 0.6142667794928831 | dice/mean: 0.6142667794928831 | dice/std: 0.11983459828615582 | loss: 0.44194910631460305 | loss/mean: 0.44194910631460305 | loss/std: 0.11060286649296514 | lr: 0.00012955931355469738 | momentum: 0.9\n"
     ]
    },
    {
     "data": {
      "application/vnd.jupyter.widget-view+json": {
       "model_id": "0bc0ce4b9c8944a183c9354ddab90887",
       "version_major": 2,
       "version_minor": 0
      },
      "text/plain": [
       "4/10 * Epoch (valid):   0%|          | 0/4 [00:00<?, ?it/s]"
      ]
     },
     "metadata": {},
     "output_type": "display_data"
    },
    {
     "name": "stdout",
     "output_type": "stream",
     "text": [
      "valid (4/10) dice: 0.8042586147785187 | dice/mean: 0.8042586147785187 | dice/std: 0.046439568104659074 | loss: 0.3610353171825409 | loss/mean: 0.3610353171825409 | loss/std: 0.04609741996928631 | lr: 0.00012955931355469738 | momentum: 0.9\n",
      "* Epoch (4/10) lr: 3.580931355469737e-05 | momentum: 0.9\n"
     ]
    },
    {
     "data": {
      "application/vnd.jupyter.widget-view+json": {
       "model_id": "490146a06e384563929c3bd4e6973eb8",
       "version_major": 2,
       "version_minor": 0
      },
      "text/plain": [
       "5/10 * Epoch (train):   0%|          | 0/17 [00:00<?, ?it/s]"
      ]
     },
     "metadata": {},
     "output_type": "display_data"
    },
    {
     "name": "stdout",
     "output_type": "stream",
     "text": [
      "train (5/10) dice: 0.6148094762774072 | dice/mean: 0.6148094762774072 | dice/std: 0.09207117942745766 | loss: 0.4453333738972159 | loss/mean: 0.4453333738972159 | loss/std: 0.14846749168800288 | lr: 3.580931355469737e-05 | momentum: 0.9\n"
     ]
    },
    {
     "data": {
      "application/vnd.jupyter.widget-view+json": {
       "model_id": "e13e246e602e4723812f5c470e8cf2bc",
       "version_major": 2,
       "version_minor": 0
      },
      "text/plain": [
       "5/10 * Epoch (valid):   0%|          | 0/4 [00:00<?, ?it/s]"
      ]
     },
     "metadata": {},
     "output_type": "display_data"
    },
    {
     "name": "stdout",
     "output_type": "stream",
     "text": [
      "valid (5/10) dice: 0.7989345639944077 | dice/mean: 0.7989345639944077 | dice/std: 0.044497947457472764 | loss: 0.3640947863459587 | loss/mean: 0.3640947863459587 | loss/std: 0.04515580519318022 | lr: 3.580931355469737e-05 | momentum: 0.9\n",
      "* Epoch (5/10) lr: 0.000375 | momentum: 0.9\n"
     ]
    },
    {
     "data": {
      "application/vnd.jupyter.widget-view+json": {
       "model_id": "8a3aa72b0f9f461984e07d64d9eb01bc",
       "version_major": 2,
       "version_minor": 0
      },
      "text/plain": [
       "6/10 * Epoch (train):   0%|          | 0/17 [00:00<?, ?it/s]"
      ]
     },
     "metadata": {},
     "output_type": "display_data"
    },
    {
     "name": "stdout",
     "output_type": "stream",
     "text": [
      "train (6/10) dice: 0.6126070127767675 | dice/mean: 0.6126070127767675 | dice/std: 0.1337641915629257 | loss: 0.4451001444283653 | loss/mean: 0.4451001444283653 | loss/std: 0.1306109902018809 | lr: 0.000375 | momentum: 0.9\n"
     ]
    },
    {
     "data": {
      "application/vnd.jupyter.widget-view+json": {
       "model_id": "b64aaaa44d0d44d2a91a91039f82e049",
       "version_major": 2,
       "version_minor": 0
      },
      "text/plain": [
       "6/10 * Epoch (valid):   0%|          | 0/4 [00:00<?, ?it/s]"
      ]
     },
     "metadata": {},
     "output_type": "display_data"
    },
    {
     "name": "stdout",
     "output_type": "stream",
     "text": [
      "valid (6/10) dice: 0.8026186376810074 | dice/mean: 0.8026186376810074 | dice/std: 0.05143510299202219 | loss: 0.3731779232621193 | loss/mean: 0.3731779232621193 | loss/std: 0.05359902032100819 | lr: 0.000375 | momentum: 0.9\n",
      "* Epoch (6/10) lr: 0.00033919068644530263 | momentum: 0.9\n"
     ]
    },
    {
     "data": {
      "application/vnd.jupyter.widget-view+json": {
       "model_id": "ce9b7179eaee429184cfb8647344be05",
       "version_major": 2,
       "version_minor": 0
      },
      "text/plain": [
       "7/10 * Epoch (train):   0%|          | 0/17 [00:00<?, ?it/s]"
      ]
     },
     "metadata": {},
     "output_type": "display_data"
    },
    {
     "name": "stdout",
     "output_type": "stream",
     "text": [
      "train (7/10) dice: 0.6437354368322035 | dice/mean: 0.6437354368322035 | dice/std: 0.10277524914022824 | loss: 0.4359142254380619 | loss/mean: 0.4359142254380619 | loss/std: 0.1027830687972726 | lr: 0.00033919068644530263 | momentum: 0.9\n"
     ]
    },
    {
     "data": {
      "application/vnd.jupyter.widget-view+json": {
       "model_id": "5e470c2d9c2b4817b389583b11451e40",
       "version_major": 2,
       "version_minor": 0
      },
      "text/plain": [
       "7/10 * Epoch (valid):   0%|          | 0/4 [00:00<?, ?it/s]"
      ]
     },
     "metadata": {},
     "output_type": "display_data"
    },
    {
     "name": "stdout",
     "output_type": "stream",
     "text": [
      "valid (7/10) dice: 0.8029516786336899 | dice/mean: 0.8029516786336899 | dice/std: 0.04592823035512098 | loss: 0.37621253728866577 | loss/mean: 0.37621253728866577 | loss/std: 0.04885302810614752 | lr: 0.00033919068644530263 | momentum: 0.9\n",
      "* Epoch (7/10) lr: 0.00024544068644530265 | momentum: 0.9\n"
     ]
    },
    {
     "data": {
      "application/vnd.jupyter.widget-view+json": {
       "model_id": "51a51bdd97ab450e8b01b58e17f99adc",
       "version_major": 2,
       "version_minor": 0
      },
      "text/plain": [
       "8/10 * Epoch (train):   0%|          | 0/17 [00:00<?, ?it/s]"
      ]
     },
     "metadata": {},
     "output_type": "display_data"
    },
    {
     "name": "stdout",
     "output_type": "stream",
     "text": [
      "train (8/10) dice: 0.5844202567549313 | dice/mean: 0.5844202567549313 | dice/std: 0.11352085440123583 | loss: 0.4673698316602146 | loss/mean: 0.4673698316602146 | loss/std: 0.11081032285304268 | lr: 0.00024544068644530265 | momentum: 0.9\n"
     ]
    },
    {
     "data": {
      "application/vnd.jupyter.widget-view+json": {
       "model_id": "84cdccf1eef043f781ae1e971af6cfbf",
       "version_major": 2,
       "version_minor": 0
      },
      "text/plain": [
       "8/10 * Epoch (valid):   0%|          | 0/4 [00:00<?, ?it/s]"
      ]
     },
     "metadata": {},
     "output_type": "display_data"
    },
    {
     "name": "stdout",
     "output_type": "stream",
     "text": [
      "valid (8/10) dice: 0.7572043538093567 | dice/mean: 0.7572043538093567 | dice/std: 0.0576644188135005 | loss: 0.4028070345520973 | loss/mean: 0.4028070345520973 | loss/std: 0.053199656925040965 | lr: 0.00024544068644530265 | momentum: 0.9\n",
      "* Epoch (8/10) lr: 0.00012955931355469738 | momentum: 0.9\n"
     ]
    },
    {
     "data": {
      "application/vnd.jupyter.widget-view+json": {
       "model_id": "5243f86d561043c2beeb01f58d4293f2",
       "version_major": 2,
       "version_minor": 0
      },
      "text/plain": [
       "9/10 * Epoch (train):   0%|          | 0/17 [00:00<?, ?it/s]"
      ]
     },
     "metadata": {},
     "output_type": "display_data"
    },
    {
     "name": "stdout",
     "output_type": "stream",
     "text": [
      "train (9/10) dice: 0.6740360891117769 | dice/mean: 0.6740360891117769 | dice/std: 0.09477571803260026 | loss: 0.39248531092615685 | loss/mean: 0.39248531092615685 | loss/std: 0.11409736005231369 | lr: 0.00012955931355469738 | momentum: 0.9\n"
     ]
    },
    {
     "data": {
      "application/vnd.jupyter.widget-view+json": {
       "model_id": "4d12b79388f0469182ba1d5d135e4ce8",
       "version_major": 2,
       "version_minor": 0
      },
      "text/plain": [
       "9/10 * Epoch (valid):   0%|          | 0/4 [00:00<?, ?it/s]"
      ]
     },
     "metadata": {},
     "output_type": "display_data"
    },
    {
     "name": "stdout",
     "output_type": "stream",
     "text": [
      "valid (9/10) dice: 0.7934750914573669 | dice/mean: 0.7934750914573669 | dice/std: 0.0478185629999509 | loss: 0.3827609047293663 | loss/mean: 0.3827609047293663 | loss/std: 0.04707899135390151 | lr: 0.00012955931355469738 | momentum: 0.9\n",
      "* Epoch (9/10) lr: 3.580931355469737e-05 | momentum: 0.9\n"
     ]
    },
    {
     "data": {
      "application/vnd.jupyter.widget-view+json": {
       "model_id": "e36ef11fabce45ea8cf1096fceaf0182",
       "version_major": 2,
       "version_minor": 0
      },
      "text/plain": [
       "10/10 * Epoch (train):   0%|          | 0/17 [00:00<?, ?it/s]"
      ]
     },
     "metadata": {},
     "output_type": "display_data"
    },
    {
     "name": "stdout",
     "output_type": "stream",
     "text": [
      "train (10/10) dice: 0.6006418063360102 | dice/mean: 0.6006418063360102 | dice/std: 0.10807530283573419 | loss: 0.4811283104559954 | loss/mean: 0.4811283104559954 | loss/std: 0.10479277663915242 | lr: 3.580931355469737e-05 | momentum: 0.9\n"
     ]
    },
    {
     "data": {
      "application/vnd.jupyter.widget-view+json": {
       "model_id": "6330fce153f34853bbad9861010a7cf7",
       "version_major": 2,
       "version_minor": 0
      },
      "text/plain": [
       "10/10 * Epoch (valid):   0%|          | 0/4 [00:00<?, ?it/s]"
      ]
     },
     "metadata": {},
     "output_type": "display_data"
    },
    {
     "name": "stdout",
     "output_type": "stream",
     "text": [
      "valid (10/10) dice: 0.7759388834238052 | dice/mean: 0.7759388834238052 | dice/std: 0.047132962155823924 | loss: 0.37471920251846313 | loss/mean: 0.37471920251846313 | loss/std: 0.05120685618952687 | lr: 3.580931355469737e-05 | momentum: 0.9\n",
      "* Epoch (10/10) lr: 0.000375 | momentum: 0.9\n",
      "Top models:\n",
      "../logs/24_added_data_sw/prostate_finetuned/checkpoints/model.0003.pth\t0.3523\n"
     ]
    },
    {
     "name": "stderr",
     "output_type": "stream",
     "text": [
      "100%|██████████| 3/3 [00:01<00:00,  1.76it/s]\n",
      "100%|██████████| 17/17 [00:16<00:00,  1.05it/s]\n",
      "100%|██████████| 4/4 [00:03<00:00,  1.21it/s]\n"
     ]
    },
    {
     "name": "stdout",
     "output_type": "stream",
     "text": [
      "prostate: testdice: 0.86701500415802\n"
     ]
    },
    {
     "name": "stderr",
     "output_type": "stream",
     "text": [
      "you are shuffling a 'dict' object which is not a subclass of 'Sequence'; `shuffle` is not guaranteed to behave correctly. E.g., non-numpy array/tensor objects with view semantics may contain duplicates after shuffling.\n",
      "Loading dataset: 100%|██████████| 500/500 [00:09<00:00, 52.72it/s]\n",
      "Loading dataset: 100%|██████████| 188/188 [00:03<00:00, 53.16it/s]\n"
     ]
    },
    {
     "data": {
      "application/vnd.jupyter.widget-view+json": {
       "model_id": "585652451d3c4aa8bfc803e9758e0c7c",
       "version_major": 2,
       "version_minor": 0
      },
      "text/plain": [
       "1/5 * Epoch (train):   0%|          | 0/125 [00:00<?, ?it/s]"
      ]
     },
     "metadata": {},
     "output_type": "display_data"
    },
    {
     "name": "stdout",
     "output_type": "stream",
     "text": [
      "train (1/5) dice: 0.12558855238556862 | dice/mean: 0.12558855238556862 | dice/std: 0.06544203385992133 | loss: 0.9283929123878484 | loss/mean: 0.9283929123878484 | loss/std: 0.06296962109164442 | lr: 0.000375 | momentum: 0.9\n"
     ]
    },
    {
     "data": {
      "application/vnd.jupyter.widget-view+json": {
       "model_id": "851be5ebbab24700a58422180a150eb7",
       "version_major": 2,
       "version_minor": 0
      },
      "text/plain": [
       "1/5 * Epoch (valid):   0%|          | 0/47 [00:00<?, ?it/s]"
      ]
     },
     "metadata": {},
     "output_type": "display_data"
    },
    {
     "name": "stdout",
     "output_type": "stream",
     "text": [
      "valid (1/5) dice: 0.2749758629088706 | dice/mean: 0.2749758629088706 | dice/std: 0.07626342361283783 | loss: 0.8730764591947514 | loss/mean: 0.8730764591947514 | loss/std: 0.07416329826314286 | lr: 0.000375 | momentum: 0.9\n",
      "* Epoch (1/5) lr: 0.00033919068644530263 | momentum: 0.9\n"
     ]
    },
    {
     "data": {
      "application/vnd.jupyter.widget-view+json": {
       "model_id": "038f4b0e81e14512b4a7043bda0f0ec9",
       "version_major": 2,
       "version_minor": 0
      },
      "text/plain": [
       "2/5 * Epoch (train):   0%|          | 0/125 [00:00<?, ?it/s]"
      ]
     },
     "metadata": {},
     "output_type": "display_data"
    },
    {
     "name": "stdout",
     "output_type": "stream",
     "text": [
      "train (2/5) dice: 0.3915799670219421 | dice/mean: 0.3915799670219421 | dice/std: 0.12148343408450218 | loss: 0.8740968737602234 | loss/mean: 0.8740968737602234 | loss/std: 0.07218054321288185 | lr: 0.00033919068644530263 | momentum: 0.9\n"
     ]
    },
    {
     "data": {
      "application/vnd.jupyter.widget-view+json": {
       "model_id": "f5b24668026b474298672f186f3573f0",
       "version_major": 2,
       "version_minor": 0
      },
      "text/plain": [
       "2/5 * Epoch (valid):   0%|          | 0/47 [00:00<?, ?it/s]"
      ]
     },
     "metadata": {},
     "output_type": "display_data"
    },
    {
     "name": "stdout",
     "output_type": "stream",
     "text": [
      "valid (2/5) dice: 0.5813855509808725 | dice/mean: 0.5813855509808725 | dice/std: 0.09657198807825088 | loss: 0.7974636782991126 | loss/mean: 0.7974636782991126 | loss/std: 0.08317976769550972 | lr: 0.00033919068644530263 | momentum: 0.9\n",
      "* Epoch (2/5) lr: 0.00024544068644530265 | momentum: 0.9\n"
     ]
    },
    {
     "data": {
      "application/vnd.jupyter.widget-view+json": {
       "model_id": "cdc9de2896fd47a2874df145c88446d9",
       "version_major": 2,
       "version_minor": 0
      },
      "text/plain": [
       "3/5 * Epoch (train):   0%|          | 0/125 [00:00<?, ?it/s]"
      ]
     },
     "metadata": {},
     "output_type": "display_data"
    },
    {
     "name": "stdout",
     "output_type": "stream",
     "text": [
      "train (3/5) dice: 0.5206284377574922 | dice/mean: 0.5206284377574922 | dice/std: 0.11168945884469392 | loss: 0.7989298090934754 | loss/mean: 0.7989298090934754 | loss/std: 0.08125144726429923 | lr: 0.00024544068644530265 | momentum: 0.9\n"
     ]
    },
    {
     "data": {
      "application/vnd.jupyter.widget-view+json": {
       "model_id": "11003396a64c44a2a3ea5463dfa65b71",
       "version_major": 2,
       "version_minor": 0
      },
      "text/plain": [
       "3/5 * Epoch (valid):   0%|          | 0/47 [00:00<?, ?it/s]"
      ]
     },
     "metadata": {},
     "output_type": "display_data"
    },
    {
     "name": "stdout",
     "output_type": "stream",
     "text": [
      "valid (3/5) dice: 0.5590603319888421 | dice/mean: 0.5590603319888421 | dice/std: 0.10666205041747605 | loss: 0.7162317722401719 | loss/mean: 0.7162317722401719 | loss/std: 0.09984185323462674 | lr: 0.00024544068644530265 | momentum: 0.9\n",
      "* Epoch (3/5) lr: 0.00012955931355469738 | momentum: 0.9\n"
     ]
    },
    {
     "data": {
      "application/vnd.jupyter.widget-view+json": {
       "model_id": "200a44912aa9406bb2f59c762c2a9748",
       "version_major": 2,
       "version_minor": 0
      },
      "text/plain": [
       "4/5 * Epoch (train):   0%|          | 0/125 [00:00<?, ?it/s]"
      ]
     },
     "metadata": {},
     "output_type": "display_data"
    },
    {
     "name": "stdout",
     "output_type": "stream",
     "text": [
      "train (4/5) dice: 0.5733888287544252 | dice/mean: 0.5733888287544252 | dice/std: 0.12015173914226805 | loss: 0.70660697555542 | loss/mean: 0.70660697555542 | loss/std: 0.10395717932788962 | lr: 0.00012955931355469738 | momentum: 0.9\n"
     ]
    },
    {
     "data": {
      "application/vnd.jupyter.widget-view+json": {
       "model_id": "3c227c195020421eb0855c03642bd415",
       "version_major": 2,
       "version_minor": 0
      },
      "text/plain": [
       "4/5 * Epoch (valid):   0%|          | 0/47 [00:00<?, ?it/s]"
      ]
     },
     "metadata": {},
     "output_type": "display_data"
    },
    {
     "name": "stdout",
     "output_type": "stream",
     "text": [
      "valid (4/5) dice: 0.6139891895842043 | dice/mean: 0.6139891895842043 | dice/std: 0.10638145466694662 | loss: 0.6079108061942647 | loss/mean: 0.6079108061942647 | loss/std: 0.11303050091995828 | lr: 0.00012955931355469738 | momentum: 0.9\n",
      "* Epoch (4/5) lr: 3.580931355469737e-05 | momentum: 0.9\n"
     ]
    },
    {
     "data": {
      "application/vnd.jupyter.widget-view+json": {
       "model_id": "295366dd422b4e0982d8ebe0f5f86d9c",
       "version_major": 2,
       "version_minor": 0
      },
      "text/plain": [
       "5/5 * Epoch (train):   0%|          | 0/125 [00:00<?, ?it/s]"
      ]
     },
     "metadata": {},
     "output_type": "display_data"
    },
    {
     "name": "stdout",
     "output_type": "stream",
     "text": [
      "train (5/5) dice: 0.6134597079753874 | dice/mean: 0.6134597079753874 | dice/std: 0.11724501884592814 | loss: 0.6043591189384458 | loss/mean: 0.6043591189384458 | loss/std: 0.11063577578513689 | lr: 3.580931355469737e-05 | momentum: 0.9\n"
     ]
    },
    {
     "data": {
      "application/vnd.jupyter.widget-view+json": {
       "model_id": "8183683c103b4fa0acca98f3ee22e823",
       "version_major": 2,
       "version_minor": 0
      },
      "text/plain": [
       "5/5 * Epoch (valid):   0%|          | 0/47 [00:00<?, ?it/s]"
      ]
     },
     "metadata": {},
     "output_type": "display_data"
    },
    {
     "name": "stdout",
     "output_type": "stream",
     "text": [
      "valid (5/5) dice: 0.678158385322449 | dice/mean: 0.678158385322449 | dice/std: 0.10496201503315772 | loss: 0.5088263293530079 | loss/mean: 0.5088263293530079 | loss/std: 0.11300850726256156 | lr: 3.580931355469737e-05 | momentum: 0.9\n",
      "* Epoch (5/5) lr: 0.000375 | momentum: 0.9\n",
      "Top models:\n",
      "../logs/24_added_data_sw/spleen_pretrained/checkpoints/model.0005.pth\t0.5088\n"
     ]
    },
    {
     "name": "stderr",
     "output_type": "stream",
     "text": [
      "Loading dataset: 100%|██████████| 39/39 [00:09<00:00,  3.92it/s]\n",
      "Loading dataset: 100%|██████████| 9/9 [00:01<00:00,  4.67it/s]\n",
      "Loading dataset: 100%|██████████| 5/5 [00:01<00:00,  4.70it/s]\n"
     ]
    },
    {
     "data": {
      "application/vnd.jupyter.widget-view+json": {
       "model_id": "2b25e4679d1a4f38847d95378bf55328",
       "version_major": 2,
       "version_minor": 0
      },
      "text/plain": [
       "1/10 * Epoch (train):   0%|          | 0/10 [00:00<?, ?it/s]"
      ]
     },
     "metadata": {},
     "output_type": "display_data"
    },
    {
     "name": "stdout",
     "output_type": "stream",
     "text": [
      "train (1/10) dice: 0.37825254446420914 | dice/mean: 0.37825254446420914 | dice/std: 0.07595046683037542 | loss: 0.668967924056909 | loss/mean: 0.668967924056909 | loss/std: 0.15182253102930296 | lr: 0.000375 | momentum: 0.9\n"
     ]
    },
    {
     "data": {
      "application/vnd.jupyter.widget-view+json": {
       "model_id": "17b4aca99c8a4075afd5d64bc26bec86",
       "version_major": 2,
       "version_minor": 0
      },
      "text/plain": [
       "1/10 * Epoch (valid):   0%|          | 0/3 [00:00<?, ?it/s]"
      ]
     },
     "metadata": {},
     "output_type": "display_data"
    },
    {
     "name": "stdout",
     "output_type": "stream",
     "text": [
      "valid (1/10) dice: 0.5107258756955465 | dice/mean: 0.5107258756955465 | dice/std: 0.09869076704788571 | loss: 0.6063012083371481 | loss/mean: 0.6063012083371481 | loss/std: 0.11155181594001716 | lr: 0.000375 | momentum: 0.9\n",
      "* Epoch (1/10) lr: 0.00033919068644530263 | momentum: 0.9\n"
     ]
    },
    {
     "data": {
      "application/vnd.jupyter.widget-view+json": {
       "model_id": "8f671bbdca424ef69864da7b7d2b63f0",
       "version_major": 2,
       "version_minor": 0
      },
      "text/plain": [
       "2/10 * Epoch (train):   0%|          | 0/10 [00:00<?, ?it/s]"
      ]
     },
     "metadata": {},
     "output_type": "display_data"
    },
    {
     "name": "stdout",
     "output_type": "stream",
     "text": [
      "train (2/10) dice: 0.4630339909822513 | dice/mean: 0.4630339909822513 | dice/std: 0.18269473698275296 | loss: 0.5259837363010799 | loss/mean: 0.5259837363010799 | loss/std: 0.13687846522433889 | lr: 0.00033919068644530263 | momentum: 0.9\n"
     ]
    },
    {
     "data": {
      "application/vnd.jupyter.widget-view+json": {
       "model_id": "236f6046b2a24998bac20c87c9201de2",
       "version_major": 2,
       "version_minor": 0
      },
      "text/plain": [
       "2/10 * Epoch (valid):   0%|          | 0/3 [00:00<?, ?it/s]"
      ]
     },
     "metadata": {},
     "output_type": "display_data"
    },
    {
     "name": "stdout",
     "output_type": "stream",
     "text": [
      "valid (2/10) dice: 0.5239732464154562 | dice/mean: 0.5239732464154562 | dice/std: 0.118823272507127 | loss: 0.6022923787434896 | loss/mean: 0.6022923787434896 | loss/std: 0.1139214379779224 | lr: 0.00033919068644530263 | momentum: 0.9\n",
      "* Epoch (2/10) lr: 0.00024544068644530265 | momentum: 0.9\n"
     ]
    },
    {
     "data": {
      "application/vnd.jupyter.widget-view+json": {
       "model_id": "5062cc76ef1c4318ba979e984ba13490",
       "version_major": 2,
       "version_minor": 0
      },
      "text/plain": [
       "3/10 * Epoch (train):   0%|          | 0/10 [00:00<?, ?it/s]"
      ]
     },
     "metadata": {},
     "output_type": "display_data"
    },
    {
     "name": "stdout",
     "output_type": "stream",
     "text": [
      "train (3/10) dice: 0.41587412128081686 | dice/mean: 0.41587412128081686 | dice/std: 0.15298722550237584 | loss: 0.6106071288769062 | loss/mean: 0.6106071288769062 | loss/std: 0.10569676452646433 | lr: 0.00024544068644530265 | momentum: 0.9\n"
     ]
    },
    {
     "data": {
      "application/vnd.jupyter.widget-view+json": {
       "model_id": "d7e96dd3c4fb402a87d34f301d05cfac",
       "version_major": 2,
       "version_minor": 0
      },
      "text/plain": [
       "3/10 * Epoch (valid):   0%|          | 0/3 [00:00<?, ?it/s]"
      ]
     },
     "metadata": {},
     "output_type": "display_data"
    },
    {
     "name": "stdout",
     "output_type": "stream",
     "text": [
      "valid (3/10) dice: 0.5336547063456641 | dice/mean: 0.5336547063456641 | dice/std: 0.08975223106100823 | loss: 0.6089408728811476 | loss/mean: 0.6089408728811476 | loss/std: 0.10248151117415365 | lr: 0.00024544068644530265 | momentum: 0.9\n",
      "* Epoch (3/10) lr: 0.00012955931355469738 | momentum: 0.9\n"
     ]
    },
    {
     "data": {
      "application/vnd.jupyter.widget-view+json": {
       "model_id": "541e1dc5fa694269bc63e406c31ea0c9",
       "version_major": 2,
       "version_minor": 0
      },
      "text/plain": [
       "4/10 * Epoch (train):   0%|          | 0/10 [00:00<?, ?it/s]"
      ]
     },
     "metadata": {},
     "output_type": "display_data"
    },
    {
     "name": "stdout",
     "output_type": "stream",
     "text": [
      "train (4/10) dice: 0.4028259282692885 | dice/mean: 0.4028259282692885 | dice/std: 0.1320205238781932 | loss: 0.5950385683622115 | loss/mean: 0.5950385683622115 | loss/std: 0.13321017869933097 | lr: 0.00012955931355469738 | momentum: 0.9\n"
     ]
    },
    {
     "data": {
      "application/vnd.jupyter.widget-view+json": {
       "model_id": "38a758eb9b0c4ccd9d8ce9a99d04e882",
       "version_major": 2,
       "version_minor": 0
      },
      "text/plain": [
       "4/10 * Epoch (valid):   0%|          | 0/3 [00:00<?, ?it/s]"
      ]
     },
     "metadata": {},
     "output_type": "display_data"
    },
    {
     "name": "stdout",
     "output_type": "stream",
     "text": [
      "valid (4/10) dice: 0.4740862250328064 | dice/mean: 0.4740862250328064 | dice/std: 0.13236773381331507 | loss: 0.637807720237308 | loss/mean: 0.637807720237308 | loss/std: 0.11831860246605784 | lr: 0.00012955931355469738 | momentum: 0.9\n",
      "* Epoch (4/10) lr: 3.580931355469737e-05 | momentum: 0.9\n"
     ]
    },
    {
     "data": {
      "application/vnd.jupyter.widget-view+json": {
       "model_id": "0d3c39d64d374e089a0f42958ca0d66c",
       "version_major": 2,
       "version_minor": 0
      },
      "text/plain": [
       "5/10 * Epoch (train):   0%|          | 0/10 [00:00<?, ?it/s]"
      ]
     },
     "metadata": {},
     "output_type": "display_data"
    },
    {
     "name": "stdout",
     "output_type": "stream",
     "text": [
      "train (5/10) dice: 0.5125682545013917 | dice/mean: 0.5125682545013917 | dice/std: 0.15417122518676224 | loss: 0.48164212245207566 | loss/mean: 0.48164212245207566 | loss/std: 0.13067979002288432 | lr: 3.580931355469737e-05 | momentum: 0.9\n"
     ]
    },
    {
     "data": {
      "application/vnd.jupyter.widget-view+json": {
       "model_id": "20f82f8f56834fdc9289c1ce8efb44e7",
       "version_major": 2,
       "version_minor": 0
      },
      "text/plain": [
       "5/10 * Epoch (valid):   0%|          | 0/3 [00:00<?, ?it/s]"
      ]
     },
     "metadata": {},
     "output_type": "display_data"
    },
    {
     "name": "stdout",
     "output_type": "stream",
     "text": [
      "valid (5/10) dice: 0.4550953573650784 | dice/mean: 0.4550953573650784 | dice/std: 0.1329952679079329 | loss: 0.6530989673402574 | loss/mean: 0.6530989673402574 | loss/std: 0.1311495578117218 | lr: 3.580931355469737e-05 | momentum: 0.9\n",
      "* Epoch (5/10) lr: 0.000375 | momentum: 0.9\n"
     ]
    },
    {
     "data": {
      "application/vnd.jupyter.widget-view+json": {
       "model_id": "c35d2726d69d4eb5bbcde501ca0f0336",
       "version_major": 2,
       "version_minor": 0
      },
      "text/plain": [
       "6/10 * Epoch (train):   0%|          | 0/10 [00:00<?, ?it/s]"
      ]
     },
     "metadata": {},
     "output_type": "display_data"
    },
    {
     "name": "stdout",
     "output_type": "stream",
     "text": [
      "train (6/10) dice: 0.4663745210720943 | dice/mean: 0.4663745210720943 | dice/std: 0.1463635841544168 | loss: 0.5829110818031507 | loss/mean: 0.5829110818031507 | loss/std: 0.1297289261271324 | lr: 0.000375 | momentum: 0.9\n"
     ]
    },
    {
     "data": {
      "application/vnd.jupyter.widget-view+json": {
       "model_id": "e88241062a584e749d92516e773daf53",
       "version_major": 2,
       "version_minor": 0
      },
      "text/plain": [
       "6/10 * Epoch (valid):   0%|          | 0/3 [00:00<?, ?it/s]"
      ]
     },
     "metadata": {},
     "output_type": "display_data"
    },
    {
     "name": "stdout",
     "output_type": "stream",
     "text": [
      "valid (6/10) dice: 0.456118365128835 | dice/mean: 0.456118365128835 | dice/std: 0.1447750614195677 | loss: 0.6470295588175455 | loss/mean: 0.6470295588175455 | loss/std: 0.12195236205987606 | lr: 0.000375 | momentum: 0.9\n",
      "* Epoch (6/10) lr: 0.00033919068644530263 | momentum: 0.9\n"
     ]
    },
    {
     "data": {
      "application/vnd.jupyter.widget-view+json": {
       "model_id": "cb33dcc0e8b042e18162217d3d5dddfe",
       "version_major": 2,
       "version_minor": 0
      },
      "text/plain": [
       "7/10 * Epoch (train):   0%|          | 0/10 [00:00<?, ?it/s]"
      ]
     },
     "metadata": {},
     "output_type": "display_data"
    },
    {
     "name": "stdout",
     "output_type": "stream",
     "text": [
      "train (7/10) dice: 0.4216368763874738 | dice/mean: 0.4216368763874738 | dice/std: 0.12992910150642756 | loss: 0.5805320021433709 | loss/mean: 0.5805320021433709 | loss/std: 0.13803040820724863 | lr: 0.00033919068644530263 | momentum: 0.9\n"
     ]
    },
    {
     "data": {
      "application/vnd.jupyter.widget-view+json": {
       "model_id": "aa24bf12508d42488187e9aee6c2bd6b",
       "version_major": 2,
       "version_minor": 0
      },
      "text/plain": [
       "7/10 * Epoch (valid):   0%|          | 0/3 [00:00<?, ?it/s]"
      ]
     },
     "metadata": {},
     "output_type": "display_data"
    },
    {
     "name": "stdout",
     "output_type": "stream",
     "text": [
      "valid (7/10) dice: 0.4395216190152698 | dice/mean: 0.4395216190152698 | dice/std: 0.14402413068330933 | loss: 0.6697744528452555 | loss/mean: 0.6697744528452555 | loss/std: 0.1220121795313408 | lr: 0.00033919068644530263 | momentum: 0.9\n",
      "* Epoch (7/10) lr: 0.00024544068644530265 | momentum: 0.9\n"
     ]
    },
    {
     "data": {
      "application/vnd.jupyter.widget-view+json": {
       "model_id": "0d0f25fc76d1452fbbf6b89f22ac39f6",
       "version_major": 2,
       "version_minor": 0
      },
      "text/plain": [
       "8/10 * Epoch (train):   0%|          | 0/10 [00:00<?, ?it/s]"
      ]
     },
     "metadata": {},
     "output_type": "display_data"
    },
    {
     "name": "stdout",
     "output_type": "stream",
     "text": [
      "train (8/10) dice: 0.525850506929251 | dice/mean: 0.525850506929251 | dice/std: 0.07325868885059801 | loss: 0.5151790487460602 | loss/mean: 0.5151790487460602 | loss/std: 0.06010529537096418 | lr: 0.00024544068644530265 | momentum: 0.9\n"
     ]
    },
    {
     "data": {
      "application/vnd.jupyter.widget-view+json": {
       "model_id": "2d8cacd81e3f461788264d7fb0ae0ca0",
       "version_major": 2,
       "version_minor": 0
      },
      "text/plain": [
       "8/10 * Epoch (valid):   0%|          | 0/3 [00:00<?, ?it/s]"
      ]
     },
     "metadata": {},
     "output_type": "display_data"
    },
    {
     "name": "stdout",
     "output_type": "stream",
     "text": [
      "valid (8/10) dice: 0.4386133783393436 | dice/mean: 0.4386133783393436 | dice/std: 0.1487068857842659 | loss: 0.6610870361328125 | loss/mean: 0.6610870361328125 | loss/std: 0.12586873967751036 | lr: 0.00024544068644530265 | momentum: 0.9\n",
      "* Epoch (8/10) lr: 0.00012955931355469738 | momentum: 0.9\n"
     ]
    },
    {
     "data": {
      "application/vnd.jupyter.widget-view+json": {
       "model_id": "569d3150bb994b17bbcfe4b9035aaea9",
       "version_major": 2,
       "version_minor": 0
      },
      "text/plain": [
       "9/10 * Epoch (train):   0%|          | 0/10 [00:00<?, ?it/s]"
      ]
     },
     "metadata": {},
     "output_type": "display_data"
    },
    {
     "name": "stdout",
     "output_type": "stream",
     "text": [
      "train (9/10) dice: 0.49146102483455956 | dice/mean: 0.49146102483455956 | dice/std: 0.13621544560372434 | loss: 0.5275601882200974 | loss/mean: 0.5275601882200974 | loss/std: 0.1460323246340322 | lr: 0.00012955931355469738 | momentum: 0.9\n"
     ]
    },
    {
     "data": {
      "application/vnd.jupyter.widget-view+json": {
       "model_id": "ec16d254b63345799fefa951b6a68e1c",
       "version_major": 2,
       "version_minor": 0
      },
      "text/plain": [
       "9/10 * Epoch (valid):   0%|          | 0/3 [00:00<?, ?it/s]"
      ]
     },
     "metadata": {},
     "output_type": "display_data"
    },
    {
     "name": "stdout",
     "output_type": "stream",
     "text": [
      "valid (9/10) dice: 0.43883224825064343 | dice/mean: 0.43883224825064343 | dice/std: 0.14438565809069157 | loss: 0.6695213649008009 | loss/mean: 0.6695213649008009 | loss/std: 0.1272699497830925 | lr: 0.00012955931355469738 | momentum: 0.9\n",
      "* Epoch (9/10) lr: 3.580931355469737e-05 | momentum: 0.9\n"
     ]
    },
    {
     "data": {
      "application/vnd.jupyter.widget-view+json": {
       "model_id": "d7f6779b63db4221883d15df7f0943ae",
       "version_major": 2,
       "version_minor": 0
      },
      "text/plain": [
       "10/10 * Epoch (train):   0%|          | 0/10 [00:00<?, ?it/s]"
      ]
     },
     "metadata": {},
     "output_type": "display_data"
    },
    {
     "name": "stdout",
     "output_type": "stream",
     "text": [
      "train (10/10) dice: 0.45440189807842934 | dice/mean: 0.45440189807842934 | dice/std: 0.20082829183441092 | loss: 0.5685703616875869 | loss/mean: 0.5685703616875869 | loss/std: 0.2282844118941582 | lr: 3.580931355469737e-05 | momentum: 0.9\n"
     ]
    },
    {
     "data": {
      "application/vnd.jupyter.widget-view+json": {
       "model_id": "3e2c272e4ac04844ae7c2b25da80b382",
       "version_major": 2,
       "version_minor": 0
      },
      "text/plain": [
       "10/10 * Epoch (valid):   0%|          | 0/3 [00:00<?, ?it/s]"
      ]
     },
     "metadata": {},
     "output_type": "display_data"
    },
    {
     "name": "stdout",
     "output_type": "stream",
     "text": [
      "valid (10/10) dice: 0.42843300435278153 | dice/mean: 0.42843300435278153 | dice/std: 0.1447929503857026 | loss: 0.6752090719011095 | loss/mean: 0.6752090719011095 | loss/std: 0.13105106897945104 | lr: 3.580931355469737e-05 | momentum: 0.9\n",
      "* Epoch (10/10) lr: 0.000375 | momentum: 0.9\n",
      "Top models:\n",
      "../logs/24_added_data_sw/spleen_finetuned/checkpoints/model.0002.pth\t0.6023\n"
     ]
    },
    {
     "name": "stderr",
     "output_type": "stream",
     "text": [
      "100%|██████████| 2/2 [00:00<00:00,  2.08it/s]\n",
      "100%|██████████| 10/10 [00:09<00:00,  1.08it/s]\n",
      "100%|██████████| 3/3 [00:01<00:00,  1.63it/s]\n"
     ]
    },
    {
     "name": "stdout",
     "output_type": "stream",
     "text": [
      "spleen: testdice: 0.6100516319274902\n"
     ]
    },
    {
     "name": "stderr",
     "output_type": "stream",
     "text": [
      "you are shuffling a 'dict' object which is not a subclass of 'Sequence'; `shuffle` is not guaranteed to behave correctly. E.g., non-numpy array/tensor objects with view semantics may contain duplicates after shuffling.\n",
      "Loading dataset: 100%|██████████| 500/500 [00:08<00:00, 56.84it/s]\n",
      "Loading dataset: 100%|██████████| 186/186 [00:03<00:00, 56.62it/s]\n"
     ]
    },
    {
     "data": {
      "application/vnd.jupyter.widget-view+json": {
       "model_id": "c6a3b157617745ffaa721bfafc0b54d5",
       "version_major": 2,
       "version_minor": 0
      },
      "text/plain": [
       "1/5 * Epoch (train):   0%|          | 0/125 [00:00<?, ?it/s]"
      ]
     },
     "metadata": {},
     "output_type": "display_data"
    },
    {
     "name": "stdout",
     "output_type": "stream",
     "text": [
      "train (1/5) dice: 0.32313532495498654 | dice/mean: 0.32313532495498654 | dice/std: 0.09731960551589569 | loss: 1.0025929737091068 | loss/mean: 1.0025929737091068 | loss/std: 0.054756485112775186 | lr: 0.000375 | momentum: 0.9\n"
     ]
    },
    {
     "data": {
      "application/vnd.jupyter.widget-view+json": {
       "model_id": "dfd4ec3ae8954565a8899105cae91496",
       "version_major": 2,
       "version_minor": 0
      },
      "text/plain": [
       "1/5 * Epoch (valid):   0%|          | 0/47 [00:00<?, ?it/s]"
      ]
     },
     "metadata": {},
     "output_type": "display_data"
    },
    {
     "name": "stdout",
     "output_type": "stream",
     "text": [
      "valid (1/5) dice: 0.4547828358988609 | dice/mean: 0.4547828358988609 | dice/std: 0.09667528667593546 | loss: 0.945770864845604 | loss/mean: 0.945770864845604 | loss/std: 0.05791398639060429 | lr: 0.000375 | momentum: 0.9\n",
      "* Epoch (1/5) lr: 0.00033919068644530263 | momentum: 0.9\n"
     ]
    },
    {
     "data": {
      "application/vnd.jupyter.widget-view+json": {
       "model_id": "742e1ec842b54a479560e904b79de8eb",
       "version_major": 2,
       "version_minor": 0
      },
      "text/plain": [
       "2/5 * Epoch (train):   0%|          | 0/125 [00:00<?, ?it/s]"
      ]
     },
     "metadata": {},
     "output_type": "display_data"
    },
    {
     "name": "stdout",
     "output_type": "stream",
     "text": [
      "train (2/5) dice: 0.43835547351837156 | dice/mean: 0.43835547351837156 | dice/std: 0.10215024179961814 | loss: 0.9281948933601382 | loss/mean: 0.9281948933601382 | loss/std: 0.0630604115224273 | lr: 0.00033919068644530263 | momentum: 0.9\n"
     ]
    },
    {
     "data": {
      "application/vnd.jupyter.widget-view+json": {
       "model_id": "0a220879d3264c15a460dcc6d6969042",
       "version_major": 2,
       "version_minor": 0
      },
      "text/plain": [
       "2/5 * Epoch (valid):   0%|          | 0/47 [00:00<?, ?it/s]"
      ]
     },
     "metadata": {},
     "output_type": "display_data"
    },
    {
     "name": "stdout",
     "output_type": "stream",
     "text": [
      "valid (2/5) dice: 0.5043058209521796 | dice/mean: 0.5043058209521796 | dice/std: 0.10374577982754027 | loss: 0.8707023673160101 | loss/mean: 0.8707023673160101 | loss/std: 0.06914002035501406 | lr: 0.00033919068644530263 | momentum: 0.9\n",
      "* Epoch (2/5) lr: 0.00024544068644530265 | momentum: 0.9\n"
     ]
    },
    {
     "data": {
      "application/vnd.jupyter.widget-view+json": {
       "model_id": "4470052fff524d0da28b68721e46007e",
       "version_major": 2,
       "version_minor": 0
      },
      "text/plain": [
       "3/5 * Epoch (train):   0%|          | 0/125 [00:00<?, ?it/s]"
      ]
     },
     "metadata": {},
     "output_type": "display_data"
    },
    {
     "name": "stdout",
     "output_type": "stream",
     "text": [
      "train (3/5) dice: 0.487953271508217 | dice/mean: 0.487953271508217 | dice/std: 0.10658436343327668 | loss: 0.8524323310852049 | loss/mean: 0.8524323310852049 | loss/std: 0.07174240179065781 | lr: 0.00024544068644530265 | momentum: 0.9\n"
     ]
    },
    {
     "data": {
      "application/vnd.jupyter.widget-view+json": {
       "model_id": "5cf7d2453e4447f3bb80d2b560a3df8f",
       "version_major": 2,
       "version_minor": 0
      },
      "text/plain": [
       "3/5 * Epoch (valid):   0%|          | 0/47 [00:00<?, ?it/s]"
      ]
     },
     "metadata": {},
     "output_type": "display_data"
    },
    {
     "name": "stdout",
     "output_type": "stream",
     "text": [
      "valid (3/5) dice: 0.5503387451171875 | dice/mean: 0.5503387451171875 | dice/std: 0.10821481926919145 | loss: 0.7916581848616239 | loss/mean: 0.7916581848616239 | loss/std: 0.08155450002760653 | lr: 0.00024544068644530265 | momentum: 0.9\n",
      "* Epoch (3/5) lr: 0.00012955931355469738 | momentum: 0.9\n"
     ]
    },
    {
     "data": {
      "application/vnd.jupyter.widget-view+json": {
       "model_id": "bf57f70495b347888fd3078244b06021",
       "version_major": 2,
       "version_minor": 0
      },
      "text/plain": [
       "4/5 * Epoch (train):   0%|          | 0/125 [00:00<?, ?it/s]"
      ]
     },
     "metadata": {},
     "output_type": "display_data"
    },
    {
     "name": "stdout",
     "output_type": "stream",
     "text": [
      "train (4/5) dice: 0.5337851083278656 | dice/mean: 0.5337851083278656 | dice/std: 0.12105059076905979 | loss: 0.7648275704383848 | loss/mean: 0.7648275704383848 | loss/std: 0.09022182449822232 | lr: 0.00012955931355469738 | momentum: 0.9\n"
     ]
    },
    {
     "data": {
      "application/vnd.jupyter.widget-view+json": {
       "model_id": "10fd33fa0fc3468d95355806b52134fa",
       "version_major": 2,
       "version_minor": 0
      },
      "text/plain": [
       "4/5 * Epoch (valid):   0%|          | 0/47 [00:00<?, ?it/s]"
      ]
     },
     "metadata": {},
     "output_type": "display_data"
    },
    {
     "name": "stdout",
     "output_type": "stream",
     "text": [
      "valid (4/5) dice: 0.5904669082292948 | dice/mean: 0.5904669082292948 | dice/std: 0.10849531094558923 | loss: 0.7091030645114121 | loss/mean: 0.7091030645114121 | loss/std: 0.09300581075923953 | lr: 0.00012955931355469738 | momentum: 0.9\n",
      "* Epoch (4/5) lr: 3.580931355469737e-05 | momentum: 0.9\n"
     ]
    },
    {
     "data": {
      "application/vnd.jupyter.widget-view+json": {
       "model_id": "612871cc4331421488bb917e04d2ac95",
       "version_major": 2,
       "version_minor": 0
      },
      "text/plain": [
       "5/5 * Epoch (train):   0%|          | 0/125 [00:00<?, ?it/s]"
      ]
     },
     "metadata": {},
     "output_type": "display_data"
    },
    {
     "name": "stdout",
     "output_type": "stream",
     "text": [
      "train (5/5) dice: 0.5819367420673369 | dice/mean: 0.5819367420673369 | dice/std: 0.11013049604527465 | loss: 0.6771885478496553 | loss/mean: 0.6771885478496553 | loss/std: 0.09100298148312763 | lr: 3.580931355469737e-05 | momentum: 0.9\n"
     ]
    },
    {
     "data": {
      "application/vnd.jupyter.widget-view+json": {
       "model_id": "3a7b1fd280614c5a97edc4f2e165731d",
       "version_major": 2,
       "version_minor": 0
      },
      "text/plain": [
       "5/5 * Epoch (valid):   0%|          | 0/47 [00:00<?, ?it/s]"
      ]
     },
     "metadata": {},
     "output_type": "display_data"
    },
    {
     "name": "stdout",
     "output_type": "stream",
     "text": [
      "valid (5/5) dice: 0.610430443799624 | dice/mean: 0.610430443799624 | dice/std: 0.1157419318653734 | loss: 0.6240746244307488 | loss/mean: 0.6240746244307488 | loss/std: 0.10504409035280221 | lr: 3.580931355469737e-05 | momentum: 0.9\n",
      "* Epoch (5/5) lr: 0.000375 | momentum: 0.9\n",
      "Top models:\n",
      "../logs/24_added_data_sw/lung_pretrained/checkpoints/model.0005.pth\t0.6241\n"
     ]
    },
    {
     "name": "stderr",
     "output_type": "stream",
     "text": [
      "Loading dataset: 100%|██████████| 36/36 [00:08<00:00,  4.38it/s]\n",
      "Loading dataset: 100%|██████████| 8/8 [00:01<00:00,  4.77it/s]\n",
      "Loading dataset: 100%|██████████| 4/4 [00:00<00:00,  4.80it/s]\n"
     ]
    },
    {
     "data": {
      "application/vnd.jupyter.widget-view+json": {
       "model_id": "773c1d48c72e4f3b99723151a50d7911",
       "version_major": 2,
       "version_minor": 0
      },
      "text/plain": [
       "1/10 * Epoch (train):   0%|          | 0/9 [00:00<?, ?it/s]"
      ]
     },
     "metadata": {},
     "output_type": "display_data"
    },
    {
     "name": "stdout",
     "output_type": "stream",
     "text": [
      "train (1/10) dice: 0.1636190147449573 | dice/mean: 0.1636190147449573 | dice/std: 0.08678039122996625 | loss: 0.766409913698832 | loss/mean: 0.766409913698832 | loss/std: 0.16958333020400498 | lr: 0.000375 | momentum: 0.9\n"
     ]
    },
    {
     "data": {
      "application/vnd.jupyter.widget-view+json": {
       "model_id": "c2fc35fb0b2a4571a953a47820058685",
       "version_major": 2,
       "version_minor": 0
      },
      "text/plain": [
       "1/10 * Epoch (valid):   0%|          | 0/2 [00:00<?, ?it/s]"
      ]
     },
     "metadata": {},
     "output_type": "display_data"
    },
    {
     "name": "stdout",
     "output_type": "stream",
     "text": [
      "valid (1/10) dice: 0.23653718829154968 | dice/mean: 0.23653718829154968 | dice/std: 0.1401408024295459 | loss: 0.9438244104385376 | loss/mean: 0.9438244104385376 | loss/std: 0.07355701873693005 | lr: 0.000375 | momentum: 0.9\n",
      "* Epoch (1/10) lr: 0.00033919068644530263 | momentum: 0.9\n"
     ]
    },
    {
     "data": {
      "application/vnd.jupyter.widget-view+json": {
       "model_id": "e63961f373004755b2916a4b260820c7",
       "version_major": 2,
       "version_minor": 0
      },
      "text/plain": [
       "2/10 * Epoch (train):   0%|          | 0/9 [00:00<?, ?it/s]"
      ]
     },
     "metadata": {},
     "output_type": "display_data"
    },
    {
     "name": "stdout",
     "output_type": "stream",
     "text": [
      "train (2/10) dice: 0.2332374101711644 | dice/mean: 0.2332374101711644 | dice/std: 0.07782236628445562 | loss: 0.6793176664246453 | loss/mean: 0.6793176664246453 | loss/std: 0.15495553060583092 | lr: 0.00033919068644530263 | momentum: 0.9\n"
     ]
    },
    {
     "data": {
      "application/vnd.jupyter.widget-view+json": {
       "model_id": "25a5b49ef3424c6fa52e0a0fd4b06076",
       "version_major": 2,
       "version_minor": 0
      },
      "text/plain": [
       "2/10 * Epoch (valid):   0%|          | 0/2 [00:00<?, ?it/s]"
      ]
     },
     "metadata": {},
     "output_type": "display_data"
    },
    {
     "name": "stdout",
     "output_type": "stream",
     "text": [
      "valid (2/10) dice: 0.23989292979240417 | dice/mean: 0.23989292979240417 | dice/std: 0.12978113370468386 | loss: 0.9713962376117706 | loss/mean: 0.9713962376117706 | loss/std: 0.08849819059654922 | lr: 0.00033919068644530263 | momentum: 0.9\n",
      "* Epoch (2/10) lr: 0.00024544068644530265 | momentum: 0.9\n"
     ]
    },
    {
     "data": {
      "application/vnd.jupyter.widget-view+json": {
       "model_id": "1a8aac62248841ff8c86c1f83ef4555a",
       "version_major": 2,
       "version_minor": 0
      },
      "text/plain": [
       "3/10 * Epoch (train):   0%|          | 0/9 [00:00<?, ?it/s]"
      ]
     },
     "metadata": {},
     "output_type": "display_data"
    },
    {
     "name": "stdout",
     "output_type": "stream",
     "text": [
      "train (3/10) dice: 0.1896269747780429 | dice/mean: 0.1896269747780429 | dice/std: 0.0933430539306372 | loss: 0.7802672353055742 | loss/mean: 0.7802672353055742 | loss/std: 0.19113757019923455 | lr: 0.00024544068644530265 | momentum: 0.9\n"
     ]
    },
    {
     "data": {
      "application/vnd.jupyter.widget-view+json": {
       "model_id": "cdc66548c8ee4661a28a76247ae3f764",
       "version_major": 2,
       "version_minor": 0
      },
      "text/plain": [
       "3/10 * Epoch (valid):   0%|          | 0/2 [00:00<?, ?it/s]"
      ]
     },
     "metadata": {},
     "output_type": "display_data"
    },
    {
     "name": "stdout",
     "output_type": "stream",
     "text": [
      "valid (3/10) dice: 0.24144191294908524 | dice/mean: 0.24144191294908524 | dice/std: 0.1354121298845954 | loss: 0.9571006894111633 | loss/mean: 0.9571006894111633 | loss/std: 0.08134978914702998 | lr: 0.00024544068644530265 | momentum: 0.9\n",
      "* Epoch (3/10) lr: 0.00012955931355469738 | momentum: 0.9\n"
     ]
    },
    {
     "data": {
      "application/vnd.jupyter.widget-view+json": {
       "model_id": "e233b71105f04c2fae40b5aeca8c2f46",
       "version_major": 2,
       "version_minor": 0
      },
      "text/plain": [
       "4/10 * Epoch (train):   0%|          | 0/9 [00:00<?, ?it/s]"
      ]
     },
     "metadata": {},
     "output_type": "display_data"
    },
    {
     "name": "stdout",
     "output_type": "stream",
     "text": [
      "train (4/10) dice: 0.15559671612249482 | dice/mean: 0.15559671612249482 | dice/std: 0.07497362845476974 | loss: 0.7122777104377747 | loss/mean: 0.7122777104377747 | loss/std: 0.12901677475729542 | lr: 0.00012955931355469738 | momentum: 0.9\n"
     ]
    },
    {
     "data": {
      "application/vnd.jupyter.widget-view+json": {
       "model_id": "0019191ca74a4c42af6e23ec0ca7777a",
       "version_major": 2,
       "version_minor": 0
      },
      "text/plain": [
       "4/10 * Epoch (valid):   0%|          | 0/2 [00:00<?, ?it/s]"
      ]
     },
     "metadata": {},
     "output_type": "display_data"
    },
    {
     "name": "stdout",
     "output_type": "stream",
     "text": [
      "valid (4/10) dice: 0.23419393599033356 | dice/mean: 0.23419393599033356 | dice/std: 0.1337647038620517 | loss: 0.9668309390544891 | loss/mean: 0.9668309390544891 | loss/std: 0.09152674064128981 | lr: 0.00012955931355469738 | momentum: 0.9\n",
      "* Epoch (4/10) lr: 3.580931355469737e-05 | momentum: 0.9\n"
     ]
    },
    {
     "data": {
      "application/vnd.jupyter.widget-view+json": {
       "model_id": "2f9a73acbbb24c349e5ac99544377256",
       "version_major": 2,
       "version_minor": 0
      },
      "text/plain": [
       "5/10 * Epoch (train):   0%|          | 0/9 [00:00<?, ?it/s]"
      ]
     },
     "metadata": {},
     "output_type": "display_data"
    },
    {
     "name": "stdout",
     "output_type": "stream",
     "text": [
      "train (5/10) dice: 0.21634869856966865 | dice/mean: 0.21634869856966865 | dice/std: 0.07983869490640036 | loss: 0.6488588452339172 | loss/mean: 0.6488588452339172 | loss/std: 0.19176276425785987 | lr: 3.580931355469737e-05 | momentum: 0.9\n"
     ]
    },
    {
     "data": {
      "application/vnd.jupyter.widget-view+json": {
       "model_id": "8e0e0bc1c45e4fdda9da35ddd61b2ffc",
       "version_major": 2,
       "version_minor": 0
      },
      "text/plain": [
       "5/10 * Epoch (valid):   0%|          | 0/2 [00:00<?, ?it/s]"
      ]
     },
     "metadata": {},
     "output_type": "display_data"
    },
    {
     "name": "stdout",
     "output_type": "stream",
     "text": [
      "valid (5/10) dice: 0.21975845098495483 | dice/mean: 0.21975845098495483 | dice/std: 0.1392984552874548 | loss: 0.9722987115383148 | loss/mean: 0.9722987115383148 | loss/std: 0.08846155157036045 | lr: 3.580931355469737e-05 | momentum: 0.9\n",
      "* Epoch (5/10) lr: 0.000375 | momentum: 0.9\n"
     ]
    },
    {
     "data": {
      "application/vnd.jupyter.widget-view+json": {
       "model_id": "bd6d288cc767421387e4491ddc5554e3",
       "version_major": 2,
       "version_minor": 0
      },
      "text/plain": [
       "6/10 * Epoch (train):   0%|          | 0/9 [00:00<?, ?it/s]"
      ]
     },
     "metadata": {},
     "output_type": "display_data"
    },
    {
     "name": "stdout",
     "output_type": "stream",
     "text": [
      "train (6/10) dice: 0.2352467460764779 | dice/mean: 0.2352467460764779 | dice/std: 0.05922279406925559 | loss: 0.6921447647942437 | loss/mean: 0.6921447647942437 | loss/std: 0.1837298565522967 | lr: 0.000375 | momentum: 0.9\n"
     ]
    },
    {
     "data": {
      "application/vnd.jupyter.widget-view+json": {
       "model_id": "5065bc8fa5fe45679eacccdcb2075343",
       "version_major": 2,
       "version_minor": 0
      },
      "text/plain": [
       "6/10 * Epoch (valid):   0%|          | 0/2 [00:00<?, ?it/s]"
      ]
     },
     "metadata": {},
     "output_type": "display_data"
    },
    {
     "name": "stdout",
     "output_type": "stream",
     "text": [
      "valid (6/10) dice: 0.2535149157047272 | dice/mean: 0.2535149157047272 | dice/std: 0.15190642209935062 | loss: 0.9592075347900391 | loss/mean: 0.9592075347900391 | loss/std: 0.08992924723943686 | lr: 0.000375 | momentum: 0.9\n",
      "* Epoch (6/10) lr: 0.00033919068644530263 | momentum: 0.9\n"
     ]
    },
    {
     "data": {
      "application/vnd.jupyter.widget-view+json": {
       "model_id": "b67095fe5c0146adb34c56a307d3c282",
       "version_major": 2,
       "version_minor": 0
      },
      "text/plain": [
       "7/10 * Epoch (train):   0%|          | 0/9 [00:00<?, ?it/s]"
      ]
     },
     "metadata": {},
     "output_type": "display_data"
    },
    {
     "name": "stdout",
     "output_type": "stream",
     "text": [
      "train (7/10) dice: 0.17778529392348397 | dice/mean: 0.17778529392348397 | dice/std: 0.06392518590177017 | loss: 0.7166428433524238 | loss/mean: 0.7166428433524238 | loss/std: 0.1972965393515629 | lr: 0.00033919068644530263 | momentum: 0.9\n"
     ]
    },
    {
     "data": {
      "application/vnd.jupyter.widget-view+json": {
       "model_id": "8863e8f54c0547319fa2aa5f7c7bcbfc",
       "version_major": 2,
       "version_minor": 0
      },
      "text/plain": [
       "7/10 * Epoch (valid):   0%|          | 0/2 [00:00<?, ?it/s]"
      ]
     },
     "metadata": {},
     "output_type": "display_data"
    },
    {
     "name": "stdout",
     "output_type": "stream",
     "text": [
      "valid (7/10) dice: 0.22389859706163406 | dice/mean: 0.22389859706163406 | dice/std: 0.1467261018715723 | loss: 0.9665146470069885 | loss/mean: 0.9665146470069885 | loss/std: 0.089298227628398 | lr: 0.00033919068644530263 | momentum: 0.9\n",
      "* Epoch (7/10) lr: 0.00024544068644530265 | momentum: 0.9\n"
     ]
    },
    {
     "data": {
      "application/vnd.jupyter.widget-view+json": {
       "model_id": "a4f1b9e4a4394f8cbbff5e43443e1328",
       "version_major": 2,
       "version_minor": 0
      },
      "text/plain": [
       "8/10 * Epoch (train):   0%|          | 0/9 [00:00<?, ?it/s]"
      ]
     },
     "metadata": {},
     "output_type": "display_data"
    },
    {
     "name": "stdout",
     "output_type": "stream",
     "text": [
      "train (8/10) dice: 0.2281146471699079 | dice/mean: 0.2281146471699079 | dice/std: 0.10709432595159712 | loss: 0.68588697248035 | loss/mean: 0.68588697248035 | loss/std: 0.2637415799288078 | lr: 0.00024544068644530265 | momentum: 0.9\n"
     ]
    },
    {
     "data": {
      "application/vnd.jupyter.widget-view+json": {
       "model_id": "edca1903d2a24c7084d5fc2623988c34",
       "version_major": 2,
       "version_minor": 0
      },
      "text/plain": [
       "8/10 * Epoch (valid):   0%|          | 0/2 [00:00<?, ?it/s]"
      ]
     },
     "metadata": {},
     "output_type": "display_data"
    },
    {
     "name": "stdout",
     "output_type": "stream",
     "text": [
      "valid (8/10) dice: 0.22988220304250717 | dice/mean: 0.22988220304250717 | dice/std: 0.12897756817531297 | loss: 0.9798157811164856 | loss/mean: 0.9798157811164856 | loss/std: 0.08454585919151014 | lr: 0.00024544068644530265 | momentum: 0.9\n",
      "* Epoch (8/10) lr: 0.00012955931355469738 | momentum: 0.9\n"
     ]
    },
    {
     "data": {
      "application/vnd.jupyter.widget-view+json": {
       "model_id": "5e9b659444e641c28efab641ba7196af",
       "version_major": 2,
       "version_minor": 0
      },
      "text/plain": [
       "9/10 * Epoch (train):   0%|          | 0/9 [00:00<?, ?it/s]"
      ]
     },
     "metadata": {},
     "output_type": "display_data"
    },
    {
     "name": "stdout",
     "output_type": "stream",
     "text": [
      "train (9/10) dice: 0.18570607321129906 | dice/mean: 0.18570607321129906 | dice/std: 0.0938255783484735 | loss: 0.7329423560036553 | loss/mean: 0.7329423560036553 | loss/std: 0.20476237829243762 | lr: 0.00012955931355469738 | momentum: 0.9\n"
     ]
    },
    {
     "data": {
      "application/vnd.jupyter.widget-view+json": {
       "model_id": "91d19ea83fcb484bacec0667d07254a2",
       "version_major": 2,
       "version_minor": 0
      },
      "text/plain": [
       "9/10 * Epoch (valid):   0%|          | 0/2 [00:00<?, ?it/s]"
      ]
     },
     "metadata": {},
     "output_type": "display_data"
    },
    {
     "name": "stdout",
     "output_type": "stream",
     "text": [
      "valid (9/10) dice: 0.23121480643749237 | dice/mean: 0.23121480643749237 | dice/std: 0.14922503479275429 | loss: 0.9551794826984406 | loss/mean: 0.9551794826984406 | loss/std: 0.08817831596790991 | lr: 0.00012955931355469738 | momentum: 0.9\n",
      "* Epoch (9/10) lr: 3.580931355469737e-05 | momentum: 0.9\n"
     ]
    },
    {
     "data": {
      "application/vnd.jupyter.widget-view+json": {
       "model_id": "7e4ce45e721747caae62e14ce5550462",
       "version_major": 2,
       "version_minor": 0
      },
      "text/plain": [
       "10/10 * Epoch (train):   0%|          | 0/9 [00:00<?, ?it/s]"
      ]
     },
     "metadata": {},
     "output_type": "display_data"
    },
    {
     "name": "stdout",
     "output_type": "stream",
     "text": [
      "train (10/10) dice: 0.17502088016933864 | dice/mean: 0.17502088016933864 | dice/std: 0.09444600063648313 | loss: 0.612231989701589 | loss/mean: 0.612231989701589 | loss/std: 0.2410886600961319 | lr: 3.580931355469737e-05 | momentum: 0.9\n"
     ]
    },
    {
     "data": {
      "application/vnd.jupyter.widget-view+json": {
       "model_id": "f4bee779303b47c4b2667a32ac790bef",
       "version_major": 2,
       "version_minor": 0
      },
      "text/plain": [
       "10/10 * Epoch (valid):   0%|          | 0/2 [00:00<?, ?it/s]"
      ]
     },
     "metadata": {},
     "output_type": "display_data"
    },
    {
     "name": "stdout",
     "output_type": "stream",
     "text": [
      "valid (10/10) dice: 0.23247835040092468 | dice/mean: 0.23247835040092468 | dice/std: 0.14368287232133914 | loss: 0.9566605389118195 | loss/mean: 0.9566605389118195 | loss/std: 0.08007465545559261 | lr: 3.580931355469737e-05 | momentum: 0.9\n",
      "* Epoch (10/10) lr: 0.000375 | momentum: 0.9\n",
      "Top models:\n",
      "../logs/24_added_data_sw/lung_finetuned/checkpoints/model.0001.pth\t0.9438\n"
     ]
    },
    {
     "name": "stderr",
     "output_type": "stream",
     "text": [
      "100%|██████████| 1/1 [00:00<00:00,  1.33it/s]\n",
      "100%|██████████| 9/9 [00:08<00:00,  1.02it/s]\n",
      "100%|██████████| 2/2 [00:01<00:00,  1.23it/s]\n"
     ]
    },
    {
     "name": "stdout",
     "output_type": "stream",
     "text": [
      "lung: testdice: 0.1144990399479866\n"
     ]
    },
    {
     "name": "stderr",
     "output_type": "stream",
     "text": [
      "you are shuffling a 'dict' object which is not a subclass of 'Sequence'; `shuffle` is not guaranteed to behave correctly. E.g., non-numpy array/tensor objects with view semantics may contain duplicates after shuffling.\n",
      "Loading dataset: 100%|██████████| 500/500 [00:08<00:00, 55.80it/s]\n",
      "Loading dataset: 100%|██████████| 188/188 [00:03<00:00, 55.25it/s]\n"
     ]
    },
    {
     "data": {
      "application/vnd.jupyter.widget-view+json": {
       "model_id": "d5a98017f8704b5c9d8519b0eefdbaf8",
       "version_major": 2,
       "version_minor": 0
      },
      "text/plain": [
       "1/5 * Epoch (train):   0%|          | 0/125 [00:00<?, ?it/s]"
      ]
     },
     "metadata": {},
     "output_type": "display_data"
    },
    {
     "name": "stdout",
     "output_type": "stream",
     "text": [
      "train (1/5) dice: 0.03439956962317229 | dice/mean: 0.03439956962317229 | dice/std: 0.014048911995873178 | loss: 1.1515111646652227 | loss/mean: 1.1515111646652227 | loss/std: 0.019067539707675364 | lr: 0.000375 | momentum: 0.9\n"
     ]
    },
    {
     "data": {
      "application/vnd.jupyter.widget-view+json": {
       "model_id": "a3199f0dd5354f8e900e40e4493306ef",
       "version_major": 2,
       "version_minor": 0
      },
      "text/plain": [
       "1/5 * Epoch (valid):   0%|          | 0/47 [00:00<?, ?it/s]"
      ]
     },
     "metadata": {},
     "output_type": "display_data"
    },
    {
     "name": "stdout",
     "output_type": "stream",
     "text": [
      "valid (1/5) dice: 0.04730861309043905 | dice/mean: 0.04730861309043905 | dice/std: 0.016324064064701212 | loss: 1.152006408001514 | loss/mean: 1.152006408001514 | loss/std: 0.017473266376128987 | lr: 0.000375 | momentum: 0.9\n",
      "* Epoch (1/5) lr: 0.00033919068644530263 | momentum: 0.9\n"
     ]
    },
    {
     "data": {
      "application/vnd.jupyter.widget-view+json": {
       "model_id": "5a8bdd6afdc541d38909d7ead8d2941e",
       "version_major": 2,
       "version_minor": 0
      },
      "text/plain": [
       "2/5 * Epoch (train):   0%|          | 0/125 [00:00<?, ?it/s]"
      ]
     },
     "metadata": {},
     "output_type": "display_data"
    },
    {
     "name": "stdout",
     "output_type": "stream",
     "text": [
      "train (2/5) dice: 0.0874369918256998 | dice/mean: 0.0874369918256998 | dice/std: 0.07421072407310746 | loss: 1.1129056272506714 | loss/mean: 1.1129056272506714 | loss/std: 0.026918310370577552 | lr: 0.00033919068644530263 | momentum: 0.9\n"
     ]
    },
    {
     "data": {
      "application/vnd.jupyter.widget-view+json": {
       "model_id": "b49c51c7f51e4d418cf4b222263c7cef",
       "version_major": 2,
       "version_minor": 0
      },
      "text/plain": [
       "2/5 * Epoch (valid):   0%|          | 0/47 [00:00<?, ?it/s]"
      ]
     },
     "metadata": {},
     "output_type": "display_data"
    },
    {
     "name": "stdout",
     "output_type": "stream",
     "text": [
      "valid (2/5) dice: 0.25476805960878407 | dice/mean: 0.25476805960878407 | dice/std: 0.06304592558158449 | loss: 1.0804010655017608 | loss/mean: 1.0804010655017608 | loss/std: 0.022691449669884216 | lr: 0.00033919068644530263 | momentum: 0.9\n",
      "* Epoch (2/5) lr: 0.00024544068644530265 | momentum: 0.9\n"
     ]
    },
    {
     "data": {
      "application/vnd.jupyter.widget-view+json": {
       "model_id": "da0cb8aa69ea40c3b5fbc5879a3bae22",
       "version_major": 2,
       "version_minor": 0
      },
      "text/plain": [
       "3/5 * Epoch (train):   0%|          | 0/125 [00:00<?, ?it/s]"
      ]
     },
     "metadata": {},
     "output_type": "display_data"
    },
    {
     "name": "stdout",
     "output_type": "stream",
     "text": [
      "train (3/5) dice: 0.3916420998573304 | dice/mean: 0.3916420998573304 | dice/std: 0.1258376436601223 | loss: 1.0132206554412848 | loss/mean: 1.0132206554412848 | loss/std: 0.03980922981361373 | lr: 0.00024544068644530265 | momentum: 0.9\n"
     ]
    },
    {
     "data": {
      "application/vnd.jupyter.widget-view+json": {
       "model_id": "e79557e73b5f463abae2c407bcfe40f0",
       "version_major": 2,
       "version_minor": 0
      },
      "text/plain": [
       "3/5 * Epoch (valid):   0%|          | 0/47 [00:00<?, ?it/s]"
      ]
     },
     "metadata": {},
     "output_type": "display_data"
    },
    {
     "name": "stdout",
     "output_type": "stream",
     "text": [
      "valid (3/5) dice: 0.6403080523014067 | dice/mean: 0.6403080523014067 | dice/std: 0.09354793380432112 | loss: 0.9301132090548252 | loss/mean: 0.9301132090548252 | loss/std: 0.041718113186722715 | lr: 0.00024544068644530265 | momentum: 0.9\n",
      "* Epoch (3/5) lr: 0.00012955931355469738 | momentum: 0.9\n"
     ]
    },
    {
     "data": {
      "application/vnd.jupyter.widget-view+json": {
       "model_id": "a9a125e9a03d44729d05bb9d8695c5a7",
       "version_major": 2,
       "version_minor": 0
      },
      "text/plain": [
       "4/5 * Epoch (train):   0%|          | 0/125 [00:00<?, ?it/s]"
      ]
     },
     "metadata": {},
     "output_type": "display_data"
    },
    {
     "name": "stdout",
     "output_type": "stream",
     "text": [
      "train (4/5) dice: 0.5743208537101747 | dice/mean: 0.5743208537101747 | dice/std: 0.12335183345750433 | loss: 0.89304455280304 | loss/mean: 0.89304455280304 | loss/std: 0.059962575126874654 | lr: 0.00012955931355469738 | momentum: 0.9\n"
     ]
    },
    {
     "data": {
      "application/vnd.jupyter.widget-view+json": {
       "model_id": "bdee458d4673435e98cf19b069d278c4",
       "version_major": 2,
       "version_minor": 0
      },
      "text/plain": [
       "4/5 * Epoch (valid):   0%|          | 0/47 [00:00<?, ?it/s]"
      ]
     },
     "metadata": {},
     "output_type": "display_data"
    },
    {
     "name": "stdout",
     "output_type": "stream",
     "text": [
      "valid (4/5) dice: 0.724529341814366 | dice/mean: 0.724529341814366 | dice/std: 0.11000406532355142 | loss: 0.800938422375537 | loss/mean: 0.800938422375537 | loss/std: 0.06345242349831143 | lr: 0.00012955931355469738 | momentum: 0.9\n",
      "* Epoch (4/5) lr: 3.580931355469737e-05 | momentum: 0.9\n"
     ]
    },
    {
     "data": {
      "application/vnd.jupyter.widget-view+json": {
       "model_id": "e49d5f3f0054486c9a68bf1c1533ea88",
       "version_major": 2,
       "version_minor": 0
      },
      "text/plain": [
       "5/5 * Epoch (train):   0%|          | 0/125 [00:00<?, ?it/s]"
      ]
     },
     "metadata": {},
     "output_type": "display_data"
    },
    {
     "name": "stdout",
     "output_type": "stream",
     "text": [
      "train (5/5) dice: 0.6739021104574204 | dice/mean: 0.6739021104574204 | dice/std: 0.1334301909782329 | loss: 0.7493960690498352 | loss/mean: 0.7493960690498352 | loss/std: 0.08818196095965496 | lr: 3.580931355469737e-05 | momentum: 0.9\n"
     ]
    },
    {
     "data": {
      "application/vnd.jupyter.widget-view+json": {
       "model_id": "b019fc4a77754fae98fb53aa5fbd7cba",
       "version_major": 2,
       "version_minor": 0
      },
      "text/plain": [
       "5/5 * Epoch (valid):   0%|          | 0/47 [00:00<?, ?it/s]"
      ]
     },
     "metadata": {},
     "output_type": "display_data"
    },
    {
     "name": "stdout",
     "output_type": "stream",
     "text": [
      "valid (5/5) dice: 0.7681148242443164 | dice/mean: 0.7681148242443164 | dice/std: 0.09950808370960317 | loss: 0.643411509534146 | loss/mean: 0.643411509534146 | loss/std: 0.08456773925332467 | lr: 3.580931355469737e-05 | momentum: 0.9\n",
      "* Epoch (5/5) lr: 0.000375 | momentum: 0.9\n",
      "Top models:\n",
      "../logs/24_added_data_sw/kidney_pretrained/checkpoints/model.0005.pth\t0.6434\n"
     ]
    },
    {
     "name": "stderr",
     "output_type": "stream",
     "text": [
      "Loading dataset: 100%|██████████| 72/72 [00:16<00:00,  4.38it/s]\n",
      "Loading dataset: 100%|██████████| 18/18 [00:03<00:00,  4.53it/s]\n",
      "Loading dataset: 100%|██████████| 9/9 [00:01<00:00,  4.52it/s]\n"
     ]
    },
    {
     "data": {
      "application/vnd.jupyter.widget-view+json": {
       "model_id": "bb436e9f7043492681c4f20f186edcdd",
       "version_major": 2,
       "version_minor": 0
      },
      "text/plain": [
       "1/10 * Epoch (train):   0%|          | 0/18 [00:00<?, ?it/s]"
      ]
     },
     "metadata": {},
     "output_type": "display_data"
    },
    {
     "name": "stdout",
     "output_type": "stream",
     "text": [
      "train (1/10) dice: 0.49336888516942656 | dice/mean: 0.49336888516942656 | dice/std: 0.19984535925279848 | loss: 0.5375256952312258 | loss/mean: 0.5375256952312258 | loss/std: 0.17020036728270738 | lr: 0.000375 | momentum: 0.9\n"
     ]
    },
    {
     "data": {
      "application/vnd.jupyter.widget-view+json": {
       "model_id": "3eb3088468ee4d77870399487ab7ea39",
       "version_major": 2,
       "version_minor": 0
      },
      "text/plain": [
       "1/10 * Epoch (valid):   0%|          | 0/5 [00:00<?, ?it/s]"
      ]
     },
     "metadata": {},
     "output_type": "display_data"
    },
    {
     "name": "stdout",
     "output_type": "stream",
     "text": [
      "valid (1/10) dice: 0.7526300946871439 | dice/mean: 0.7526300946871439 | dice/std: 0.029616377164793338 | loss: 0.5919366081555685 | loss/mean: 0.5919366081555685 | loss/std: 0.047517156800410375 | lr: 0.000375 | momentum: 0.9\n",
      "* Epoch (1/10) lr: 0.00033919068644530263 | momentum: 0.9\n"
     ]
    },
    {
     "data": {
      "application/vnd.jupyter.widget-view+json": {
       "model_id": "f5113409869140718e09600149f701f0",
       "version_major": 2,
       "version_minor": 0
      },
      "text/plain": [
       "2/10 * Epoch (train):   0%|          | 0/18 [00:00<?, ?it/s]"
      ]
     },
     "metadata": {},
     "output_type": "display_data"
    },
    {
     "name": "stdout",
     "output_type": "stream",
     "text": [
      "train (2/10) dice: 0.4745037580529849 | dice/mean: 0.4745037580529849 | dice/std: 0.2110580659642675 | loss: 0.5768062050143877 | loss/mean: 0.5768062050143877 | loss/std: 0.16697006405494694 | lr: 0.00033919068644530263 | momentum: 0.9\n"
     ]
    },
    {
     "data": {
      "application/vnd.jupyter.widget-view+json": {
       "model_id": "c7e28a11126e459f930b3c4d482d8b63",
       "version_major": 2,
       "version_minor": 0
      },
      "text/plain": [
       "2/10 * Epoch (valid):   0%|          | 0/5 [00:00<?, ?it/s]"
      ]
     },
     "metadata": {},
     "output_type": "display_data"
    },
    {
     "name": "stdout",
     "output_type": "stream",
     "text": [
      "valid (2/10) dice: 0.7452264030774435 | dice/mean: 0.7452264030774435 | dice/std: 0.039095719594350466 | loss: 0.5881490773624845 | loss/mean: 0.5881490773624845 | loss/std: 0.04738032961948368 | lr: 0.00033919068644530263 | momentum: 0.9\n",
      "* Epoch (2/10) lr: 0.00024544068644530265 | momentum: 0.9\n"
     ]
    },
    {
     "data": {
      "application/vnd.jupyter.widget-view+json": {
       "model_id": "f5ea586d7f8f49c19822c2afdaab267f",
       "version_major": 2,
       "version_minor": 0
      },
      "text/plain": [
       "3/10 * Epoch (train):   0%|          | 0/18 [00:00<?, ?it/s]"
      ]
     },
     "metadata": {},
     "output_type": "display_data"
    },
    {
     "name": "stdout",
     "output_type": "stream",
     "text": [
      "train (3/10) dice: 0.5792914314402473 | dice/mean: 0.5792914314402473 | dice/std: 0.18299652004188577 | loss: 0.45710802574952447 | loss/mean: 0.45710802574952447 | loss/std: 0.14140197377704827 | lr: 0.00024544068644530265 | momentum: 0.9\n"
     ]
    },
    {
     "data": {
      "application/vnd.jupyter.widget-view+json": {
       "model_id": "07d169b96bce4523af7f2a919e51709b",
       "version_major": 2,
       "version_minor": 0
      },
      "text/plain": [
       "3/10 * Epoch (valid):   0%|          | 0/5 [00:00<?, ?it/s]"
      ]
     },
     "metadata": {},
     "output_type": "display_data"
    },
    {
     "name": "stdout",
     "output_type": "stream",
     "text": [
      "valid (3/10) dice: 0.7443429364098443 | dice/mean: 0.7443429364098443 | dice/std: 0.05301537271330003 | loss: 0.5939359267552694 | loss/mean: 0.5939359267552694 | loss/std: 0.0553967614997432 | lr: 0.00024544068644530265 | momentum: 0.9\n",
      "* Epoch (3/10) lr: 0.00012955931355469738 | momentum: 0.9\n"
     ]
    },
    {
     "data": {
      "application/vnd.jupyter.widget-view+json": {
       "model_id": "84d2bb83c5ae44219b0f66b85ce74bc1",
       "version_major": 2,
       "version_minor": 0
      },
      "text/plain": [
       "4/10 * Epoch (train):   0%|          | 0/18 [00:00<?, ?it/s]"
      ]
     },
     "metadata": {},
     "output_type": "display_data"
    },
    {
     "name": "stdout",
     "output_type": "stream",
     "text": [
      "train (4/10) dice: 0.531473630004459 | dice/mean: 0.531473630004459 | dice/std: 0.13865606762542892 | loss: 0.4945623493856854 | loss/mean: 0.4945623493856854 | loss/std: 0.13033932254966038 | lr: 0.00012955931355469738 | momentum: 0.9\n"
     ]
    },
    {
     "data": {
      "application/vnd.jupyter.widget-view+json": {
       "model_id": "40815d5a334549d09b2df52630308722",
       "version_major": 2,
       "version_minor": 0
      },
      "text/plain": [
       "4/10 * Epoch (valid):   0%|          | 0/5 [00:00<?, ?it/s]"
      ]
     },
     "metadata": {},
     "output_type": "display_data"
    },
    {
     "name": "stdout",
     "output_type": "stream",
     "text": [
      "valid (4/10) dice: 0.7561282051934136 | dice/mean: 0.7561282051934136 | dice/std: 0.032068262210209454 | loss: 0.5774282481935289 | loss/mean: 0.5774282481935289 | loss/std: 0.04838949879098863 | lr: 0.00012955931355469738 | momentum: 0.9\n",
      "* Epoch (4/10) lr: 3.580931355469737e-05 | momentum: 0.9\n"
     ]
    },
    {
     "data": {
      "application/vnd.jupyter.widget-view+json": {
       "model_id": "8cc4eebbf389426a9d927f64f8d32894",
       "version_major": 2,
       "version_minor": 0
      },
      "text/plain": [
       "5/10 * Epoch (train):   0%|          | 0/18 [00:00<?, ?it/s]"
      ]
     },
     "metadata": {},
     "output_type": "display_data"
    },
    {
     "name": "stdout",
     "output_type": "stream",
     "text": [
      "train (5/10) dice: 0.5667224874099096 | dice/mean: 0.5667224874099096 | dice/std: 0.22584224433803216 | loss: 0.4846181819836299 | loss/mean: 0.4846181819836299 | loss/std: 0.18320095655638968 | lr: 3.580931355469737e-05 | momentum: 0.9\n"
     ]
    },
    {
     "data": {
      "application/vnd.jupyter.widget-view+json": {
       "model_id": "16e46957001a45f5bab3cc7e5f56e097",
       "version_major": 2,
       "version_minor": 0
      },
      "text/plain": [
       "5/10 * Epoch (valid):   0%|          | 0/5 [00:00<?, ?it/s]"
      ]
     },
     "metadata": {},
     "output_type": "display_data"
    },
    {
     "name": "stdout",
     "output_type": "stream",
     "text": [
      "valid (5/10) dice: 0.7934774425294664 | dice/mean: 0.7934774425294664 | dice/std: 0.028760122507191326 | loss: 0.5694614052772522 | loss/mean: 0.5694614052772522 | loss/std: 0.05589192099688725 | lr: 3.580931355469737e-05 | momentum: 0.9\n",
      "* Epoch (5/10) lr: 0.000375 | momentum: 0.9\n"
     ]
    },
    {
     "data": {
      "application/vnd.jupyter.widget-view+json": {
       "model_id": "6ef6136edc5343c29aab489052fb48f1",
       "version_major": 2,
       "version_minor": 0
      },
      "text/plain": [
       "6/10 * Epoch (train):   0%|          | 0/18 [00:00<?, ?it/s]"
      ]
     },
     "metadata": {},
     "output_type": "display_data"
    },
    {
     "name": "stdout",
     "output_type": "stream",
     "text": [
      "train (6/10) dice: 0.5536277641852696 | dice/mean: 0.5536277641852696 | dice/std: 0.15676017441455337 | loss: 0.5033053855101267 | loss/mean: 0.5033053855101267 | loss/std: 0.1574069856578268 | lr: 0.000375 | momentum: 0.9\n"
     ]
    },
    {
     "data": {
      "application/vnd.jupyter.widget-view+json": {
       "model_id": "7fe54399181f4aa0a3e57af0021a9df7",
       "version_major": 2,
       "version_minor": 0
      },
      "text/plain": [
       "6/10 * Epoch (valid):   0%|          | 0/5 [00:00<?, ?it/s]"
      ]
     },
     "metadata": {},
     "output_type": "display_data"
    },
    {
     "name": "stdout",
     "output_type": "stream",
     "text": [
      "valid (6/10) dice: 0.7874758839607239 | dice/mean: 0.7874758839607239 | dice/std: 0.034192798093321625 | loss: 0.5679095056321886 | loss/mean: 0.5679095056321886 | loss/std: 0.05668547184798052 | lr: 0.000375 | momentum: 0.9\n",
      "* Epoch (6/10) lr: 0.00033919068644530263 | momentum: 0.9\n"
     ]
    },
    {
     "data": {
      "application/vnd.jupyter.widget-view+json": {
       "model_id": "2db4338dd6cc4ce7a16cf2a417a9872a",
       "version_major": 2,
       "version_minor": 0
      },
      "text/plain": [
       "7/10 * Epoch (train):   0%|          | 0/18 [00:00<?, ?it/s]"
      ]
     },
     "metadata": {},
     "output_type": "display_data"
    },
    {
     "name": "stdout",
     "output_type": "stream",
     "text": [
      "train (7/10) dice: 0.4878940201467938 | dice/mean: 0.4878940201467938 | dice/std: 0.20998067842064522 | loss: 0.5046088438895014 | loss/mean: 0.5046088438895014 | loss/std: 0.1648059034693206 | lr: 0.00033919068644530263 | momentum: 0.9\n"
     ]
    },
    {
     "data": {
      "application/vnd.jupyter.widget-view+json": {
       "model_id": "6a588fdf09f04b1f872139adfb52e286",
       "version_major": 2,
       "version_minor": 0
      },
      "text/plain": [
       "7/10 * Epoch (valid):   0%|          | 0/5 [00:00<?, ?it/s]"
      ]
     },
     "metadata": {},
     "output_type": "display_data"
    },
    {
     "name": "stdout",
     "output_type": "stream",
     "text": [
      "valid (7/10) dice: 0.7596947352091471 | dice/mean: 0.7596947352091471 | dice/std: 0.043705453873551424 | loss: 0.5690372718705071 | loss/mean: 0.5690372718705071 | loss/std: 0.061653203578394516 | lr: 0.00033919068644530263 | momentum: 0.9\n",
      "* Epoch (7/10) lr: 0.00024544068644530265 | momentum: 0.9\n"
     ]
    },
    {
     "data": {
      "application/vnd.jupyter.widget-view+json": {
       "model_id": "cc1b0b4400a84dcea6384066267f4963",
       "version_major": 2,
       "version_minor": 0
      },
      "text/plain": [
       "8/10 * Epoch (train):   0%|          | 0/18 [00:00<?, ?it/s]"
      ]
     },
     "metadata": {},
     "output_type": "display_data"
    },
    {
     "name": "stdout",
     "output_type": "stream",
     "text": [
      "train (8/10) dice: 0.654785962568389 | dice/mean: 0.654785962568389 | dice/std: 0.18032308715997192 | loss: 0.38355267792940134 | loss/mean: 0.38355267792940134 | loss/std: 0.13075754580646176 | lr: 0.00024544068644530265 | momentum: 0.9\n"
     ]
    },
    {
     "data": {
      "application/vnd.jupyter.widget-view+json": {
       "model_id": "7e81f6a464134c868723b22645158e1f",
       "version_major": 2,
       "version_minor": 0
      },
      "text/plain": [
       "8/10 * Epoch (valid):   0%|          | 0/5 [00:00<?, ?it/s]"
      ]
     },
     "metadata": {},
     "output_type": "display_data"
    },
    {
     "name": "stdout",
     "output_type": "stream",
     "text": [
      "valid (8/10) dice: 0.7844133310847812 | dice/mean: 0.7844133310847812 | dice/std: 0.04404225392206181 | loss: 0.5643924673398336 | loss/mean: 0.5643924673398336 | loss/std: 0.05808725839461889 | lr: 0.00024544068644530265 | momentum: 0.9\n",
      "* Epoch (8/10) lr: 0.00012955931355469738 | momentum: 0.9\n"
     ]
    },
    {
     "data": {
      "application/vnd.jupyter.widget-view+json": {
       "model_id": "f6a4d4af8e8d41d89f368654da31c794",
       "version_major": 2,
       "version_minor": 0
      },
      "text/plain": [
       "9/10 * Epoch (train):   0%|          | 0/18 [00:00<?, ?it/s]"
      ]
     },
     "metadata": {},
     "output_type": "display_data"
    },
    {
     "name": "stdout",
     "output_type": "stream",
     "text": [
      "train (9/10) dice: 0.5809922309385406 | dice/mean: 0.5809922309385406 | dice/std: 0.21704328877838813 | loss: 0.4764079393612014 | loss/mean: 0.4764079393612014 | loss/std: 0.15869681260051272 | lr: 0.00012955931355469738 | momentum: 0.9\n"
     ]
    },
    {
     "data": {
      "application/vnd.jupyter.widget-view+json": {
       "model_id": "a1aadaebfd9e480c9d1c81aa9025be9b",
       "version_major": 2,
       "version_minor": 0
      },
      "text/plain": [
       "9/10 * Epoch (valid):   0%|          | 0/5 [00:00<?, ?it/s]"
      ]
     },
     "metadata": {},
     "output_type": "display_data"
    },
    {
     "name": "stdout",
     "output_type": "stream",
     "text": [
      "valid (9/10) dice: 0.7920692894193861 | dice/mean: 0.7920692894193861 | dice/std: 0.046467815384914166 | loss: 0.5570226973957486 | loss/mean: 0.5570226973957486 | loss/std: 0.06132324977106955 | lr: 0.00012955931355469738 | momentum: 0.9\n",
      "* Epoch (9/10) lr: 3.580931355469737e-05 | momentum: 0.9\n"
     ]
    },
    {
     "data": {
      "application/vnd.jupyter.widget-view+json": {
       "model_id": "97b38db526a746ffa9d03dee06c50350",
       "version_major": 2,
       "version_minor": 0
      },
      "text/plain": [
       "10/10 * Epoch (train):   0%|          | 0/18 [00:00<?, ?it/s]"
      ]
     },
     "metadata": {},
     "output_type": "display_data"
    },
    {
     "name": "stdout",
     "output_type": "stream",
     "text": [
      "train (10/10) dice: 0.5747351671258609 | dice/mean: 0.5747351671258609 | dice/std: 0.2382058641147186 | loss: 0.4035067177481122 | loss/mean: 0.4035067177481122 | loss/std: 0.15946725290322963 | lr: 3.580931355469737e-05 | momentum: 0.9\n"
     ]
    },
    {
     "data": {
      "application/vnd.jupyter.widget-view+json": {
       "model_id": "7a8644d067804eeba4d4d04011fb2f21",
       "version_major": 2,
       "version_minor": 0
      },
      "text/plain": [
       "10/10 * Epoch (valid):   0%|          | 0/5 [00:00<?, ?it/s]"
      ]
     },
     "metadata": {},
     "output_type": "display_data"
    },
    {
     "name": "stdout",
     "output_type": "stream",
     "text": [
      "valid (10/10) dice: 0.7874562475416396 | dice/mean: 0.7874562475416396 | dice/std: 0.02755742153841498 | loss: 0.5488473044501411 | loss/mean: 0.5488473044501411 | loss/std: 0.05962527622520739 | lr: 3.580931355469737e-05 | momentum: 0.9\n",
      "* Epoch (10/10) lr: 0.000375 | momentum: 0.9\n",
      "Top models:\n",
      "../logs/24_added_data_sw/kidney_finetuned/checkpoints/model.0010.pth\t0.5488\n"
     ]
    },
    {
     "name": "stderr",
     "output_type": "stream",
     "text": [
      "100%|██████████| 3/3 [00:01<00:00,  1.71it/s]\n",
      "100%|██████████| 18/18 [00:17<00:00,  1.03it/s]\n",
      "100%|██████████| 5/5 [00:03<00:00,  1.33it/s]\n"
     ]
    },
    {
     "name": "stdout",
     "output_type": "stream",
     "text": [
      "kidney: testdice: 0.6454424262046814\n"
     ]
    },
    {
     "name": "stderr",
     "output_type": "stream",
     "text": [
      "you are shuffling a 'dict' object which is not a subclass of 'Sequence'; `shuffle` is not guaranteed to behave correctly. E.g., non-numpy array/tensor objects with view semantics may contain duplicates after shuffling.\n",
      "Loading dataset: 100%|██████████| 500/500 [00:09<00:00, 53.32it/s]\n",
      "Loading dataset: 100%|██████████| 161/161 [00:03<00:00, 51.32it/s]\n"
     ]
    },
    {
     "data": {
      "application/vnd.jupyter.widget-view+json": {
       "model_id": "00c11090fc82477981e9620f5e02d2f4",
       "version_major": 2,
       "version_minor": 0
      },
      "text/plain": [
       "1/5 * Epoch (train):   0%|          | 0/125 [00:00<?, ?it/s]"
      ]
     },
     "metadata": {},
     "output_type": "display_data"
    },
    {
     "name": "stdout",
     "output_type": "stream",
     "text": [
      "train (1/5) dice: 0.3950751856565475 | dice/mean: 0.3950751856565475 | dice/std: 0.07572573238418814 | loss: 0.843340585231781 | loss/mean: 0.843340585231781 | loss/std: 0.07166929347676171 | lr: 0.000375 | momentum: 0.9\n"
     ]
    },
    {
     "data": {
      "application/vnd.jupyter.widget-view+json": {
       "model_id": "ebdc98349f4547f18c48c99d8566258d",
       "version_major": 2,
       "version_minor": 0
      },
      "text/plain": [
       "1/5 * Epoch (valid):   0%|          | 0/41 [00:00<?, ?it/s]"
      ]
     },
     "metadata": {},
     "output_type": "display_data"
    },
    {
     "name": "stdout",
     "output_type": "stream",
     "text": [
      "valid (1/5) dice: 0.5013852141658711 | dice/mean: 0.5013852141658711 | dice/std: 0.057193226743794796 | loss: 0.8084007812582924 | loss/mean: 0.8084007812582924 | loss/std: 0.06932174177538263 | lr: 0.000375 | momentum: 0.9\n",
      "* Epoch (1/5) lr: 0.00033919068644530263 | momentum: 0.9\n"
     ]
    },
    {
     "data": {
      "application/vnd.jupyter.widget-view+json": {
       "model_id": "578ea4fb51bb4f71bbfb71cdd5973865",
       "version_major": 2,
       "version_minor": 0
      },
      "text/plain": [
       "2/5 * Epoch (train):   0%|          | 0/125 [00:00<?, ?it/s]"
      ]
     },
     "metadata": {},
     "output_type": "display_data"
    },
    {
     "name": "stdout",
     "output_type": "stream",
     "text": [
      "train (2/5) dice: 0.5409666450023652 | dice/mean: 0.5409666450023652 | dice/std: 0.10319523745796048 | loss: 0.7770042705535887 | loss/mean: 0.7770042705535887 | loss/std: 0.08403874959015385 | lr: 0.00033919068644530263 | momentum: 0.9\n"
     ]
    },
    {
     "data": {
      "application/vnd.jupyter.widget-view+json": {
       "model_id": "02c9e8c61fda486b9b42355722b2f790",
       "version_major": 2,
       "version_minor": 0
      },
      "text/plain": [
       "2/5 * Epoch (valid):   0%|          | 0/41 [00:00<?, ?it/s]"
      ]
     },
     "metadata": {},
     "output_type": "display_data"
    },
    {
     "name": "stdout",
     "output_type": "stream",
     "text": [
      "valid (2/5) dice: 0.6402898360483394 | dice/mean: 0.6402898360483394 | dice/std: 0.06778917581139554 | loss: 0.6892015460115044 | loss/mean: 0.6892015460115044 | loss/std: 0.07930139602269913 | lr: 0.00033919068644530263 | momentum: 0.9\n",
      "* Epoch (2/5) lr: 0.00024544068644530265 | momentum: 0.9\n"
     ]
    },
    {
     "data": {
      "application/vnd.jupyter.widget-view+json": {
       "model_id": "b513406808214406bbed17f5441c2caf",
       "version_major": 2,
       "version_minor": 0
      },
      "text/plain": [
       "3/5 * Epoch (train):   0%|          | 0/125 [00:00<?, ?it/s]"
      ]
     },
     "metadata": {},
     "output_type": "display_data"
    },
    {
     "name": "stdout",
     "output_type": "stream",
     "text": [
      "train (3/5) dice: 0.658448766708374 | dice/mean: 0.658448766708374 | dice/std: 0.1092190240093308 | loss: 0.6459783291816713 | loss/mean: 0.6459783291816713 | loss/std: 0.10878120776937436 | lr: 0.00024544068644530265 | momentum: 0.9\n"
     ]
    },
    {
     "data": {
      "application/vnd.jupyter.widget-view+json": {
       "model_id": "39bc8fa1c6cb447aa0f794962983b6cb",
       "version_major": 2,
       "version_minor": 0
      },
      "text/plain": [
       "3/5 * Epoch (valid):   0%|          | 0/41 [00:00<?, ?it/s]"
      ]
     },
     "metadata": {},
     "output_type": "display_data"
    },
    {
     "name": "stdout",
     "output_type": "stream",
     "text": [
      "valid (3/5) dice: 0.736136339836239 | dice/mean: 0.736136339836239 | dice/std: 0.06298987902834043 | loss: 0.5542816827015845 | loss/mean: 0.5542816827015845 | loss/std: 0.08365269508449655 | lr: 0.00024544068644530265 | momentum: 0.9\n",
      "* Epoch (3/5) lr: 0.00012955931355469738 | momentum: 0.9\n"
     ]
    },
    {
     "data": {
      "application/vnd.jupyter.widget-view+json": {
       "model_id": "a0d3da163f5b454dab33a3cde7306ec8",
       "version_major": 2,
       "version_minor": 0
      },
      "text/plain": [
       "4/5 * Epoch (train):   0%|          | 0/125 [00:00<?, ?it/s]"
      ]
     },
     "metadata": {},
     "output_type": "display_data"
    },
    {
     "name": "stdout",
     "output_type": "stream",
     "text": [
      "train (4/5) dice: 0.7226733696460725 | dice/mean: 0.7226733696460725 | dice/std: 0.09818090030394767 | loss: 0.5312914986610415 | loss/mean: 0.5312914986610415 | loss/std: 0.10299507321853114 | lr: 0.00012955931355469738 | momentum: 0.9\n"
     ]
    },
    {
     "data": {
      "application/vnd.jupyter.widget-view+json": {
       "model_id": "3b7c0fe148244e85bff1e3753f113fcc",
       "version_major": 2,
       "version_minor": 0
      },
      "text/plain": [
       "4/5 * Epoch (valid):   0%|          | 0/41 [00:00<?, ?it/s]"
      ]
     },
     "metadata": {},
     "output_type": "display_data"
    },
    {
     "name": "stdout",
     "output_type": "stream",
     "text": [
      "valid (4/5) dice: 0.8060967925912844 | dice/mean: 0.8060967925912844 | dice/std: 0.05495362526795188 | loss: 0.4424351002118603 | loss/mean: 0.4424351002118603 | loss/std: 0.0817102448874846 | lr: 0.00012955931355469738 | momentum: 0.9\n",
      "* Epoch (4/5) lr: 3.580931355469737e-05 | momentum: 0.9\n"
     ]
    },
    {
     "data": {
      "application/vnd.jupyter.widget-view+json": {
       "model_id": "5fdac945b5c44141b82ffdc06a780b74",
       "version_major": 2,
       "version_minor": 0
      },
      "text/plain": [
       "5/5 * Epoch (train):   0%|          | 0/125 [00:00<?, ?it/s]"
      ]
     },
     "metadata": {},
     "output_type": "display_data"
    },
    {
     "name": "stdout",
     "output_type": "stream",
     "text": [
      "train (5/5) dice: 0.7532211489677427 | dice/mean: 0.7532211489677427 | dice/std: 0.10049578812439906 | loss: 0.44434121561050427 | loss/mean: 0.44434121561050427 | loss/std: 0.1190281705945463 | lr: 3.580931355469737e-05 | momentum: 0.9\n"
     ]
    },
    {
     "data": {
      "application/vnd.jupyter.widget-view+json": {
       "model_id": "b4b7e7a17799446d94086e786d82edb3",
       "version_major": 2,
       "version_minor": 0
      },
      "text/plain": [
       "5/5 * Epoch (valid):   0%|          | 0/41 [00:00<?, ?it/s]"
      ]
     },
     "metadata": {},
     "output_type": "display_data"
    },
    {
     "name": "stdout",
     "output_type": "stream",
     "text": [
      "valid (5/5) dice: 0.8144159209654198 | dice/mean: 0.8144159209654198 | dice/std: 0.059175377304595614 | loss: 0.36521276331836394 | loss/mean: 0.36521276331836394 | loss/std: 0.0816103296731606 | lr: 3.580931355469737e-05 | momentum: 0.9\n",
      "* Epoch (5/5) lr: 0.000375 | momentum: 0.9\n",
      "Top models:\n",
      "../logs/24_added_data_sw/largeintestine_pretrained/checkpoints/model.0005.pth\t0.3652\n"
     ]
    },
    {
     "name": "stderr",
     "output_type": "stream",
     "text": [
      "Loading dataset: 100%|██████████| 43/43 [00:10<00:00,  4.12it/s]\n",
      "Loading dataset: 100%|██████████| 10/10 [00:02<00:00,  4.47it/s]\n",
      "Loading dataset: 100%|██████████| 5/5 [00:01<00:00,  4.49it/s]\n"
     ]
    },
    {
     "data": {
      "application/vnd.jupyter.widget-view+json": {
       "model_id": "d4523b3aabe04743b7e78767e637f3a3",
       "version_major": 2,
       "version_minor": 0
      },
      "text/plain": [
       "1/10 * Epoch (train):   0%|          | 0/11 [00:00<?, ?it/s]"
      ]
     },
     "metadata": {},
     "output_type": "display_data"
    },
    {
     "name": "stdout",
     "output_type": "stream",
     "text": [
      "train (1/10) dice: 0.6638085800547933 | dice/mean: 0.6638085800547933 | dice/std: 0.08138217206776246 | loss: 0.3836250526960506 | loss/mean: 0.3836250526960506 | loss/std: 0.07973058034589077 | lr: 0.000375 | momentum: 0.9\n"
     ]
    },
    {
     "data": {
      "application/vnd.jupyter.widget-view+json": {
       "model_id": "fd77f243aad44abd9e541bffc0c66028",
       "version_major": 2,
       "version_minor": 0
      },
      "text/plain": [
       "1/10 * Epoch (valid):   0%|          | 0/3 [00:00<?, ?it/s]"
      ]
     },
     "metadata": {},
     "output_type": "display_data"
    },
    {
     "name": "stdout",
     "output_type": "stream",
     "text": [
      "valid (1/10) dice: 0.8061578631401062 | dice/mean: 0.8061578631401062 | dice/std: 0.01929946484496526 | loss: 0.31299249529838563 | loss/mean: 0.31299249529838563 | loss/std: 0.002861460695054957 | lr: 0.000375 | momentum: 0.9\n",
      "* Epoch (1/10) lr: 0.00033919068644530263 | momentum: 0.9\n"
     ]
    },
    {
     "data": {
      "application/vnd.jupyter.widget-view+json": {
       "model_id": "e407e9b339cf4d7a972686038a8eed54",
       "version_major": 2,
       "version_minor": 0
      },
      "text/plain": [
       "2/10 * Epoch (train):   0%|          | 0/11 [00:00<?, ?it/s]"
      ]
     },
     "metadata": {},
     "output_type": "display_data"
    },
    {
     "name": "stdout",
     "output_type": "stream",
     "text": [
      "train (2/10) dice: 0.6326726439387299 | dice/mean: 0.6326726439387299 | dice/std: 0.1165000921456657 | loss: 0.4109694278517435 | loss/mean: 0.4109694278517435 | loss/std: 0.111144802971003 | lr: 0.00033919068644530263 | momentum: 0.9\n"
     ]
    },
    {
     "data": {
      "application/vnd.jupyter.widget-view+json": {
       "model_id": "d48b02901d0f48c09505fe8b494e4d2a",
       "version_major": 2,
       "version_minor": 0
      },
      "text/plain": [
       "2/10 * Epoch (valid):   0%|          | 0/3 [00:00<?, ?it/s]"
      ]
     },
     "metadata": {},
     "output_type": "display_data"
    },
    {
     "name": "stdout",
     "output_type": "stream",
     "text": [
      "valid (2/10) dice: 0.8016486644744873 | dice/mean: 0.8016486644744873 | dice/std: 0.025357525301578098 | loss: 0.3114098489284515 | loss/mean: 0.3114098489284515 | loss/std: 0.008929220632514364 | lr: 0.00033919068644530263 | momentum: 0.9\n",
      "* Epoch (2/10) lr: 0.00024544068644530265 | momentum: 0.9\n"
     ]
    },
    {
     "data": {
      "application/vnd.jupyter.widget-view+json": {
       "model_id": "d6aed7c8a7e44413a9e1fa8837a88c26",
       "version_major": 2,
       "version_minor": 0
      },
      "text/plain": [
       "3/10 * Epoch (train):   0%|          | 0/11 [00:00<?, ?it/s]"
      ]
     },
     "metadata": {},
     "output_type": "display_data"
    },
    {
     "name": "stdout",
     "output_type": "stream",
     "text": [
      "train (3/10) dice: 0.5863246890001519 | dice/mean: 0.5863246890001519 | dice/std: 0.0899049669062311 | loss: 0.45594872153082555 | loss/mean: 0.45594872153082555 | loss/std: 0.10031385124328082 | lr: 0.00024544068644530265 | momentum: 0.9\n"
     ]
    },
    {
     "data": {
      "application/vnd.jupyter.widget-view+json": {
       "model_id": "085bb7ca080b49c39a800ee89709df79",
       "version_major": 2,
       "version_minor": 0
      },
      "text/plain": [
       "3/10 * Epoch (valid):   0%|          | 0/3 [00:00<?, ?it/s]"
      ]
     },
     "metadata": {},
     "output_type": "display_data"
    },
    {
     "name": "stdout",
     "output_type": "stream",
     "text": [
      "valid (3/10) dice: 0.798872709274292 | dice/mean: 0.798872709274292 | dice/std: 0.02385779588460919 | loss: 0.311277437210083 | loss/mean: 0.311277437210083 | loss/std: 0.009725282387343319 | lr: 0.00024544068644530265 | momentum: 0.9\n",
      "* Epoch (3/10) lr: 0.00012955931355469738 | momentum: 0.9\n"
     ]
    },
    {
     "data": {
      "application/vnd.jupyter.widget-view+json": {
       "model_id": "cd37e05bca5c40aabe240c94b79fc49a",
       "version_major": 2,
       "version_minor": 0
      },
      "text/plain": [
       "4/10 * Epoch (train):   0%|          | 0/11 [00:00<?, ?it/s]"
      ]
     },
     "metadata": {},
     "output_type": "display_data"
    },
    {
     "name": "stdout",
     "output_type": "stream",
     "text": [
      "train (4/10) dice: 0.6586853820224141 | dice/mean: 0.6586853820224141 | dice/std: 0.0962815073922444 | loss: 0.38171107062073634 | loss/mean: 0.38171107062073634 | loss/std: 0.10037471371601017 | lr: 0.00012955931355469738 | momentum: 0.9\n"
     ]
    },
    {
     "data": {
      "application/vnd.jupyter.widget-view+json": {
       "model_id": "4b52c82cfc954e5a8d029aaba6434626",
       "version_major": 2,
       "version_minor": 0
      },
      "text/plain": [
       "4/10 * Epoch (valid):   0%|          | 0/3 [00:00<?, ?it/s]"
      ]
     },
     "metadata": {},
     "output_type": "display_data"
    },
    {
     "name": "stdout",
     "output_type": "stream",
     "text": [
      "valid (4/10) dice: 0.7991179466247559 | dice/mean: 0.7991179466247559 | dice/std: 0.020992975950057956 | loss: 0.30711731910705564 | loss/mean: 0.30711731910705564 | loss/std: 0.006121930331552086 | lr: 0.00012955931355469738 | momentum: 0.9\n",
      "* Epoch (4/10) lr: 3.580931355469737e-05 | momentum: 0.9\n"
     ]
    },
    {
     "data": {
      "application/vnd.jupyter.widget-view+json": {
       "model_id": "3206bc3100384bf2bf462ed43d6a0c03",
       "version_major": 2,
       "version_minor": 0
      },
      "text/plain": [
       "5/10 * Epoch (train):   0%|          | 0/11 [00:00<?, ?it/s]"
      ]
     },
     "metadata": {},
     "output_type": "display_data"
    },
    {
     "name": "stdout",
     "output_type": "stream",
     "text": [
      "train (5/10) dice: 0.6695768909398899 | dice/mean: 0.6695768909398899 | dice/std: 0.10323828334063785 | loss: 0.4083134698313336 | loss/mean: 0.4083134698313336 | loss/std: 0.09603746036073323 | lr: 3.580931355469737e-05 | momentum: 0.9\n"
     ]
    },
    {
     "data": {
      "application/vnd.jupyter.widget-view+json": {
       "model_id": "30e60bde47a241a5b306735321dac3ec",
       "version_major": 2,
       "version_minor": 0
      },
      "text/plain": [
       "5/10 * Epoch (valid):   0%|          | 0/3 [00:00<?, ?it/s]"
      ]
     },
     "metadata": {},
     "output_type": "display_data"
    },
    {
     "name": "stdout",
     "output_type": "stream",
     "text": [
      "valid (5/10) dice: 0.8078560709953309 | dice/mean: 0.8078560709953309 | dice/std: 0.023477476860047773 | loss: 0.30125136375427247 | loss/mean: 0.30125136375427247 | loss/std: 0.007020200803162281 | lr: 3.580931355469737e-05 | momentum: 0.9\n",
      "* Epoch (5/10) lr: 0.000375 | momentum: 0.9\n"
     ]
    },
    {
     "data": {
      "application/vnd.jupyter.widget-view+json": {
       "model_id": "6d107ac926e84a27a3ef73ab691f315e",
       "version_major": 2,
       "version_minor": 0
      },
      "text/plain": [
       "6/10 * Epoch (train):   0%|          | 0/11 [00:00<?, ?it/s]"
      ]
     },
     "metadata": {},
     "output_type": "display_data"
    },
    {
     "name": "stdout",
     "output_type": "stream",
     "text": [
      "train (6/10) dice: 0.6392598859099455 | dice/mean: 0.6392598859099455 | dice/std: 0.06491677592193978 | loss: 0.4150142080562059 | loss/mean: 0.4150142080562059 | loss/std: 0.07341295950506802 | lr: 0.000375 | momentum: 0.9\n"
     ]
    },
    {
     "data": {
      "application/vnd.jupyter.widget-view+json": {
       "model_id": "477433a088a74852960fd3735e2266a4",
       "version_major": 2,
       "version_minor": 0
      },
      "text/plain": [
       "6/10 * Epoch (valid):   0%|          | 0/3 [00:00<?, ?it/s]"
      ]
     },
     "metadata": {},
     "output_type": "display_data"
    },
    {
     "name": "stdout",
     "output_type": "stream",
     "text": [
      "valid (6/10) dice: 0.8005033493041992 | dice/mean: 0.8005033493041992 | dice/std: 0.026672531604593763 | loss: 0.303607702255249 | loss/mean: 0.303607702255249 | loss/std: 0.007437551024929189 | lr: 0.000375 | momentum: 0.9\n",
      "* Epoch (6/10) lr: 0.00033919068644530263 | momentum: 0.9\n"
     ]
    },
    {
     "data": {
      "application/vnd.jupyter.widget-view+json": {
       "model_id": "c0681c4d644e48efa70a33b446b574f1",
       "version_major": 2,
       "version_minor": 0
      },
      "text/plain": [
       "7/10 * Epoch (train):   0%|          | 0/11 [00:00<?, ?it/s]"
      ]
     },
     "metadata": {},
     "output_type": "display_data"
    },
    {
     "name": "stdout",
     "output_type": "stream",
     "text": [
      "train (7/10) dice: 0.6352405686711157 | dice/mean: 0.6352405686711157 | dice/std: 0.08413326613749268 | loss: 0.39945215818493857 | loss/mean: 0.39945215818493857 | loss/std: 0.06349498947475796 | lr: 0.00033919068644530263 | momentum: 0.9\n"
     ]
    },
    {
     "data": {
      "application/vnd.jupyter.widget-view+json": {
       "model_id": "652c4493987147d29bb2abe120e84658",
       "version_major": 2,
       "version_minor": 0
      },
      "text/plain": [
       "7/10 * Epoch (valid):   0%|          | 0/3 [00:00<?, ?it/s]"
      ]
     },
     "metadata": {},
     "output_type": "display_data"
    },
    {
     "name": "stdout",
     "output_type": "stream",
     "text": [
      "valid (7/10) dice: 0.7969785571098328 | dice/mean: 0.7969785571098328 | dice/std: 0.02454187024674452 | loss: 0.3017354547977448 | loss/mean: 0.3017354547977448 | loss/std: 0.01353234901555269 | lr: 0.00033919068644530263 | momentum: 0.9\n",
      "* Epoch (7/10) lr: 0.00024544068644530265 | momentum: 0.9\n"
     ]
    },
    {
     "data": {
      "application/vnd.jupyter.widget-view+json": {
       "model_id": "e146fb54f3bc4f5e8ee80587ff7f3629",
       "version_major": 2,
       "version_minor": 0
      },
      "text/plain": [
       "8/10 * Epoch (train):   0%|          | 0/11 [00:00<?, ?it/s]"
      ]
     },
     "metadata": {},
     "output_type": "display_data"
    },
    {
     "name": "stdout",
     "output_type": "stream",
     "text": [
      "train (8/10) dice: 0.6463002063507258 | dice/mean: 0.6463002063507258 | dice/std: 0.03248833506968628 | loss: 0.4285609500352726 | loss/mean: 0.4285609500352726 | loss/std: 0.04036809008108659 | lr: 0.00024544068644530265 | momentum: 0.9\n"
     ]
    },
    {
     "data": {
      "application/vnd.jupyter.widget-view+json": {
       "model_id": "6b689c3ea6424151b0337396bb11ff6c",
       "version_major": 2,
       "version_minor": 0
      },
      "text/plain": [
       "8/10 * Epoch (valid):   0%|          | 0/3 [00:00<?, ?it/s]"
      ]
     },
     "metadata": {},
     "output_type": "display_data"
    },
    {
     "name": "stdout",
     "output_type": "stream",
     "text": [
      "valid (8/10) dice: 0.7940485000610351 | dice/mean: 0.7940485000610351 | dice/std: 0.02517133894743661 | loss: 0.3021675288677216 | loss/mean: 0.3021675288677216 | loss/std: 0.012357630771061194 | lr: 0.00024544068644530265 | momentum: 0.9\n",
      "* Epoch (8/10) lr: 0.00012955931355469738 | momentum: 0.9\n"
     ]
    },
    {
     "data": {
      "application/vnd.jupyter.widget-view+json": {
       "model_id": "424248293e61414f9e3559852d7dbbd8",
       "version_major": 2,
       "version_minor": 0
      },
      "text/plain": [
       "9/10 * Epoch (train):   0%|          | 0/11 [00:00<?, ?it/s]"
      ]
     },
     "metadata": {},
     "output_type": "display_data"
    },
    {
     "name": "stdout",
     "output_type": "stream",
     "text": [
      "train (9/10) dice: 0.7067892509837483 | dice/mean: 0.7067892509837483 | dice/std: 0.0857446472528595 | loss: 0.3612654916075773 | loss/mean: 0.3612654916075773 | loss/std: 0.08852352514546809 | lr: 0.00012955931355469738 | momentum: 0.9\n"
     ]
    },
    {
     "data": {
      "application/vnd.jupyter.widget-view+json": {
       "model_id": "7d9d86a01db0475e9e637b69c1d5c79c",
       "version_major": 2,
       "version_minor": 0
      },
      "text/plain": [
       "9/10 * Epoch (valid):   0%|          | 0/3 [00:00<?, ?it/s]"
      ]
     },
     "metadata": {},
     "output_type": "display_data"
    },
    {
     "name": "stdout",
     "output_type": "stream",
     "text": [
      "valid (9/10) dice: 0.7955972671508789 | dice/mean: 0.7955972671508789 | dice/std: 0.02515817603506001 | loss: 0.3043250858783722 | loss/mean: 0.3043250858783722 | loss/std: 0.00856664839574526 | lr: 0.00012955931355469738 | momentum: 0.9\n",
      "* Epoch (9/10) lr: 3.580931355469737e-05 | momentum: 0.9\n"
     ]
    },
    {
     "data": {
      "application/vnd.jupyter.widget-view+json": {
       "model_id": "e91b431cd09441048c55fa06d7ee4521",
       "version_major": 2,
       "version_minor": 0
      },
      "text/plain": [
       "10/10 * Epoch (train):   0%|          | 0/11 [00:00<?, ?it/s]"
      ]
     },
     "metadata": {},
     "output_type": "display_data"
    },
    {
     "name": "stdout",
     "output_type": "stream",
     "text": [
      "train (10/10) dice: 0.699396061342816 | dice/mean: 0.699396061342816 | dice/std: 0.07854785163553543 | loss: 0.37784257392550624 | loss/mean: 0.37784257392550624 | loss/std: 0.06949311004950423 | lr: 3.580931355469737e-05 | momentum: 0.9\n"
     ]
    },
    {
     "data": {
      "application/vnd.jupyter.widget-view+json": {
       "model_id": "d58fad6a8d444034934669427e083ac4",
       "version_major": 2,
       "version_minor": 0
      },
      "text/plain": [
       "10/10 * Epoch (valid):   0%|          | 0/3 [00:00<?, ?it/s]"
      ]
     },
     "metadata": {},
     "output_type": "display_data"
    },
    {
     "name": "stdout",
     "output_type": "stream",
     "text": [
      "valid (10/10) dice: 0.7982020497322082 | dice/mean: 0.7982020497322082 | dice/std: 0.018637625209779452 | loss: 0.3000012755393982 | loss/mean: 0.3000012755393982 | loss/std: 0.004763897319713939 | lr: 3.580931355469737e-05 | momentum: 0.9\n",
      "* Epoch (10/10) lr: 0.000375 | momentum: 0.9\n",
      "Top models:\n",
      "../logs/24_added_data_sw/largeintestine_finetuned/checkpoints/model.0010.pth\t0.3000\n"
     ]
    },
    {
     "name": "stderr",
     "output_type": "stream",
     "text": [
      "100%|██████████| 2/2 [00:00<00:00,  2.08it/s]\n",
      "100%|██████████| 11/11 [00:10<00:00,  1.07it/s]\n",
      "100%|██████████| 3/3 [00:02<00:00,  1.45it/s]"
     ]
    },
    {
     "name": "stdout",
     "output_type": "stream",
     "text": [
      "largeintestine: testdice: 0.8263033628463745\n"
     ]
    },
    {
     "name": "stderr",
     "output_type": "stream",
     "text": [
      "\n"
     ]
    }
   ],
   "source": [
    "metrics_log = {\"organ\": [], \"threshold\":[], \"train_dice\": [], \"valid_dice\": [], \"test_dice\": []}\n",
    "\n",
    "for organ in TRAIN_DF.organ.unique():\n",
    "\n",
    "    # Pretrain on added data\n",
    "    add_organ_df = pd.read_csv(f\"../data/additional_images/{organ}.csv\")\n",
    "    #print(len(add_organ_df))\n",
    "    add_organ_df = add_organ_df.dropna()\n",
    "    #print(len(add_organ_df))\n",
    "\n",
    "    indices = list(range(len(add_organ_df)))\n",
    "    np.random.seed(train_seed)\n",
    "    np.random.shuffle(indices)\n",
    "    train_indices = indices[:int(len(indices) * (1 - PRE_VALID_PCT))]\n",
    "    valid_indices = indices[int(len(indices) * (1 - PRE_VALID_PCT)):]\n",
    "\n",
    "    pre_train_data_dict = {i:{IMAGE:fn, LABEL:fn} for i, fn in enumerate(add_organ_df.fn.values[train_indices])}\n",
    "    pre_valid_data_dict = {i:{IMAGE:fn, LABEL:fn} for i, fn in enumerate(add_organ_df.fn.values[valid_indices])}\n",
    "\n",
    "    train_ds = monai.data.SmartCacheDataset(pre_train_data_dict, transform=get_added_data_train_transforms(), cache_num=CACHE_NUM)\n",
    "    valid_ds = monai.data.CacheDataset(pre_valid_data_dict, transform=get_added_data_valid_transforms())\n",
    "\n",
    "    train_dl = monai.data.DataLoader(train_ds, batch_size=BATCH_SIZE, shuffle=True)\n",
    "    valid_dl = monai.data.DataLoader(valid_ds, batch_size=BATCH_SIZE, shuffle=False)\n",
    "\n",
    "    loaders = {\"train\": train_dl, \"valid\": valid_dl}\n",
    "\n",
    "    # load denoised model\n",
    "    model_path = Path(\"../logs/16_denoising_pretraining/\").ls()\n",
    "    model_path = [p for p in model_path if f\"{organ}_transfered\" in p.name][0]\n",
    "    model_path = model_path/\"checkpoints\"/\"model.best.pth\"\n",
    "\n",
    "    model = smp.Unet(\n",
    "        encoder_name=ENCODER,        \n",
    "        encoder_weights=\"imagenet\",     \n",
    "        in_channels=3,                  \n",
    "        classes=3,  \n",
    "    )\n",
    "    model.segmentation_head = torch.nn.Conv2d(16, 2, kernel_size=(3, 3), stride=(1, 1), padding=(1, 1))\n",
    "    load_weights(model, model_path)\n",
    "    model = model.to(DEVICE)\n",
    "\n",
    "    criterion = monai.losses.GeneralizedDiceFocalLoss(softmax=True)\n",
    "    optimizer = Lookahead(torch.optim.RAdam(model.parameters(), lr=LR))\n",
    "    scheduler = torch.optim.lr_scheduler.CosineAnnealingWarmRestarts(optimizer, 5)\n",
    "\n",
    "    dice_func = partial(\n",
    "        calc_metric, \n",
    "        metric_func=monai.metrics.DiceMetric(include_background=False, reduction=\"mean\"))\n",
    "\n",
    "    callbacks = [\n",
    "        catalyst.dl.FunctionalMetricCallback(\n",
    "        input_key=\"logits\",\n",
    "        target_key=LABEL,\n",
    "        metric_fn=dice_func,\n",
    "        metric_key=\"dice\"\n",
    "        ),\n",
    "        catalyst.dl.OptimizerCallback(\n",
    "            metric_key=\"loss\", \n",
    "            accumulation_steps=ACCUM_STEPS),\n",
    "        catalyst.dl.EarlyStoppingCallback(\n",
    "            patience=EARLY_STOP_PATIENCE, \n",
    "            loader_key=\"valid\", \n",
    "            metric_key=\"loss\",\n",
    "            min_delta=1e-3,\n",
    "            minimize=True)\n",
    "    ]\n",
    "\n",
    "    runner = catalyst.dl.SupervisedRunner(\n",
    "        input_key=IMAGE, \n",
    "        output_key=\"logits\", \n",
    "        target_key=LABEL, \n",
    "        loss_key=\"loss\"\n",
    "    )\n",
    "\n",
    "    runner.train(\n",
    "        model=model,\n",
    "        criterion=criterion,\n",
    "        optimizer=optimizer,\n",
    "        scheduler=scheduler,\n",
    "        loaders=loaders,\n",
    "        num_epochs=PRE_EPOCHS,\n",
    "        callbacks=callbacks,\n",
    "        logdir=LOG_DIR/f\"{organ}_pretrained\",\n",
    "        valid_loader=\"valid\",\n",
    "        valid_metric=\"loss\",\n",
    "        minimize_valid_metric=True,\n",
    "        verbose=True,\n",
    "        timeit=False,\n",
    "        load_best_on_end=True\n",
    "    )\n",
    "\n",
    "    del train_ds, valid_ds, train_dl, valid_dl, loaders, pre_train_data_dict, pre_valid_data_dict\n",
    "    gc.collect()\n",
    "\n",
    "\n",
    "\n",
    "    # finetune\n",
    "\n",
    "    organ_train_test_df = split_df_train_test(TRAIN_DF[TRAIN_DF.organ==organ],\"is_test\", test_pct=0.1)\n",
    "    organ_testset_df = organ_train_test_df[organ_train_test_df.is_test].copy()\n",
    "    organ_train_valid_df = organ_train_test_df[~organ_train_test_df.is_test].copy()\n",
    "    organ_train_valid_df = split_df_train_test(organ_train_valid_df, \"is_valid\", seed=92)\n",
    "    assert len(organ_testset_df.organ.unique()) == 1\n",
    "    assert len(organ_train_valid_df.organ.unique()) == 1\n",
    "    del organ_train_test_df\n",
    "\n",
    "    train_ids = organ_train_valid_df[~organ_train_valid_df.is_valid].id.values\n",
    "    valid_ids = organ_train_valid_df[organ_train_valid_df.is_valid].id.values\n",
    "    test_ids = organ_testset_df.id.values\n",
    "    assert len(set(train_ids).intersection(set(valid_ids))) == 0\n",
    "    assert len(set(train_ids).intersection(set(test_ids))) == 0\n",
    "    assert len(set(valid_ids).intersection(set(test_ids))) == 0\n",
    "\n",
    "    data_dicts = {\n",
    "        \"train\": {i: {IMAGE: fid, LABEL: fid} for i, fid in enumerate(train_ids)},\n",
    "        \"valid\": {i: {IMAGE: fid, LABEL: fid} for i, fid in enumerate(valid_ids)},\n",
    "        \"test\":  {i: {IMAGE: fid, LABEL: fid} for i, fid in enumerate(test_ids)}\n",
    "    }\n",
    "\n",
    "    train_ds = monai.data.CacheDataset(data_dicts[\"train\"], transform=get_train_transforms())\n",
    "    valid_ds = monai.data.CacheDataset(data_dicts[\"valid\"], transform=get_valid_transforms())\n",
    "    test_ds  = monai.data.CacheDataset(data_dicts[\"test\"],  transform=get_test_transforms())\n",
    "\n",
    "    train_dl = monai.data.DataLoader(train_ds, batch_size=BATCH_SIZE, shuffle=True)\n",
    "    valid_dl = monai.data.DataLoader(valid_ds, batch_size=BATCH_SIZE, shuffle=False)\n",
    "    test_dl  = monai.data.DataLoader(test_ds,  batch_size=BATCH_SIZE, shuffle=False)\n",
    "\n",
    "    loaders = {\"train\": train_dl, \"valid\": valid_dl}\n",
    "\n",
    "    criterion = monai.losses.GeneralizedDiceFocalLoss(softmax=True)\n",
    "    optimizer = Lookahead(torch.optim.RAdam(model.parameters(), lr=LR))\n",
    "    scheduler = torch.optim.lr_scheduler.CosineAnnealingWarmRestarts(optimizer, 5)\n",
    "\n",
    "    callbacks = [\n",
    "        catalyst.dl.FunctionalMetricCallback(\n",
    "        input_key=\"logits\",\n",
    "        target_key=LABEL,\n",
    "        metric_fn=dice_func,\n",
    "        metric_key=\"dice\"\n",
    "        ),\n",
    "        catalyst.dl.OptimizerCallback(\n",
    "            metric_key=\"loss\", \n",
    "            accumulation_steps=ACCUM_STEPS),\n",
    "        catalyst.dl.EarlyStoppingCallback(\n",
    "            patience=EARLY_STOP_PATIENCE, \n",
    "            loader_key=\"valid\", \n",
    "            metric_key=\"loss\",\n",
    "            min_delta=1e-3,\n",
    "            minimize=True)\n",
    "    ]\n",
    "\n",
    "    runner = catalyst.dl.SupervisedRunner(\n",
    "        input_key=IMAGE, \n",
    "        output_key=\"logits\", \n",
    "        target_key=LABEL, \n",
    "        loss_key=\"loss\"\n",
    "    )\n",
    "\n",
    "    runner.train(\n",
    "        model=model,\n",
    "        criterion=criterion,\n",
    "        optimizer=optimizer,\n",
    "        scheduler=scheduler,\n",
    "        loaders=loaders,\n",
    "        num_epochs=EPOCHS,\n",
    "        callbacks=callbacks,\n",
    "        logdir=LOG_DIR/f\"{organ}_finetuned\",\n",
    "        valid_loader=\"valid\",\n",
    "        valid_metric=\"loss\",\n",
    "        minimize_valid_metric=True,\n",
    "        verbose=True,\n",
    "        timeit=False,\n",
    "        load_best_on_end=True\n",
    "    )\n",
    "\n",
    "\n",
    "\n",
    "\n",
    "\n",
    "\n",
    "\n",
    "    \n",
    "\n",
    "    dice_metric = monai.metrics.DiceMetric(\n",
    "        include_background=False, \n",
    "        reduction=\"mean\")\n",
    "\n",
    "    best_threshold, test_dice = get_best_threshold(model, test_dl, dice_metric) \n",
    "\n",
    "    train_dice = test_model(model, train_dl, metric_func=dice_metric)\n",
    "    valid_dice = test_model(model, valid_dl, metric_func=dice_metric)\n",
    "\n",
    "    print(f\"{organ}: testdice: {test_dice}\")\n",
    "\n",
    "    metrics_log[\"organ\"].append(organ)\n",
    "    metrics_log[\"threshold\"].append(best_threshold)\n",
    "    metrics_log[\"train_dice\"].append(train_dice)\n",
    "    metrics_log[\"valid_dice\"].append(valid_dice)\n",
    "    metrics_log[\"test_dice\"].append(test_dice)\n",
    "    save_df(metrics_log, LOG_DIR/\"metrics.csv\", replace=True)\n",
    "\n",
    "    gc.collect()"
   ]
  },
  {
   "cell_type": "code",
   "execution_count": null,
   "metadata": {},
   "outputs": [],
   "source": []
  },
  {
   "cell_type": "code",
   "execution_count": null,
   "metadata": {},
   "outputs": [],
   "source": []
  },
  {
   "cell_type": "code",
   "execution_count": null,
   "metadata": {},
   "outputs": [],
   "source": []
  },
  {
   "cell_type": "code",
   "execution_count": null,
   "metadata": {},
   "outputs": [],
   "source": []
  },
  {
   "cell_type": "code",
   "execution_count": null,
   "metadata": {},
   "outputs": [],
   "source": []
  },
  {
   "cell_type": "code",
   "execution_count": null,
   "metadata": {},
   "outputs": [],
   "source": []
  },
  {
   "cell_type": "code",
   "execution_count": null,
   "metadata": {},
   "outputs": [],
   "source": []
  },
  {
   "cell_type": "code",
   "execution_count": null,
   "metadata": {},
   "outputs": [],
   "source": []
  },
  {
   "cell_type": "code",
   "execution_count": null,
   "metadata": {},
   "outputs": [],
   "source": [
    "#organ_valid_test_df = split_df_train_test(TRAIN_DF[TRAIN_DF.organ==organ],\"is_test\", test_pct=0.5)\n",
    "    #test_ids = organ_valid_test_df[organ_valid_test_df.is_test].id.values\n",
    "    #valid_ids = organ_valid_test_df[~organ_valid_test_df.is_test].id.values\n",
    "\n",
    "    #valid_data_dict = {i:{IMAGE:fid, LABEL:fid} for i, fid in enumerate(valid_ids)}\n",
    "    #test_data_dict = {i:{IMAGE:fid, LABEL:fid} for i, fid in enumerate(test_ids)}\n",
    "\n",
    "    train_ds = monai.data.SmartCacheDataset(train_data_dict, transform=get_train_transforms(), cache_num=CACHE_NUM)\n",
    "    valid_ds = monai.data.CacheDataset(valid_data_dict, transform=get_valid_transforms())\n",
    "    test_ds  = monai.data.Dataset(test_data_dict,  transform=get_test_transforms())\n",
    "\n",
    "    train_dl = monai.data.DataLoader(train_ds, batch_size=BATCH_SIZE, shuffle=True)\n",
    "    valid_dl = monai.data.DataLoader(valid_ds, batch_size=BATCH_SIZE, shuffle=False)\n",
    "    test_dl  = monai.data.DataLoader(test_ds,  batch_size=BATCH_SIZE, shuffle=False)\n",
    "\n",
    "    loaders = {\"train\": train_dl, \"valid\": valid_dl}\n",
    "\n",
    "\n",
    "    # load denoised model\n",
    "    model_path = Path(\"../logs/16_denoising_pretraining/\").ls()\n",
    "    model_path = [p for p in model_path if f\"{organ}_transfered\" in p.name][0]\n",
    "    model_path = model_path/\"checkpoints\"/\"model.best.pth\"\n",
    "\n",
    "    model = smp.Unet(\n",
    "        encoder_name=ENCODER,        \n",
    "        encoder_weights=\"imagenet\",     \n",
    "        in_channels=3,                  \n",
    "        classes=3,  \n",
    "    )\n",
    "    model.segmentation_head = torch.nn.Conv2d(16, 2, kernel_size=(3, 3), stride=(1, 1), padding=(1, 1))\n",
    "    load_weights(model, model_path)\n",
    "    model = model.to(DEVICE)\n",
    "\n",
    "    criterion = monai.losses.GeneralizedDiceFocalLoss(softmax=True)\n",
    "    optimizer = Lookahead(torch.optim.RAdam(model.parameters(), lr=LR))\n",
    "    scheduler = torch.optim.lr_scheduler.CosineAnnealingWarmRestarts(optimizer, 5)\n",
    "\n",
    "    dice_func = partial(\n",
    "        calc_metric, \n",
    "        metric_func=monai.metrics.DiceMetric(include_background=False, reduction=\"mean\"))\n",
    "\n",
    "    callbacks = [\n",
    "        catalyst.dl.FunctionalMetricCallback(\n",
    "        input_key=\"logits\",\n",
    "        target_key=LABEL,\n",
    "        metric_fn=dice_func,\n",
    "        metric_key=\"dice\"\n",
    "        ),\n",
    "        catalyst.dl.OptimizerCallback(\n",
    "            metric_key=\"loss\", \n",
    "            accumulation_steps=ACCUM_STEPS),\n",
    "        catalyst.dl.EarlyStoppingCallback(\n",
    "            patience=EARLY_STOP_PATIENCE, \n",
    "            loader_key=\"valid\", \n",
    "            metric_key=\"loss\",\n",
    "            min_delta=1e-3,\n",
    "            minimize=True)\n",
    "    ]\n",
    "\n",
    "    runner = catalyst.dl.SupervisedRunner(\n",
    "        input_key=IMAGE, \n",
    "        output_key=\"logits\", \n",
    "        target_key=LABEL, \n",
    "        loss_key=\"loss\"\n",
    "    )\n",
    "\n",
    "    runner.train(\n",
    "        model=model,\n",
    "        criterion=criterion,\n",
    "        optimizer=optimizer,\n",
    "        scheduler=scheduler,\n",
    "        loaders=loaders,\n",
    "        num_epochs=EPOCHS,\n",
    "        callbacks=callbacks,\n",
    "        logdir=LOG_DIR/f\"{organ}_finetuned\",\n",
    "        valid_loader=\"valid\",\n",
    "        valid_metric=\"loss\",\n",
    "        minimize_valid_metric=True,\n",
    "        verbose=True,\n",
    "        timeit=False,\n",
    "        load_best_on_end=True\n",
    "    )"
   ]
  },
  {
   "cell_type": "code",
   "execution_count": null,
   "metadata": {},
   "outputs": [],
   "source": []
  },
  {
   "cell_type": "code",
   "execution_count": null,
   "metadata": {},
   "outputs": [],
   "source": []
  },
  {
   "cell_type": "code",
   "execution_count": null,
   "metadata": {},
   "outputs": [],
   "source": [
    "train_seed = 4\n",
    "train_size = 0.05\n",
    "\n",
    "add_organ_df = pd.read_csv(f\"../data/additional_images/{organ}.csv\")\n",
    "print(len(add_organ_df))\n",
    "add_organ_df = add_organ_df.dropna()\n",
    "print(len(add_organ_df))\n",
    "\n",
    "indices = list(range(len(add_organ_df)))\n",
    "np.random.seed(train_seed)\n",
    "np.random.shuffle(indices)\n",
    "indices = indices[:int(len(indices)*train_size)]\n",
    "train_data_dict = {i:{IMAGE:fn, LABEL:fn} for i, fn in enumerate(add_organ_df.fn.values[indices])}\n",
    "\n",
    "organ_valid_test_df = split_df_train_test(TRAIN_DF[TRAIN_DF.organ==organ],\"is_test\", test_pct=0.5)\n",
    "test_ids = organ_valid_test_df[organ_valid_test_df.is_test].id.values\n",
    "valid_ids = organ_valid_test_df[~organ_valid_test_df.is_test].id.values\n",
    "\n",
    "valid_data_dict = {i:{IMAGE:fid, LABEL:fid} for i, fid in enumerate(valid_ids)}\n",
    "test_data_dict = {i:{IMAGE:fid, LABEL:fid} for i, fid in enumerate(test_ids)}\n",
    "\n",
    "train_ds = monai.data.CacheDataset(train_data_dict, transform=get_train_transforms())\n",
    "valid_ds = monai.data.CacheDataset(valid_data_dict, transform=get_valid_transforms())\n",
    "test_ds  = monai.data.Dataset(test_data_dict,  transform=get_test_transforms())\n",
    "\n",
    "train_dl = monai.data.DataLoader(train_ds, batch_size=BATCH_SIZE, shuffle=True)\n",
    "valid_dl = monai.data.DataLoader(valid_ds, batch_size=BATCH_SIZE, shuffle=False)\n",
    "test_dl  = monai.data.DataLoader(test_ds,  batch_size=BATCH_SIZE, shuffle=False)\n",
    "\n",
    "loaders = {\"train\": train_dl, \"valid\": valid_dl}\n",
    "\n",
    "model = smp.Unet(\n",
    "    encoder_name=ENCODER,        \n",
    "    encoder_weights=\"imagenet\",     \n",
    "    in_channels=3,                  \n",
    "    classes=2,  \n",
    ")\n",
    "model = model.to(DEVICE)\n",
    "\n",
    "criterion = monai.losses.GeneralizedDiceFocalLoss(softmax=True)\n",
    "optimizer = Lookahead(torch.optim.RAdam(model.parameters(), lr=LR))\n",
    "scheduler = torch.optim.lr_scheduler.CosineAnnealingWarmRestarts(optimizer, 5)\n",
    "\n",
    "dice_func = partial(\n",
    "    calc_metric, \n",
    "    metric_func=monai.metrics.DiceMetric(include_background=False, reduction=\"mean\"))\n",
    "\n",
    "callbacks = [\n",
    "    catalyst.dl.FunctionalMetricCallback(\n",
    "    input_key=\"logits\",\n",
    "    target_key=LABEL,\n",
    "    metric_fn=dice_func,\n",
    "    metric_key=\"dice\"\n",
    "    ),\n",
    "    catalyst.dl.OptimizerCallback(\n",
    "        metric_key=\"loss\", \n",
    "        accumulation_steps=ACCUM_STEPS),\n",
    "    catalyst.dl.EarlyStoppingCallback(\n",
    "        patience=EARLY_STOP_PATIENCE, \n",
    "        loader_key=\"valid\", \n",
    "        metric_key=\"loss\",\n",
    "        min_delta=1e-3,\n",
    "        minimize=True)\n",
    "]\n",
    "\n",
    "runner = catalyst.dl.SupervisedRunner(\n",
    "    input_key=IMAGE, \n",
    "    output_key=\"logits\", \n",
    "    target_key=LABEL, \n",
    "    loss_key=\"loss\"\n",
    ")"
   ]
  },
  {
   "cell_type": "code",
   "execution_count": null,
   "metadata": {},
   "outputs": [],
   "source": [
    "ENCODER"
   ]
  },
  {
   "cell_type": "code",
   "execution_count": null,
   "metadata": {},
   "outputs": [],
   "source": []
  },
  {
   "cell_type": "code",
   "execution_count": null,
   "metadata": {},
   "outputs": [],
   "source": []
  },
  {
   "cell_type": "code",
   "execution_count": null,
   "metadata": {},
   "outputs": [],
   "source": []
  },
  {
   "cell_type": "code",
   "execution_count": null,
   "metadata": {},
   "outputs": [],
   "source": []
  },
  {
   "cell_type": "markdown",
   "metadata": {},
   "source": [
    "# DEV below"
   ]
  },
  {
   "cell_type": "code",
   "execution_count": null,
   "metadata": {},
   "outputs": [],
   "source": [
    "model_metrics = {\n",
    "    \"model_name\": [],\n",
    "    \"train_seed\": [], \n",
    "    \"train_size\": [], \n",
    "    \"threshold\": [], \n",
    "    \"test_dice\":[]}\n",
    "\n",
    "version = 2\n",
    "version_offset = int(100*version)\n",
    "epochs = 15\n",
    "organ = \"lung\"\n",
    "train_size = 0.05\n",
    "for train_seed in range(5):\n",
    "\n",
    "    train_seed += version_offset\n",
    "\n",
    "    add_organ_df = pd.read_csv(f\"../data/additional_images/{organ}_v{version}.csv\")\n",
    "    add_organ_df = add_organ_df.dropna()\n",
    "\n",
    "    indices = list(range(len(add_organ_df)))\n",
    "    np.random.seed(train_seed)\n",
    "    np.random.shuffle(indices)\n",
    "    indices = indices[:int(len(indices)*train_size)]\n",
    "    train_data_dict = {i:{IMAGE:fn, LABEL:fn} for i, fn in enumerate(add_organ_df.fn.values[indices])}\n",
    "\n",
    "    organ_valid_test_df = split_df_train_test(TRAIN_DF[TRAIN_DF.organ==organ],\"is_test\", test_pct=0.5)\n",
    "    test_ids = organ_valid_test_df[organ_valid_test_df.is_test].id.values\n",
    "    valid_ids = organ_valid_test_df[~organ_valid_test_df.is_test].id.values\n",
    "\n",
    "    valid_data_dict = {i:{IMAGE:fid, LABEL:fid} for i, fid in enumerate(valid_ids)}\n",
    "    test_data_dict = {i:{IMAGE:fid, LABEL:fid} for i, fid in enumerate(test_ids)}\n",
    "\n",
    "    train_ds = monai.data.CacheDataset(train_data_dict, transform=get_train_transforms())\n",
    "    valid_ds = monai.data.CacheDataset(valid_data_dict, transform=get_valid_transforms())\n",
    "    test_ds  = monai.data.Dataset(test_data_dict,  transform=get_test_transforms())\n",
    "\n",
    "    train_dl = monai.data.DataLoader(train_ds, batch_size=BATCH_SIZE, shuffle=True)\n",
    "    valid_dl = monai.data.DataLoader(valid_ds, batch_size=BATCH_SIZE, shuffle=False)\n",
    "    test_dl  = monai.data.DataLoader(test_ds,  batch_size=BATCH_SIZE, shuffle=False)\n",
    "\n",
    "    loaders = {\"train\": train_dl, \"valid\": valid_dl}\n",
    "\n",
    "    model = smp.Unet(\n",
    "        encoder_name=ENCODER,        \n",
    "        encoder_weights=\"imagenet\",     \n",
    "        in_channels=3,                  \n",
    "        classes=2,  \n",
    "    )\n",
    "    model = model.to(DEVICE)\n",
    "\n",
    "    criterion = monai.losses.GeneralizedDiceFocalLoss(softmax=True)\n",
    "    optimizer = Lookahead(torch.optim.RAdam(model.parameters(), lr=LR))\n",
    "    scheduler = torch.optim.lr_scheduler.CosineAnnealingWarmRestarts(optimizer, int(epochs*2))\n",
    "\n",
    "    dice_func = partial(\n",
    "        calc_metric, \n",
    "        metric_func=monai.metrics.DiceMetric(include_background=False, reduction=\"mean\"))\n",
    "\n",
    "    callbacks = [\n",
    "        catalyst.dl.FunctionalMetricCallback(\n",
    "        input_key=\"logits\",\n",
    "        target_key=LABEL,\n",
    "        metric_fn=dice_func,\n",
    "        metric_key=\"dice\"\n",
    "        ),\n",
    "        catalyst.dl.OptimizerCallback(\n",
    "            metric_key=\"loss\", \n",
    "            accumulation_steps=ACCUM_STEPS),\n",
    "        catalyst.dl.EarlyStoppingCallback(\n",
    "            patience=EARLY_STOP_PATIENCE, \n",
    "            loader_key=\"valid\", \n",
    "            metric_key=\"loss\",\n",
    "            min_delta=1e-3,\n",
    "            minimize=True)\n",
    "    ]\n",
    "\n",
    "    runner = catalyst.dl.SupervisedRunner(\n",
    "        input_key=IMAGE, \n",
    "        output_key=\"logits\", \n",
    "        target_key=LABEL, \n",
    "        loss_key=\"loss\"\n",
    "    )\n",
    "\n",
    "    model_name = f\"{organ}_v{train_seed}\"\n",
    "\n",
    "    runner.train(\n",
    "        model=model,\n",
    "        criterion=criterion,\n",
    "        optimizer=optimizer,\n",
    "        scheduler=scheduler,\n",
    "        loaders=loaders,\n",
    "        num_epochs=epochs,\n",
    "        callbacks=callbacks,\n",
    "        logdir=LOG_DIR/model_name,\n",
    "        valid_loader=\"valid\",\n",
    "        valid_metric=\"loss\",\n",
    "        minimize_valid_metric=True,\n",
    "        verbose=False,\n",
    "        timeit=False,\n",
    "        load_best_on_end=True\n",
    "    )\n",
    "\n",
    "    thres = get_best_threshold(model, test_dl, metric_func=monai.metrics.DiceMetric(include_background=False, reduction=\"mean\"))\n",
    "\n",
    "    model_metrics[\"model_name\"].append(model_name)\n",
    "    model_metrics[\"train_seed\"].append(train_seed)\n",
    "    model_metrics[\"train_size\"].append(train_size)\n",
    "    model_metrics[\"threshold\"].append(thres[0])\n",
    "    model_metrics[\"test_dice\"].append(thres[1])\n",
    "\n",
    "\n",
    "model_metrics = pd.DataFrame(model_metrics)"
   ]
  },
  {
   "cell_type": "code",
   "execution_count": null,
   "metadata": {},
   "outputs": [],
   "source": [
    "model_metrics = pd.DataFrame(model_metrics)\n",
    "model_metrics"
   ]
  },
  {
   "cell_type": "code",
   "execution_count": null,
   "metadata": {},
   "outputs": [],
   "source": [
    "plot_results(model, test_dl, threshold=thres[0])"
   ]
  },
  {
   "cell_type": "code",
   "execution_count": null,
   "metadata": {},
   "outputs": [],
   "source": [
    "best_model_stats = model_metrics.sort_values(\"test_dice\", ascending=False).iloc[0]\n",
    "best_model_stats"
   ]
  },
  {
   "cell_type": "code",
   "execution_count": null,
   "metadata": {},
   "outputs": [],
   "source": [
    "best_model_stats = {\"threshold\": 0.9, \"model_name\": \"lung_v1\"}"
   ]
  },
  {
   "cell_type": "code",
   "execution_count": null,
   "metadata": {},
   "outputs": [],
   "source": [
    "def get_gtex_load_transforms() -> monai.transforms.Compose:\n",
    "    return monai.transforms.Compose([\n",
    "        monai.transforms.Lambdad(KEYS, load_image_monai),\n",
    "        monai.transforms.TransposeD(KEYS, (2, 0, 1)),\n",
    "        monai.transforms.ScaleIntensityD(KEYS),\n",
    "        monai.transforms.ResizeD(KEYS, spatial_size=IMAGE_SIZE, mode=(\"bilinear\", \"nearest-exact\")),\n",
    "        monai.transforms.EnsureTypeD(KEYS)\n",
    "])\n",
    "\n",
    "def process_logits(y_hat, threshold):\n",
    "    logit_process = monai.transforms.Compose([\n",
    "        monai.transforms.EnsureType(), \n",
    "        monai.transforms.Activations(softmax=True),\n",
    "        monai.transforms.AsDiscrete(threshold=threshold)\n",
    "    ])\n",
    "    preds = []\n",
    "    y_hat = y_hat.detach().cpu()\n",
    "    preds = [*preds, *[logit_process(pred).numpy()[1] for pred in y_hat]]\n",
    "    return preds"
   ]
  },
  {
   "cell_type": "code",
   "execution_count": null,
   "metadata": {},
   "outputs": [],
   "source": [
    "organ = \"lung\""
   ]
  },
  {
   "cell_type": "code",
   "execution_count": null,
   "metadata": {},
   "outputs": [],
   "source": [
    "add_organ = organ if organ != \"largeintestine\" else \"colon\"\n",
    "ADDITIONAL_IMAGES = get_image_files(\"../data/additional_images/images\")\n",
    "ADDITIONAL_IMAGES = [fn for fn in ADDITIONAL_IMAGES if add_organ in fn.stem]\n",
    "\n",
    "data_dict = {i: {IMAGE: add_im, LABEL: add_im} for i, add_im in enumerate(ADDITIONAL_IMAGES)}\n",
    "\n",
    "add_ds = monai.data.Dataset(data_dict, transform=get_gtex_load_transforms())\n",
    "add_dl = monai.data.DataLoader(add_ds, batch_size=4, shuffle=False)\n",
    "\n",
    "p_model = f\"../logs/23_added_labeled_data/{best_model_stats['model_name']}/checkpoints/model.best.pth\"\n",
    "model = smp.Unet(\n",
    "    encoder_name=ENCODER,        \n",
    "    encoder_weights=\"imagenet\",     \n",
    "    in_channels=3,                  \n",
    "    classes=2,  \n",
    ")\n",
    "model = load_weights(model, p_model)\n",
    "model = model.to(DEVICE)"
   ]
  },
  {
   "cell_type": "code",
   "execution_count": null,
   "metadata": {},
   "outputs": [],
   "source": [
    "plot_results(model, test_dl, threshold=best_model_stats[\"threshold\"])"
   ]
  },
  {
   "cell_type": "code",
   "execution_count": null,
   "metadata": {},
   "outputs": [],
   "source": [
    "rles, ims = [], []\n",
    "model.eval()\n",
    "for b in tqdm(iter(add_dl), total=len(add_dl)):\n",
    "    X = b[IMAGE].to(DEVICE)\n",
    "    y_hat = model(X)\n",
    "    rles = [*rles, *[rle_encode(pred) for pred in process_logits(y_hat, best_model_stats[\"threshold\"])]]\n",
    "\n",
    "add_fnames = [str(fn[IMAGE]) for fn in add_dl.dataset.data.values()]\n",
    "add_data_df = pd.DataFrame({\"fn\": add_fnames, \"rles\": rles})\n",
    "add_data_df.to_csv(f\"../data/additional_images/{organ}_v2.csv\", index=False)"
   ]
  },
  {
   "cell_type": "code",
   "execution_count": null,
   "metadata": {},
   "outputs": [],
   "source": []
  },
  {
   "cell_type": "code",
   "execution_count": null,
   "metadata": {},
   "outputs": [],
   "source": []
  },
  {
   "cell_type": "code",
   "execution_count": null,
   "metadata": {},
   "outputs": [],
   "source": []
  },
  {
   "cell_type": "code",
   "execution_count": null,
   "metadata": {},
   "outputs": [],
   "source": []
  },
  {
   "cell_type": "code",
   "execution_count": null,
   "metadata": {},
   "outputs": [],
   "source": []
  },
  {
   "cell_type": "code",
   "execution_count": null,
   "metadata": {},
   "outputs": [],
   "source": []
  },
  {
   "cell_type": "code",
   "execution_count": null,
   "metadata": {},
   "outputs": [],
   "source": []
  },
  {
   "cell_type": "code",
   "execution_count": null,
   "metadata": {},
   "outputs": [],
   "source": []
  },
  {
   "cell_type": "code",
   "execution_count": null,
   "metadata": {},
   "outputs": [],
   "source": []
  },
  {
   "cell_type": "code",
   "execution_count": null,
   "metadata": {},
   "outputs": [],
   "source": []
  },
  {
   "cell_type": "code",
   "execution_count": null,
   "metadata": {},
   "outputs": [],
   "source": []
  },
  {
   "cell_type": "code",
   "execution_count": null,
   "metadata": {},
   "outputs": [],
   "source": []
  },
  {
   "cell_type": "code",
   "execution_count": null,
   "metadata": {},
   "outputs": [],
   "source": [
    "# Train on added data, validate and test on original data\n",
    "\n",
    "\n",
    "\n",
    "organ = \"lung\"\n",
    "train_seed = 4\n",
    "train_size = 0.05\n",
    "\n",
    "add_organ_df = pd.read_csv(f\"../data/additional_images/{organ}.csv\")\n",
    "print(len(add_organ_df))\n",
    "add_organ_df = add_organ_df.dropna()\n",
    "print(len(add_organ_df))\n",
    "\n",
    "indices = list(range(len(add_organ_df)))\n",
    "np.random.seed(train_seed)\n",
    "np.random.shuffle(indices)\n",
    "indices = indices[:int(len(indices)*train_size)]\n",
    "train_data_dict = {i:{IMAGE:fn, LABEL:fn} for i, fn in enumerate(add_organ_df.fn.values[indices])}\n",
    "\n",
    "organ_valid_test_df = split_df_train_test(TRAIN_DF[TRAIN_DF.organ==organ],\"is_test\", test_pct=0.5)\n",
    "test_ids = organ_valid_test_df[organ_valid_test_df.is_test].id.values\n",
    "valid_ids = organ_valid_test_df[~organ_valid_test_df.is_test].id.values\n",
    "\n",
    "valid_data_dict = {i:{IMAGE:fid, LABEL:fid} for i, fid in enumerate(valid_ids)}\n",
    "test_data_dict = {i:{IMAGE:fid, LABEL:fid} for i, fid in enumerate(test_ids)}\n",
    "\n",
    "train_ds = monai.data.CacheDataset(train_data_dict, transform=get_train_transforms())\n",
    "valid_ds = monai.data.CacheDataset(valid_data_dict, transform=get_valid_transforms())\n",
    "test_ds  = monai.data.Dataset(test_data_dict,  transform=get_test_transforms())\n",
    "\n",
    "train_dl = monai.data.DataLoader(train_ds, batch_size=BATCH_SIZE, shuffle=True)\n",
    "valid_dl = monai.data.DataLoader(valid_ds, batch_size=BATCH_SIZE, shuffle=False)\n",
    "test_dl  = monai.data.DataLoader(test_ds,  batch_size=BATCH_SIZE, shuffle=False)"
   ]
  },
  {
   "cell_type": "code",
   "execution_count": null,
   "metadata": {},
   "outputs": [],
   "source": [
    "loaders = {\"train\": train_dl, \"valid\": valid_dl}"
   ]
  },
  {
   "cell_type": "code",
   "execution_count": null,
   "metadata": {},
   "outputs": [],
   "source": [
    "model = smp.Unet(\n",
    "    encoder_name=ENCODER,        \n",
    "    encoder_weights=\"imagenet\",     \n",
    "    in_channels=3,                  \n",
    "    classes=2,  \n",
    ")\n",
    "model = model.to(DEVICE)"
   ]
  },
  {
   "cell_type": "code",
   "execution_count": null,
   "metadata": {},
   "outputs": [],
   "source": [
    "criterion = monai.losses.GeneralizedDiceFocalLoss(softmax=True)\n",
    "optimizer = Lookahead(torch.optim.RAdam(model.parameters(), lr=LR))\n",
    "scheduler = torch.optim.lr_scheduler.CosineAnnealingWarmRestarts(optimizer, 5)\n",
    "\n",
    "dice_func = partial(\n",
    "    calc_metric, \n",
    "    metric_func=monai.metrics.DiceMetric(include_background=False, reduction=\"mean\"))\n",
    "\n",
    "callbacks = [\n",
    "    catalyst.dl.FunctionalMetricCallback(\n",
    "    input_key=\"logits\",\n",
    "    target_key=LABEL,\n",
    "    metric_fn=dice_func,\n",
    "    metric_key=\"dice\"\n",
    "    ),\n",
    "    catalyst.dl.OptimizerCallback(\n",
    "        metric_key=\"loss\", \n",
    "        accumulation_steps=ACCUM_STEPS),\n",
    "    catalyst.dl.EarlyStoppingCallback(\n",
    "        patience=EARLY_STOP_PATIENCE, \n",
    "        loader_key=\"valid\", \n",
    "        metric_key=\"loss\",\n",
    "        min_delta=1e-3,\n",
    "        minimize=True)\n",
    "]\n",
    "\n",
    "runner = catalyst.dl.SupervisedRunner(\n",
    "    input_key=IMAGE, \n",
    "    output_key=\"logits\", \n",
    "    target_key=LABEL, \n",
    "    loss_key=\"loss\"\n",
    ")"
   ]
  },
  {
   "cell_type": "code",
   "execution_count": null,
   "metadata": {},
   "outputs": [],
   "source": [
    "#get_added_data_load_transforms()({'image': '../data/additional_images/images/ENSG00000130165_lung_0.jpg', 'label': '../data/additional_images/images/ENSG00000130165_lung_0.jpg'})"
   ]
  },
  {
   "cell_type": "code",
   "execution_count": null,
   "metadata": {},
   "outputs": [],
   "source": [
    "#for d in tqdm(train_dl.dataset.data):\n",
    "#    d = train_dl.dataset.data[d]\n",
    "#    get_added_data_load_transforms()(d[IMAGE])\n",
    "    #try: get_added_data_load_transforms()(d[IMAGE])\n",
    "    ##except: \n",
    "    #    print(d)\n",
    "    #    break\n"
   ]
  },
  {
   "cell_type": "code",
   "execution_count": null,
   "metadata": {},
   "outputs": [],
   "source": [
    "#add_data2rle(\"../data/additional_images/images/ENSG00000130165_lung_0.jpg\").shape"
   ]
  },
  {
   "cell_type": "code",
   "execution_count": null,
   "metadata": {},
   "outputs": [],
   "source": []
  },
  {
   "cell_type": "code",
   "execution_count": null,
   "metadata": {},
   "outputs": [],
   "source": [
    "#iterdl = iter(train_dl)\n",
    "#for b in iterdl:\n",
    "#    X, y = b[IMAGE].to(DEVICE), b[LABEL].to(DEVICE)"
   ]
  },
  {
   "cell_type": "code",
   "execution_count": null,
   "metadata": {},
   "outputs": [],
   "source": []
  },
  {
   "cell_type": "code",
   "execution_count": null,
   "metadata": {},
   "outputs": [],
   "source": []
  },
  {
   "cell_type": "code",
   "execution_count": null,
   "metadata": {},
   "outputs": [],
   "source": []
  },
  {
   "cell_type": "code",
   "execution_count": null,
   "metadata": {},
   "outputs": [],
   "source": []
  },
  {
   "cell_type": "code",
   "execution_count": null,
   "metadata": {},
   "outputs": [],
   "source": [
    "runner.train(\n",
    "    model=model,\n",
    "    criterion=criterion,\n",
    "    optimizer=optimizer,\n",
    "    scheduler=scheduler,\n",
    "    loaders=loaders,\n",
    "    num_epochs=5,\n",
    "    callbacks=callbacks,\n",
    "    logdir=LOG_DIR/f\"{organ}_finetuned\",\n",
    "    valid_loader=\"valid\",\n",
    "    valid_metric=\"loss\",\n",
    "    minimize_valid_metric=True,\n",
    "    verbose=True,\n",
    "    timeit=False,\n",
    "    load_best_on_end=True\n",
    ")"
   ]
  },
  {
   "cell_type": "code",
   "execution_count": null,
   "metadata": {},
   "outputs": [],
   "source": [
    "thres = get_best_threshold(model, test_dl, metric_func=monai.metrics.DiceMetric(include_background=False, reduction=\"mean\"))\n",
    "thres"
   ]
  },
  {
   "cell_type": "markdown",
   "metadata": {},
   "source": [
    "seed: 3 -> test dice: 0.19762\n",
    "\n",
    "seed: 0 -> test dice: 0.19624\n",
    "\n",
    "seed: 2 -> test dice: 0.19212\n",
    "\n",
    "\n",
    "seed: 1 -> test dice: 0.18086\n",
    "\n",
    "\n",
    "\n",
    "\n",
    "\n"
   ]
  },
  {
   "cell_type": "code",
   "execution_count": null,
   "metadata": {},
   "outputs": [],
   "source": [
    "plot_results(model, test_dl, threshold=thres[0])"
   ]
  },
  {
   "cell_type": "code",
   "execution_count": null,
   "metadata": {},
   "outputs": [],
   "source": []
  }
 ],
 "metadata": {
  "kernelspec": {
   "display_name": "Python 3.9.12 ('hubmap_reboot')",
   "language": "python",
   "name": "python3"
  },
  "language_info": {
   "codemirror_mode": {
    "name": "ipython",
    "version": 3
   },
   "file_extension": ".py",
   "mimetype": "text/x-python",
   "name": "python",
   "nbconvert_exporter": "python",
   "pygments_lexer": "ipython3",
   "version": "3.9.12"
  },
  "orig_nbformat": 4,
  "vscode": {
   "interpreter": {
    "hash": "a41d83ab1b5d99694b0e2755cc1a9092b5b6bb1cb85044d4c03a072b08ac20f7"
   }
  }
 },
 "nbformat": 4,
 "nbformat_minor": 2
}
